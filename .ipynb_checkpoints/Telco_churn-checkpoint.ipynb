{
 "cells": [
  {
   "cell_type": "markdown",
   "id": "64e00419-cd11-4750-b0e1-db70679656a0",
   "metadata": {},
   "source": [
    "# 🔍 Telco Customer Churn Prediction 🚨\n",
    "\n",
    "This project aims to predict whether a telecom customer is likely to churn or stay, using machine learning techniques. The dataset is class-imbalanced, making it a perfect candidate for using SMOTE, feature selection, and ensemble modeling.\n",
    "\n",
    "**Objectives:**\n",
    "- Predict customer churn accurately\n",
    "- Use advanced preprocessing and ensemble voting\n",
    "- Optimize with Optuna and evaluate results using classification metrics\n"
   ]
  },
  {
   "cell_type": "code",
   "execution_count": 2,
   "id": "ac01a02e-fccd-4eb3-8051-9824dc7171b3",
   "metadata": {},
   "outputs": [],
   "source": [
    "import pandas as pd"
   ]
  },
  {
   "cell_type": "code",
   "execution_count": 3,
   "id": "9b705b88-db01-4594-92c2-881c2f7ff0fc",
   "metadata": {},
   "outputs": [],
   "source": [
    "import numpy as np"
   ]
  },
  {
   "cell_type": "markdown",
   "id": "8910e9ed-a2ca-4564-b967-1bc57c0b2c71",
   "metadata": {},
   "source": [
    "## 📁 Dataset Overview\n",
    "\n",
    "We begin by loading the Telco dataset and exploring its structure. This step helps identify missing values, datatypes, and categorical/numerical columns.\n"
   ]
  },
  {
   "cell_type": "code",
   "execution_count": 4,
   "id": "83535758-5a6c-40fd-924e-86a0bff5a133",
   "metadata": {},
   "outputs": [],
   "source": [
    "df = pd.read_csv(r\"C:\\Users\\ashis\\Downloads\\Telco\\WA_Fn-UseC_-Telco-Customer-Churn.csv\")"
   ]
  },
  {
   "cell_type": "code",
   "execution_count": 5,
   "id": "0e1faa6d-e699-45fe-9895-c2083d5968c0",
   "metadata": {},
   "outputs": [
    {
     "data": {
      "text/html": [
       "<div>\n",
       "<style scoped>\n",
       "    .dataframe tbody tr th:only-of-type {\n",
       "        vertical-align: middle;\n",
       "    }\n",
       "\n",
       "    .dataframe tbody tr th {\n",
       "        vertical-align: top;\n",
       "    }\n",
       "\n",
       "    .dataframe thead th {\n",
       "        text-align: right;\n",
       "    }\n",
       "</style>\n",
       "<table border=\"1\" class=\"dataframe\">\n",
       "  <thead>\n",
       "    <tr style=\"text-align: right;\">\n",
       "      <th></th>\n",
       "      <th>customerID</th>\n",
       "      <th>gender</th>\n",
       "      <th>SeniorCitizen</th>\n",
       "      <th>Partner</th>\n",
       "      <th>Dependents</th>\n",
       "      <th>tenure</th>\n",
       "      <th>PhoneService</th>\n",
       "      <th>MultipleLines</th>\n",
       "      <th>InternetService</th>\n",
       "      <th>OnlineSecurity</th>\n",
       "      <th>...</th>\n",
       "      <th>DeviceProtection</th>\n",
       "      <th>TechSupport</th>\n",
       "      <th>StreamingTV</th>\n",
       "      <th>StreamingMovies</th>\n",
       "      <th>Contract</th>\n",
       "      <th>PaperlessBilling</th>\n",
       "      <th>PaymentMethod</th>\n",
       "      <th>MonthlyCharges</th>\n",
       "      <th>TotalCharges</th>\n",
       "      <th>Churn</th>\n",
       "    </tr>\n",
       "  </thead>\n",
       "  <tbody>\n",
       "    <tr>\n",
       "      <th>0</th>\n",
       "      <td>7590-VHVEG</td>\n",
       "      <td>Female</td>\n",
       "      <td>0</td>\n",
       "      <td>Yes</td>\n",
       "      <td>No</td>\n",
       "      <td>1</td>\n",
       "      <td>No</td>\n",
       "      <td>No phone service</td>\n",
       "      <td>DSL</td>\n",
       "      <td>No</td>\n",
       "      <td>...</td>\n",
       "      <td>No</td>\n",
       "      <td>No</td>\n",
       "      <td>No</td>\n",
       "      <td>No</td>\n",
       "      <td>Month-to-month</td>\n",
       "      <td>Yes</td>\n",
       "      <td>Electronic check</td>\n",
       "      <td>29.85</td>\n",
       "      <td>29.85</td>\n",
       "      <td>No</td>\n",
       "    </tr>\n",
       "    <tr>\n",
       "      <th>1</th>\n",
       "      <td>5575-GNVDE</td>\n",
       "      <td>Male</td>\n",
       "      <td>0</td>\n",
       "      <td>No</td>\n",
       "      <td>No</td>\n",
       "      <td>34</td>\n",
       "      <td>Yes</td>\n",
       "      <td>No</td>\n",
       "      <td>DSL</td>\n",
       "      <td>Yes</td>\n",
       "      <td>...</td>\n",
       "      <td>Yes</td>\n",
       "      <td>No</td>\n",
       "      <td>No</td>\n",
       "      <td>No</td>\n",
       "      <td>One year</td>\n",
       "      <td>No</td>\n",
       "      <td>Mailed check</td>\n",
       "      <td>56.95</td>\n",
       "      <td>1889.5</td>\n",
       "      <td>No</td>\n",
       "    </tr>\n",
       "    <tr>\n",
       "      <th>2</th>\n",
       "      <td>3668-QPYBK</td>\n",
       "      <td>Male</td>\n",
       "      <td>0</td>\n",
       "      <td>No</td>\n",
       "      <td>No</td>\n",
       "      <td>2</td>\n",
       "      <td>Yes</td>\n",
       "      <td>No</td>\n",
       "      <td>DSL</td>\n",
       "      <td>Yes</td>\n",
       "      <td>...</td>\n",
       "      <td>No</td>\n",
       "      <td>No</td>\n",
       "      <td>No</td>\n",
       "      <td>No</td>\n",
       "      <td>Month-to-month</td>\n",
       "      <td>Yes</td>\n",
       "      <td>Mailed check</td>\n",
       "      <td>53.85</td>\n",
       "      <td>108.15</td>\n",
       "      <td>Yes</td>\n",
       "    </tr>\n",
       "    <tr>\n",
       "      <th>3</th>\n",
       "      <td>7795-CFOCW</td>\n",
       "      <td>Male</td>\n",
       "      <td>0</td>\n",
       "      <td>No</td>\n",
       "      <td>No</td>\n",
       "      <td>45</td>\n",
       "      <td>No</td>\n",
       "      <td>No phone service</td>\n",
       "      <td>DSL</td>\n",
       "      <td>Yes</td>\n",
       "      <td>...</td>\n",
       "      <td>Yes</td>\n",
       "      <td>Yes</td>\n",
       "      <td>No</td>\n",
       "      <td>No</td>\n",
       "      <td>One year</td>\n",
       "      <td>No</td>\n",
       "      <td>Bank transfer (automatic)</td>\n",
       "      <td>42.30</td>\n",
       "      <td>1840.75</td>\n",
       "      <td>No</td>\n",
       "    </tr>\n",
       "    <tr>\n",
       "      <th>4</th>\n",
       "      <td>9237-HQITU</td>\n",
       "      <td>Female</td>\n",
       "      <td>0</td>\n",
       "      <td>No</td>\n",
       "      <td>No</td>\n",
       "      <td>2</td>\n",
       "      <td>Yes</td>\n",
       "      <td>No</td>\n",
       "      <td>Fiber optic</td>\n",
       "      <td>No</td>\n",
       "      <td>...</td>\n",
       "      <td>No</td>\n",
       "      <td>No</td>\n",
       "      <td>No</td>\n",
       "      <td>No</td>\n",
       "      <td>Month-to-month</td>\n",
       "      <td>Yes</td>\n",
       "      <td>Electronic check</td>\n",
       "      <td>70.70</td>\n",
       "      <td>151.65</td>\n",
       "      <td>Yes</td>\n",
       "    </tr>\n",
       "  </tbody>\n",
       "</table>\n",
       "<p>5 rows × 21 columns</p>\n",
       "</div>"
      ],
      "text/plain": [
       "   customerID  gender  SeniorCitizen Partner Dependents  tenure PhoneService  \\\n",
       "0  7590-VHVEG  Female              0     Yes         No       1           No   \n",
       "1  5575-GNVDE    Male              0      No         No      34          Yes   \n",
       "2  3668-QPYBK    Male              0      No         No       2          Yes   \n",
       "3  7795-CFOCW    Male              0      No         No      45           No   \n",
       "4  9237-HQITU  Female              0      No         No       2          Yes   \n",
       "\n",
       "      MultipleLines InternetService OnlineSecurity  ... DeviceProtection  \\\n",
       "0  No phone service             DSL             No  ...               No   \n",
       "1                No             DSL            Yes  ...              Yes   \n",
       "2                No             DSL            Yes  ...               No   \n",
       "3  No phone service             DSL            Yes  ...              Yes   \n",
       "4                No     Fiber optic             No  ...               No   \n",
       "\n",
       "  TechSupport StreamingTV StreamingMovies        Contract PaperlessBilling  \\\n",
       "0          No          No              No  Month-to-month              Yes   \n",
       "1          No          No              No        One year               No   \n",
       "2          No          No              No  Month-to-month              Yes   \n",
       "3         Yes          No              No        One year               No   \n",
       "4          No          No              No  Month-to-month              Yes   \n",
       "\n",
       "               PaymentMethod MonthlyCharges  TotalCharges Churn  \n",
       "0           Electronic check          29.85         29.85    No  \n",
       "1               Mailed check          56.95        1889.5    No  \n",
       "2               Mailed check          53.85        108.15   Yes  \n",
       "3  Bank transfer (automatic)          42.30       1840.75    No  \n",
       "4           Electronic check          70.70        151.65   Yes  \n",
       "\n",
       "[5 rows x 21 columns]"
      ]
     },
     "execution_count": 5,
     "metadata": {},
     "output_type": "execute_result"
    }
   ],
   "source": [
    "df.head(5)"
   ]
  },
  {
   "cell_type": "code",
   "execution_count": 6,
   "id": "9329a826-20d9-4f46-a77e-08924f39f3e1",
   "metadata": {},
   "outputs": [
    {
     "data": {
      "text/html": [
       "<div>\n",
       "<style scoped>\n",
       "    .dataframe tbody tr th:only-of-type {\n",
       "        vertical-align: middle;\n",
       "    }\n",
       "\n",
       "    .dataframe tbody tr th {\n",
       "        vertical-align: top;\n",
       "    }\n",
       "\n",
       "    .dataframe thead th {\n",
       "        text-align: right;\n",
       "    }\n",
       "</style>\n",
       "<table border=\"1\" class=\"dataframe\">\n",
       "  <thead>\n",
       "    <tr style=\"text-align: right;\">\n",
       "      <th></th>\n",
       "      <th>customerID</th>\n",
       "      <th>gender</th>\n",
       "      <th>SeniorCitizen</th>\n",
       "      <th>Partner</th>\n",
       "      <th>Dependents</th>\n",
       "      <th>tenure</th>\n",
       "      <th>PhoneService</th>\n",
       "      <th>MultipleLines</th>\n",
       "      <th>InternetService</th>\n",
       "      <th>OnlineSecurity</th>\n",
       "      <th>...</th>\n",
       "      <th>DeviceProtection</th>\n",
       "      <th>TechSupport</th>\n",
       "      <th>StreamingTV</th>\n",
       "      <th>StreamingMovies</th>\n",
       "      <th>Contract</th>\n",
       "      <th>PaperlessBilling</th>\n",
       "      <th>PaymentMethod</th>\n",
       "      <th>MonthlyCharges</th>\n",
       "      <th>TotalCharges</th>\n",
       "      <th>Churn</th>\n",
       "    </tr>\n",
       "  </thead>\n",
       "  <tbody>\n",
       "    <tr>\n",
       "      <th>7038</th>\n",
       "      <td>6840-RESVB</td>\n",
       "      <td>Male</td>\n",
       "      <td>0</td>\n",
       "      <td>Yes</td>\n",
       "      <td>Yes</td>\n",
       "      <td>24</td>\n",
       "      <td>Yes</td>\n",
       "      <td>Yes</td>\n",
       "      <td>DSL</td>\n",
       "      <td>Yes</td>\n",
       "      <td>...</td>\n",
       "      <td>Yes</td>\n",
       "      <td>Yes</td>\n",
       "      <td>Yes</td>\n",
       "      <td>Yes</td>\n",
       "      <td>One year</td>\n",
       "      <td>Yes</td>\n",
       "      <td>Mailed check</td>\n",
       "      <td>84.80</td>\n",
       "      <td>1990.5</td>\n",
       "      <td>No</td>\n",
       "    </tr>\n",
       "    <tr>\n",
       "      <th>7039</th>\n",
       "      <td>2234-XADUH</td>\n",
       "      <td>Female</td>\n",
       "      <td>0</td>\n",
       "      <td>Yes</td>\n",
       "      <td>Yes</td>\n",
       "      <td>72</td>\n",
       "      <td>Yes</td>\n",
       "      <td>Yes</td>\n",
       "      <td>Fiber optic</td>\n",
       "      <td>No</td>\n",
       "      <td>...</td>\n",
       "      <td>Yes</td>\n",
       "      <td>No</td>\n",
       "      <td>Yes</td>\n",
       "      <td>Yes</td>\n",
       "      <td>One year</td>\n",
       "      <td>Yes</td>\n",
       "      <td>Credit card (automatic)</td>\n",
       "      <td>103.20</td>\n",
       "      <td>7362.9</td>\n",
       "      <td>No</td>\n",
       "    </tr>\n",
       "    <tr>\n",
       "      <th>7040</th>\n",
       "      <td>4801-JZAZL</td>\n",
       "      <td>Female</td>\n",
       "      <td>0</td>\n",
       "      <td>Yes</td>\n",
       "      <td>Yes</td>\n",
       "      <td>11</td>\n",
       "      <td>No</td>\n",
       "      <td>No phone service</td>\n",
       "      <td>DSL</td>\n",
       "      <td>Yes</td>\n",
       "      <td>...</td>\n",
       "      <td>No</td>\n",
       "      <td>No</td>\n",
       "      <td>No</td>\n",
       "      <td>No</td>\n",
       "      <td>Month-to-month</td>\n",
       "      <td>Yes</td>\n",
       "      <td>Electronic check</td>\n",
       "      <td>29.60</td>\n",
       "      <td>346.45</td>\n",
       "      <td>No</td>\n",
       "    </tr>\n",
       "    <tr>\n",
       "      <th>7041</th>\n",
       "      <td>8361-LTMKD</td>\n",
       "      <td>Male</td>\n",
       "      <td>1</td>\n",
       "      <td>Yes</td>\n",
       "      <td>No</td>\n",
       "      <td>4</td>\n",
       "      <td>Yes</td>\n",
       "      <td>Yes</td>\n",
       "      <td>Fiber optic</td>\n",
       "      <td>No</td>\n",
       "      <td>...</td>\n",
       "      <td>No</td>\n",
       "      <td>No</td>\n",
       "      <td>No</td>\n",
       "      <td>No</td>\n",
       "      <td>Month-to-month</td>\n",
       "      <td>Yes</td>\n",
       "      <td>Mailed check</td>\n",
       "      <td>74.40</td>\n",
       "      <td>306.6</td>\n",
       "      <td>Yes</td>\n",
       "    </tr>\n",
       "    <tr>\n",
       "      <th>7042</th>\n",
       "      <td>3186-AJIEK</td>\n",
       "      <td>Male</td>\n",
       "      <td>0</td>\n",
       "      <td>No</td>\n",
       "      <td>No</td>\n",
       "      <td>66</td>\n",
       "      <td>Yes</td>\n",
       "      <td>No</td>\n",
       "      <td>Fiber optic</td>\n",
       "      <td>Yes</td>\n",
       "      <td>...</td>\n",
       "      <td>Yes</td>\n",
       "      <td>Yes</td>\n",
       "      <td>Yes</td>\n",
       "      <td>Yes</td>\n",
       "      <td>Two year</td>\n",
       "      <td>Yes</td>\n",
       "      <td>Bank transfer (automatic)</td>\n",
       "      <td>105.65</td>\n",
       "      <td>6844.5</td>\n",
       "      <td>No</td>\n",
       "    </tr>\n",
       "  </tbody>\n",
       "</table>\n",
       "<p>5 rows × 21 columns</p>\n",
       "</div>"
      ],
      "text/plain": [
       "      customerID  gender  SeniorCitizen Partner Dependents  tenure  \\\n",
       "7038  6840-RESVB    Male              0     Yes        Yes      24   \n",
       "7039  2234-XADUH  Female              0     Yes        Yes      72   \n",
       "7040  4801-JZAZL  Female              0     Yes        Yes      11   \n",
       "7041  8361-LTMKD    Male              1     Yes         No       4   \n",
       "7042  3186-AJIEK    Male              0      No         No      66   \n",
       "\n",
       "     PhoneService     MultipleLines InternetService OnlineSecurity  ...  \\\n",
       "7038          Yes               Yes             DSL            Yes  ...   \n",
       "7039          Yes               Yes     Fiber optic             No  ...   \n",
       "7040           No  No phone service             DSL            Yes  ...   \n",
       "7041          Yes               Yes     Fiber optic             No  ...   \n",
       "7042          Yes                No     Fiber optic            Yes  ...   \n",
       "\n",
       "     DeviceProtection TechSupport StreamingTV StreamingMovies        Contract  \\\n",
       "7038              Yes         Yes         Yes             Yes        One year   \n",
       "7039              Yes          No         Yes             Yes        One year   \n",
       "7040               No          No          No              No  Month-to-month   \n",
       "7041               No          No          No              No  Month-to-month   \n",
       "7042              Yes         Yes         Yes             Yes        Two year   \n",
       "\n",
       "     PaperlessBilling              PaymentMethod MonthlyCharges  TotalCharges  \\\n",
       "7038              Yes               Mailed check          84.80        1990.5   \n",
       "7039              Yes    Credit card (automatic)         103.20        7362.9   \n",
       "7040              Yes           Electronic check          29.60        346.45   \n",
       "7041              Yes               Mailed check          74.40         306.6   \n",
       "7042              Yes  Bank transfer (automatic)         105.65        6844.5   \n",
       "\n",
       "     Churn  \n",
       "7038    No  \n",
       "7039    No  \n",
       "7040    No  \n",
       "7041   Yes  \n",
       "7042    No  \n",
       "\n",
       "[5 rows x 21 columns]"
      ]
     },
     "execution_count": 6,
     "metadata": {},
     "output_type": "execute_result"
    }
   ],
   "source": [
    "df.tail(5)"
   ]
  },
  {
   "cell_type": "code",
   "execution_count": 7,
   "id": "02da761e-10a0-44a6-8abf-a17e0fce7c7d",
   "metadata": {},
   "outputs": [],
   "source": [
    "df = df.drop(columns={'customerID'})"
   ]
  },
  {
   "cell_type": "code",
   "execution_count": 8,
   "id": "e74e4ef8-13af-4400-bda2-528f3afe36be",
   "metadata": {},
   "outputs": [
    {
     "data": {
      "text/plain": [
       "(7043, 20)"
      ]
     },
     "execution_count": 8,
     "metadata": {},
     "output_type": "execute_result"
    }
   ],
   "source": [
    "df.shape"
   ]
  },
  {
   "cell_type": "code",
   "execution_count": 9,
   "id": "67020fea-4c74-4c55-ab7d-05050511e601",
   "metadata": {
    "scrolled": true
   },
   "outputs": [
    {
     "name": "stdout",
     "output_type": "stream",
     "text": [
      "gender\n",
      "Male      3555\n",
      "Female    3488\n",
      "Name: count, dtype: int64\n",
      "---------------------------------------------------------------------------------\n",
      "-----------------------------------------------------------------------------------------\n",
      "SeniorCitizen\n",
      "0    5901\n",
      "1    1142\n",
      "Name: count, dtype: int64\n",
      "---------------------------------------------------------------------------------\n",
      "-----------------------------------------------------------------------------------------\n",
      "Partner\n",
      "No     3641\n",
      "Yes    3402\n",
      "Name: count, dtype: int64\n",
      "---------------------------------------------------------------------------------\n",
      "-----------------------------------------------------------------------------------------\n",
      "Dependents\n",
      "No     4933\n",
      "Yes    2110\n",
      "Name: count, dtype: int64\n",
      "---------------------------------------------------------------------------------\n",
      "-----------------------------------------------------------------------------------------\n",
      "tenure\n",
      "1     613\n",
      "72    362\n",
      "2     238\n",
      "3     200\n",
      "4     176\n",
      "71    170\n",
      "5     133\n",
      "7     131\n",
      "8     123\n",
      "70    119\n",
      "9     119\n",
      "12    117\n",
      "10    116\n",
      "6     110\n",
      "13    109\n",
      "68    100\n",
      "11     99\n",
      "15     99\n",
      "67     98\n",
      "18     97\n",
      "69     95\n",
      "24     94\n",
      "22     90\n",
      "66     89\n",
      "35     88\n",
      "17     87\n",
      "23     85\n",
      "16     80\n",
      "64     80\n",
      "56     80\n",
      "52     80\n",
      "26     79\n",
      "25     79\n",
      "61     76\n",
      "14     76\n",
      "65     76\n",
      "60     76\n",
      "46     74\n",
      "19     73\n",
      "29     72\n",
      "Name: count, dtype: int64\n",
      "---------------------------------------------------------------------------------\n",
      "-----------------------------------------------------------------------------------------\n",
      "PhoneService\n",
      "Yes    6361\n",
      "No      682\n",
      "Name: count, dtype: int64\n",
      "---------------------------------------------------------------------------------\n",
      "-----------------------------------------------------------------------------------------\n",
      "MultipleLines\n",
      "No                  3390\n",
      "Yes                 2971\n",
      "No phone service     682\n",
      "Name: count, dtype: int64\n",
      "---------------------------------------------------------------------------------\n",
      "-----------------------------------------------------------------------------------------\n",
      "InternetService\n",
      "Fiber optic    3096\n",
      "DSL            2421\n",
      "No             1526\n",
      "Name: count, dtype: int64\n",
      "---------------------------------------------------------------------------------\n",
      "-----------------------------------------------------------------------------------------\n",
      "OnlineSecurity\n",
      "No                     3498\n",
      "Yes                    2019\n",
      "No internet service    1526\n",
      "Name: count, dtype: int64\n",
      "---------------------------------------------------------------------------------\n",
      "-----------------------------------------------------------------------------------------\n",
      "OnlineBackup\n",
      "No                     3088\n",
      "Yes                    2429\n",
      "No internet service    1526\n",
      "Name: count, dtype: int64\n",
      "---------------------------------------------------------------------------------\n",
      "-----------------------------------------------------------------------------------------\n",
      "DeviceProtection\n",
      "No                     3095\n",
      "Yes                    2422\n",
      "No internet service    1526\n",
      "Name: count, dtype: int64\n",
      "---------------------------------------------------------------------------------\n",
      "-----------------------------------------------------------------------------------------\n",
      "TechSupport\n",
      "No                     3473\n",
      "Yes                    2044\n",
      "No internet service    1526\n",
      "Name: count, dtype: int64\n",
      "---------------------------------------------------------------------------------\n",
      "-----------------------------------------------------------------------------------------\n",
      "StreamingTV\n",
      "No                     2810\n",
      "Yes                    2707\n",
      "No internet service    1526\n",
      "Name: count, dtype: int64\n",
      "---------------------------------------------------------------------------------\n",
      "-----------------------------------------------------------------------------------------\n",
      "StreamingMovies\n",
      "No                     2785\n",
      "Yes                    2732\n",
      "No internet service    1526\n",
      "Name: count, dtype: int64\n",
      "---------------------------------------------------------------------------------\n",
      "-----------------------------------------------------------------------------------------\n",
      "Contract\n",
      "Month-to-month    3875\n",
      "Two year          1695\n",
      "One year          1473\n",
      "Name: count, dtype: int64\n",
      "---------------------------------------------------------------------------------\n",
      "-----------------------------------------------------------------------------------------\n",
      "PaperlessBilling\n",
      "Yes    4171\n",
      "No     2872\n",
      "Name: count, dtype: int64\n",
      "---------------------------------------------------------------------------------\n",
      "-----------------------------------------------------------------------------------------\n",
      "PaymentMethod\n",
      "Electronic check             2365\n",
      "Mailed check                 1612\n",
      "Bank transfer (automatic)    1544\n",
      "Credit card (automatic)      1522\n",
      "Name: count, dtype: int64\n",
      "---------------------------------------------------------------------------------\n",
      "-----------------------------------------------------------------------------------------\n",
      "MonthlyCharges\n",
      "20.05    61\n",
      "19.85    45\n",
      "19.95    44\n",
      "19.90    44\n",
      "20.00    43\n",
      "19.70    43\n",
      "19.65    43\n",
      "19.55    40\n",
      "20.15    40\n",
      "19.75    39\n",
      "20.25    39\n",
      "20.35    38\n",
      "19.80    38\n",
      "20.10    37\n",
      "19.60    37\n",
      "20.20    35\n",
      "19.50    32\n",
      "20.45    31\n",
      "19.40    31\n",
      "20.40    30\n",
      "19.45    28\n",
      "20.50    28\n",
      "20.30    28\n",
      "20.55    27\n",
      "19.35    25\n",
      "19.30    24\n",
      "20.65    23\n",
      "25.25    20\n",
      "25.10    19\n",
      "19.25    18\n",
      "25.00    17\n",
      "19.20    17\n",
      "84.80    17\n",
      "20.75    17\n",
      "74.40    16\n",
      "81.00    15\n",
      "24.80    15\n",
      "24.45    15\n",
      "20.60    15\n",
      "20.85    15\n",
      "Name: count, dtype: int64\n",
      "---------------------------------------------------------------------------------\n",
      "-----------------------------------------------------------------------------------------\n",
      "TotalCharges\n",
      "          11\n",
      "20.2      11\n",
      "19.75      9\n",
      "20.05      8\n",
      "19.9       8\n",
      "19.65      8\n",
      "45.3       7\n",
      "19.55      7\n",
      "20.15      6\n",
      "20.25      6\n",
      "19.45      6\n",
      "20.3       5\n",
      "20.45      5\n",
      "19.85      4\n",
      "69.9       4\n",
      "20.4       4\n",
      "70.6       4\n",
      "19.2       4\n",
      "69.65      4\n",
      "44         4\n",
      "44.4       4\n",
      "20.5       4\n",
      "49.9       4\n",
      "74.7       4\n",
      "19.3       4\n",
      "19.95      4\n",
      "19.5       4\n",
      "75.3       4\n",
      "50.15      4\n",
      "20.35      4\n",
      "69.6       4\n",
      "19.4       4\n",
      "69.95      4\n",
      "19.25      3\n",
      "70.45      3\n",
      "1284.2     3\n",
      "69.25      3\n",
      "74.3       3\n",
      "20.9       3\n",
      "220.45     3\n",
      "Name: count, dtype: int64\n",
      "---------------------------------------------------------------------------------\n",
      "-----------------------------------------------------------------------------------------\n",
      "Churn\n",
      "No     5174\n",
      "Yes    1869\n",
      "Name: count, dtype: int64\n",
      "---------------------------------------------------------------------------------\n",
      "-----------------------------------------------------------------------------------------\n"
     ]
    }
   ],
   "source": [
    "columns = df.columns\n",
    "\n",
    "for i in columns :\n",
    "    if i != 'customerID' :\n",
    "        print(df[i].value_counts().iloc[0:40])\n",
    "        print(\"---------------------------------------------------------------------------------\\n-----------------------------------------------------------------------------------------\")\n",
    "    "
   ]
  },
  {
   "cell_type": "code",
   "execution_count": 10,
   "id": "fc2919d1-8a52-4de6-8429-202704e38104",
   "metadata": {
    "scrolled": true
   },
   "outputs": [
    {
     "data": {
      "text/plain": [
       "TotalCharges\n",
       "          11\n",
       "20.2      11\n",
       "19.75      9\n",
       "20.05      8\n",
       "19.9       8\n",
       "19.65      8\n",
       "45.3       7\n",
       "19.55      7\n",
       "20.15      6\n",
       "20.25      6\n",
       "19.45      6\n",
       "20.3       5\n",
       "20.45      5\n",
       "19.85      4\n",
       "69.9       4\n",
       "20.4       4\n",
       "70.6       4\n",
       "19.2       4\n",
       "69.65      4\n",
       "44         4\n",
       "44.4       4\n",
       "20.5       4\n",
       "49.9       4\n",
       "74.7       4\n",
       "19.3       4\n",
       "19.95      4\n",
       "19.5       4\n",
       "75.3       4\n",
       "50.15      4\n",
       "20.35      4\n",
       "69.6       4\n",
       "19.4       4\n",
       "69.95      4\n",
       "19.25      3\n",
       "70.45      3\n",
       "1284.2     3\n",
       "69.25      3\n",
       "74.3       3\n",
       "20.9       3\n",
       "220.45     3\n",
       "Name: count, dtype: int64"
      ]
     },
     "execution_count": 10,
     "metadata": {},
     "output_type": "execute_result"
    }
   ],
   "source": [
    "df['TotalCharges'].value_counts().iloc[0:40]"
   ]
  },
  {
   "cell_type": "code",
   "execution_count": 11,
   "id": "1100e06c-c7bc-446f-83b6-96598c41336f",
   "metadata": {},
   "outputs": [],
   "source": [
    "df['TotalCharges'] = df['TotalCharges'].replace(\" \", np.nan)"
   ]
  },
  {
   "cell_type": "code",
   "execution_count": 12,
   "id": "adf2cb06-c6e7-47c6-85c4-10d8b8b7e792",
   "metadata": {},
   "outputs": [],
   "source": [
    "df['TotalCharges'] = pd.to_numeric(df['TotalCharges'])"
   ]
  },
  {
   "cell_type": "code",
   "execution_count": 13,
   "id": "10b0b2c1-592e-4637-a792-ebc9ab00dbf3",
   "metadata": {},
   "outputs": [
    {
     "name": "stdout",
     "output_type": "stream",
     "text": [
      "<class 'pandas.core.frame.DataFrame'>\n",
      "RangeIndex: 7043 entries, 0 to 7042\n",
      "Data columns (total 20 columns):\n",
      " #   Column            Non-Null Count  Dtype  \n",
      "---  ------            --------------  -----  \n",
      " 0   gender            7043 non-null   object \n",
      " 1   SeniorCitizen     7043 non-null   int64  \n",
      " 2   Partner           7043 non-null   object \n",
      " 3   Dependents        7043 non-null   object \n",
      " 4   tenure            7043 non-null   int64  \n",
      " 5   PhoneService      7043 non-null   object \n",
      " 6   MultipleLines     7043 non-null   object \n",
      " 7   InternetService   7043 non-null   object \n",
      " 8   OnlineSecurity    7043 non-null   object \n",
      " 9   OnlineBackup      7043 non-null   object \n",
      " 10  DeviceProtection  7043 non-null   object \n",
      " 11  TechSupport       7043 non-null   object \n",
      " 12  StreamingTV       7043 non-null   object \n",
      " 13  StreamingMovies   7043 non-null   object \n",
      " 14  Contract          7043 non-null   object \n",
      " 15  PaperlessBilling  7043 non-null   object \n",
      " 16  PaymentMethod     7043 non-null   object \n",
      " 17  MonthlyCharges    7043 non-null   float64\n",
      " 18  TotalCharges      7032 non-null   float64\n",
      " 19  Churn             7043 non-null   object \n",
      "dtypes: float64(2), int64(2), object(16)\n",
      "memory usage: 1.1+ MB\n"
     ]
    }
   ],
   "source": [
    "df.info()"
   ]
  },
  {
   "cell_type": "code",
   "execution_count": 14,
   "id": "844f1416-fb10-4570-9ca7-e45370d4250e",
   "metadata": {},
   "outputs": [
    {
     "data": {
      "text/html": [
       "<div>\n",
       "<style scoped>\n",
       "    .dataframe tbody tr th:only-of-type {\n",
       "        vertical-align: middle;\n",
       "    }\n",
       "\n",
       "    .dataframe tbody tr th {\n",
       "        vertical-align: top;\n",
       "    }\n",
       "\n",
       "    .dataframe thead th {\n",
       "        text-align: right;\n",
       "    }\n",
       "</style>\n",
       "<table border=\"1\" class=\"dataframe\">\n",
       "  <thead>\n",
       "    <tr style=\"text-align: right;\">\n",
       "      <th></th>\n",
       "      <th>SeniorCitizen</th>\n",
       "      <th>tenure</th>\n",
       "      <th>MonthlyCharges</th>\n",
       "      <th>TotalCharges</th>\n",
       "    </tr>\n",
       "  </thead>\n",
       "  <tbody>\n",
       "    <tr>\n",
       "      <th>count</th>\n",
       "      <td>7043.000000</td>\n",
       "      <td>7043.000000</td>\n",
       "      <td>7043.000000</td>\n",
       "      <td>7032.000000</td>\n",
       "    </tr>\n",
       "    <tr>\n",
       "      <th>mean</th>\n",
       "      <td>0.162147</td>\n",
       "      <td>32.371149</td>\n",
       "      <td>64.761692</td>\n",
       "      <td>2283.300441</td>\n",
       "    </tr>\n",
       "    <tr>\n",
       "      <th>std</th>\n",
       "      <td>0.368612</td>\n",
       "      <td>24.559481</td>\n",
       "      <td>30.090047</td>\n",
       "      <td>2266.771362</td>\n",
       "    </tr>\n",
       "    <tr>\n",
       "      <th>min</th>\n",
       "      <td>0.000000</td>\n",
       "      <td>0.000000</td>\n",
       "      <td>18.250000</td>\n",
       "      <td>18.800000</td>\n",
       "    </tr>\n",
       "    <tr>\n",
       "      <th>25%</th>\n",
       "      <td>0.000000</td>\n",
       "      <td>9.000000</td>\n",
       "      <td>35.500000</td>\n",
       "      <td>401.450000</td>\n",
       "    </tr>\n",
       "    <tr>\n",
       "      <th>50%</th>\n",
       "      <td>0.000000</td>\n",
       "      <td>29.000000</td>\n",
       "      <td>70.350000</td>\n",
       "      <td>1397.475000</td>\n",
       "    </tr>\n",
       "    <tr>\n",
       "      <th>75%</th>\n",
       "      <td>0.000000</td>\n",
       "      <td>55.000000</td>\n",
       "      <td>89.850000</td>\n",
       "      <td>3794.737500</td>\n",
       "    </tr>\n",
       "    <tr>\n",
       "      <th>max</th>\n",
       "      <td>1.000000</td>\n",
       "      <td>72.000000</td>\n",
       "      <td>118.750000</td>\n",
       "      <td>8684.800000</td>\n",
       "    </tr>\n",
       "  </tbody>\n",
       "</table>\n",
       "</div>"
      ],
      "text/plain": [
       "       SeniorCitizen       tenure  MonthlyCharges  TotalCharges\n",
       "count    7043.000000  7043.000000     7043.000000   7032.000000\n",
       "mean        0.162147    32.371149       64.761692   2283.300441\n",
       "std         0.368612    24.559481       30.090047   2266.771362\n",
       "min         0.000000     0.000000       18.250000     18.800000\n",
       "25%         0.000000     9.000000       35.500000    401.450000\n",
       "50%         0.000000    29.000000       70.350000   1397.475000\n",
       "75%         0.000000    55.000000       89.850000   3794.737500\n",
       "max         1.000000    72.000000      118.750000   8684.800000"
      ]
     },
     "execution_count": 14,
     "metadata": {},
     "output_type": "execute_result"
    }
   ],
   "source": [
    "df.describe()"
   ]
  },
  {
   "cell_type": "code",
   "execution_count": 15,
   "id": "ec7adb74-d71b-4d45-87f2-b5e5eca7e8b0",
   "metadata": {},
   "outputs": [],
   "source": [
    "for cols in df.columns :\n",
    "    if df[cols].dtype == 'int64' :\n",
    "        df[cols].astype('int32')\n",
    "    if df[cols].dtype == 'float64' :\n",
    "        df[cols].astype('float32')"
   ]
  },
  {
   "cell_type": "code",
   "execution_count": 16,
   "id": "32c2142c-2a88-4fd1-813c-42be52a7b028",
   "metadata": {},
   "outputs": [
    {
     "data": {
      "text/plain": [
       "gender\n",
       "Male      3555\n",
       "Female    3488\n",
       "Name: count, dtype: int64"
      ]
     },
     "execution_count": 16,
     "metadata": {},
     "output_type": "execute_result"
    }
   ],
   "source": [
    "df['gender'].value_counts()"
   ]
  },
  {
   "cell_type": "code",
   "execution_count": 17,
   "id": "a15d392d-7921-4406-89f0-8fe3c933f924",
   "metadata": {},
   "outputs": [
    {
     "data": {
      "text/plain": [
       "Partner\n",
       "No     3641\n",
       "Yes    3402\n",
       "Name: count, dtype: int64"
      ]
     },
     "execution_count": 17,
     "metadata": {},
     "output_type": "execute_result"
    }
   ],
   "source": [
    "df['Partner'].value_counts()"
   ]
  },
  {
   "cell_type": "code",
   "execution_count": 18,
   "id": "67a837d0-dc61-4351-bd7f-4decad516a9f",
   "metadata": {},
   "outputs": [
    {
     "data": {
      "text/plain": [
       "Contract\n",
       "Month-to-month    3875\n",
       "Two year          1695\n",
       "One year          1473\n",
       "Name: count, dtype: int64"
      ]
     },
     "execution_count": 18,
     "metadata": {},
     "output_type": "execute_result"
    }
   ],
   "source": [
    "df['Contract'].value_counts()"
   ]
  },
  {
   "cell_type": "code",
   "execution_count": 19,
   "id": "87485879-4b4c-40c1-8597-11261f8104ce",
   "metadata": {},
   "outputs": [],
   "source": [
    "from matplotlib import pyplot as plt"
   ]
  },
  {
   "cell_type": "code",
   "execution_count": 20,
   "id": "1b0d9fbb-1343-4ab7-9267-ed4e7dc75d8c",
   "metadata": {},
   "outputs": [
    {
     "data": {
      "image/png": "[encoded data removed]",
      "text/plain": [
       "<Figure size 1100x900 with 3 Axes>"
      ]
     },
     "metadata": {},
     "output_type": "display_data"
    }
   ],
   "source": [
    "fig, axs = plt.subplots(1,3, figsize=(11, 9))\n",
    "\n",
    "axs[0].pie(df['gender'].value_counts(), colors=['#819A91', '#A7C1A8'], startangle=40, explode=[0.05, 0], shadow=True, autopct='%1.1f%%')\n",
    "axs[0].legend(labels=['Male', 'Female'])\n",
    "axs[0].set_title('Gender Distribution')\n",
    "\n",
    "axs[1].pie(df['Partner'].value_counts(), colors=['#A4CCD9', '#C4E1E6'], startangle=40, explode=[0.05, 0], shadow=True, autopct='%1.1f%%')\n",
    "axs[1].legend(labels=['No', 'Yes'])\n",
    "axs[1].set_title('Relationship status')\n",
    "\n",
    "axs[2].pie(df['Contract'].value_counts(), colors=['#FCEF91', '#FB9E3A', '#EA2F14'], startangle=40, explode=[0, 0, 0.1], shadow=True, autopct='%1.1f%%')\n",
    "axs[2].legend(labels=['Month-TO-Month', 'Two Years', 'One Year'])\n",
    "axs[2].set_title('Contract Period')\n",
    "\n",
    "plt.tight_layout(pad=3)\n",
    "plt.show()"
   ]
  },
  {
   "cell_type": "code",
   "execution_count": 21,
   "id": "a2c90411-8dd7-4d41-ac0e-949f04f64ee5",
   "metadata": {},
   "outputs": [],
   "source": [
    "import seaborn as sns"
   ]
  },
  {
   "cell_type": "code",
   "execution_count": 22,
   "id": "6203cb3e-9ef7-45d1-9a37-8aee7778d24e",
   "metadata": {},
   "outputs": [
    {
     "data": {
      "text/plain": [
       "<function matplotlib.pyplot.show(close=None, block=None)>"
      ]
     },
     "execution_count": 22,
     "metadata": {},
     "output_type": "execute_result"
    },
    {
     "data": {
      "image/png": "[encoded data removed]",
      "text/plain": [
       "<Figure size 640x480 with 2 Axes>"
      ]
     },
     "metadata": {},
     "output_type": "display_data"
    }
   ],
   "source": [
    "sns.heatmap(df.corr(numeric_only=True))\n",
    "plt.show()"
   ]
  },
  {
   "cell_type": "code",
   "execution_count": 23,
   "id": "318ad77b-9e7b-4745-9ce4-988fd309ea28",
   "metadata": {},
   "outputs": [
    {
     "data": {
      "text/plain": [
       "gender               0\n",
       "SeniorCitizen        0\n",
       "Partner              0\n",
       "Dependents           0\n",
       "tenure               0\n",
       "PhoneService         0\n",
       "MultipleLines        0\n",
       "InternetService      0\n",
       "OnlineSecurity       0\n",
       "OnlineBackup         0\n",
       "DeviceProtection     0\n",
       "TechSupport          0\n",
       "StreamingTV          0\n",
       "StreamingMovies      0\n",
       "Contract             0\n",
       "PaperlessBilling     0\n",
       "PaymentMethod        0\n",
       "MonthlyCharges       0\n",
       "TotalCharges        11\n",
       "Churn                0\n",
       "dtype: int64"
      ]
     },
     "execution_count": 23,
     "metadata": {},
     "output_type": "execute_result"
    }
   ],
   "source": [
    "df.isnull().sum()"
   ]
  },
  {
   "cell_type": "markdown",
   "id": "4fc6417b-d9e7-44b7-b25e-423ee351d977",
   "metadata": {},
   "source": [
    "## 🧼 Data Preprocessing & Encoding\n",
    "\n",
    "To prepare the dataset:\n",
    "- Categorical columns are encoded using **BinaryEncoder** and **TargetEncoder**\n",
    "- Numerical values are scaled using **StandardScaler**\n",
    "- Missing values are handled appropriately\n",
    "\n",
    "These transformations are essential for ML models to understand the data effectively.\n"
   ]
  },
  {
   "cell_type": "code",
   "execution_count": 24,
   "id": "974d51de-45ee-47d2-989c-ea61a4392141",
   "metadata": {},
   "outputs": [],
   "source": [
    "from category_encoders import BinaryEncoder, TargetEncoder"
   ]
  },
  {
   "cell_type": "code",
   "execution_count": 25,
   "id": "88376312-eb5e-4858-9079-d99ed12da660",
   "metadata": {},
   "outputs": [],
   "source": [
    "be = BinaryEncoder(handle_missing='value', handle_unknown='value', drop_invariant=False)"
   ]
  },
  {
   "cell_type": "code",
   "execution_count": 26,
   "id": "64773bb9-a0c0-4395-9d54-a55a689f8445",
   "metadata": {},
   "outputs": [],
   "source": [
    "te = TargetEncoder()"
   ]
  },
  {
   "cell_type": "code",
   "execution_count": 27,
   "id": "dcca9aab-bff8-4c41-bea3-bf1ea03cda87",
   "metadata": {},
   "outputs": [],
   "source": [
    "from sklearn.preprocessing import OneHotEncoder, StandardScaler"
   ]
  },
  {
   "cell_type": "code",
   "execution_count": 28,
   "id": "b1173428-f3c7-4b20-a5b1-76b74ad84a47",
   "metadata": {},
   "outputs": [],
   "source": [
    "ohe = OneHotEncoder(handle_unknown='ignore', sparse_output=False)"
   ]
  },
  {
   "cell_type": "code",
   "execution_count": 29,
   "id": "679226d5-42e8-4e22-b717-4364a6b328d5",
   "metadata": {},
   "outputs": [],
   "source": [
    "ss = StandardScaler()"
   ]
  },
  {
   "cell_type": "code",
   "execution_count": 30,
   "id": "143e20b7-88a1-41fe-a7f9-dc187f34218b",
   "metadata": {},
   "outputs": [],
   "source": [
    "from sklearn.impute import SimpleImputer"
   ]
  },
  {
   "cell_type": "code",
   "execution_count": 31,
   "id": "9c51eedf-2dd3-4a39-96bb-77359513a820",
   "metadata": {},
   "outputs": [],
   "source": [
    "simple = SimpleImputer(strategy='mean')"
   ]
  },
  {
   "cell_type": "code",
   "execution_count": 32,
   "id": "fe0ea8c3-2839-4208-b177-670d6248f277",
   "metadata": {},
   "outputs": [],
   "source": [
    "df['TotalCharges'] = simple.fit_transform(df[['TotalCharges']])"
   ]
  },
  {
   "cell_type": "code",
   "execution_count": 33,
   "id": "6d11fe8c-836b-4222-a6e1-70a41a9c9d71",
   "metadata": {},
   "outputs": [
    {
     "name": "stdout",
     "output_type": "stream",
     "text": [
      "------------Categorical columns: \n",
      " ['MultipleLines', 'InternetService', 'OnlineSecurity', 'OnlineBackup', 'DeviceProtection', 'TechSupport', 'StreamingTV', 'StreamingMovies', 'Contract', 'PaymentMethod'] \n",
      "\n",
      "\n",
      "-----------------Numeric columns for one hot encode: \n",
      " ['SeniorCitizen', 'tenure', 'MonthlyCharges', 'TotalCharges']\n",
      "-----------------categorical columns for Binary encoding: \n",
      " ['gender', 'Partner', 'Dependents', 'PhoneService', 'PaperlessBilling']\n"
     ]
    }
   ],
   "source": [
    "categorical_cols = []\n",
    "num_cols = []\n",
    "bin_num_col = []\n",
    "\n",
    "not_col = ['customerID', 'Churn']\n",
    "\n",
    "for category in df.columns :\n",
    "    if category not in not_col :\n",
    "        if df[category].dtype == 'object':\n",
    "            if df[category].nunique() == 2 :\n",
    "                bin_num_col.append(category)\n",
    "            else :\n",
    "                categorical_cols.append(category)\n",
    "        else :\n",
    "            num_cols.append(category)\n",
    "\n",
    "print('------------Categorical columns: \\n', categorical_cols, '\\n\\n')\n",
    "print('-----------------Numeric columns for one hot encode: \\n', num_cols)\n",
    "print('-----------------categorical columns for Binary encoding: \\n', bin_num_col)"
   ]
  },
  {
   "cell_type": "markdown",
   "id": "a3f8081b-319d-4123-a4fc-29176a0b6150",
   "metadata": {},
   "source": [
    "## 🔗 Feature Relationships: Pairplot\n",
    "\n",
    "Let’s visualize the relationships between some key features using `seaborn.pairplot()`. This helps us understand:\n",
    "- Which features are correlated\n",
    "- How churn (target variable) separates clusters\n"
   ]
  },
  {
   "cell_type": "code",
   "execution_count": 187,
   "id": "bf86d389-13aa-489b-af65-20d0b054aea3",
   "metadata": {},
   "outputs": [
    {
     "data": {
      "image/png": "[encoded data removed]",
      "text/plain": [
       "<Figure size 1058.88x1000 with 20 Axes>"
      ]
     },
     "metadata": {},
     "output_type": "display_data"
    }
   ],
   "source": [
    "num_cols.append('Churn')\n",
    "\n",
    "sns.pairplot(df[num_cols], hue=\"Churn\", palette='coolwarm')\n",
    "plt.suptitle(\"Pairplot of Important Features by Churn\", y=1.02)\n",
    "plt.show()\n",
    "\n",
    "num_cols.remove('Churn')"
   ]
  },
  {
   "cell_type": "code",
   "execution_count": 34,
   "id": "d1c03b7b-ff80-4449-90a5-1bcf2f3c131c",
   "metadata": {},
   "outputs": [],
   "source": [
    "from sklearn.compose import make_column_transformer"
   ]
  },
  {
   "cell_type": "code",
   "execution_count": 35,
   "id": "1ff9db7a-6e43-4647-a022-a9f21ac39f01",
   "metadata": {},
   "outputs": [],
   "source": [
    "transform = make_column_transformer(\n",
    "    (be, bin_num_col),\n",
    "    (ss, num_cols)\n",
    ")"
   ]
  },
  {
   "cell_type": "code",
   "execution_count": 36,
   "id": "e1c884e3-a5e8-49b7-a291-85052f51fa3f",
   "metadata": {},
   "outputs": [],
   "source": [
    "from sklearn.ensemble import RandomForestClassifier"
   ]
  },
  {
   "cell_type": "code",
   "execution_count": 37,
   "id": "9fc6eef1-cada-4b89-87b2-897708f95a5c",
   "metadata": {},
   "outputs": [],
   "source": [
    "rfc = RandomForestClassifier(random_state=42)"
   ]
  },
  {
   "cell_type": "code",
   "execution_count": 38,
   "id": "92a6e194-3eba-44f5-853b-ba8088341e01",
   "metadata": {},
   "outputs": [],
   "source": [
    "X = df.drop(columns={'Churn'})"
   ]
  },
  {
   "cell_type": "code",
   "execution_count": 39,
   "id": "d1f8c783-ca32-4f17-9fd8-cc3adb67b84f",
   "metadata": {},
   "outputs": [
    {
     "name": "stderr",
     "output_type": "stream",
     "text": [
      "C:\\Users\\ashis\\AppData\\Local\\Temp\\ipykernel_10228\\2341387129.py:1: FutureWarning: Downcasting behavior in `replace` is deprecated and will be removed in a future version. To retain the old behavior, explicitly call `result.infer_objects(copy=False)`. To opt-in to the future behavior, set `pd.set_option('future.no_silent_downcasting', True)`\n",
      "  df['Churn'] = df['Churn'].replace({'Yes': 1, 'No': 0})\n"
     ]
    }
   ],
   "source": [
    "df['Churn'] = df['Churn'].replace({'Yes': 1, 'No': 0})\n",
    "df['Churn'] = df['Churn'].astype(int)\n",
    "y = df['Churn']"
   ]
  },
  {
   "cell_type": "markdown",
   "id": "206e6298-7af7-4b24-bf1d-e85db1f3dc30",
   "metadata": {},
   "source": [
    "## ✂️ Train-Test Split\n",
    "\n",
    "We split the data into training and testing sets to evaluate model performance fairly. The split ensures the target label distribution is preserved.\n"
   ]
  },
  {
   "cell_type": "code",
   "execution_count": 40,
   "id": "58a7a82e-5fde-45d9-b640-26bddaeac12c",
   "metadata": {},
   "outputs": [],
   "source": [
    "from sklearn.model_selection import train_test_split"
   ]
  },
  {
   "cell_type": "code",
   "execution_count": 41,
   "id": "4c05813c-7ec8-4c92-a5f9-1e77178bb1ec",
   "metadata": {},
   "outputs": [],
   "source": [
    "X_train, X_test, y_train, y_test = train_test_split(X, y, random_state=42, test_size=0.3)"
   ]
  },
  {
   "cell_type": "code",
   "execution_count": 42,
   "id": "a65bf210-f771-4a6f-abba-469746320d1c",
   "metadata": {
    "scrolled": true
   },
   "outputs": [
    {
     "name": "stderr",
     "output_type": "stream",
     "text": [
      "C:\\Users\\ashis\\anaconda3\\envs\\py310_env\\lib\\site-packages\\category_encoders\\ordinal.py:210: FutureWarning: A value is trying to be set on a copy of a DataFrame or Series through chained assignment using an inplace method.\n",
      "The behavior will change in pandas 3.0. This inplace method will never work because the intermediate object on which we are setting values always behaves as a copy.\n",
      "\n",
      "For example, when doing 'df[col].method(value, inplace=True)', try using 'df.method({col: value}, inplace=True)' or df[col] = df[col].method(value) instead, to perform the operation inplace on the original object.\n",
      "\n",
      "\n",
      "  X[column].fillna(-1, inplace=True)\n",
      "C:\\Users\\ashis\\anaconda3\\envs\\py310_env\\lib\\site-packages\\category_encoders\\ordinal.py:210: FutureWarning: A value is trying to be set on a copy of a DataFrame or Series through chained assignment using an inplace method.\n",
      "The behavior will change in pandas 3.0. This inplace method will never work because the intermediate object on which we are setting values always behaves as a copy.\n",
      "\n",
      "For example, when doing 'df[col].method(value, inplace=True)', try using 'df.method({col: value}, inplace=True)' or df[col] = df[col].method(value) instead, to perform the operation inplace on the original object.\n",
      "\n",
      "\n",
      "  X[column].fillna(-1, inplace=True)\n",
      "C:\\Users\\ashis\\anaconda3\\envs\\py310_env\\lib\\site-packages\\category_encoders\\ordinal.py:210: FutureWarning: A value is trying to be set on a copy of a DataFrame or Series through chained assignment using an inplace method.\n",
      "The behavior will change in pandas 3.0. This inplace method will never work because the intermediate object on which we are setting values always behaves as a copy.\n",
      "\n",
      "For example, when doing 'df[col].method(value, inplace=True)', try using 'df.method({col: value}, inplace=True)' or df[col] = df[col].method(value) instead, to perform the operation inplace on the original object.\n",
      "\n",
      "\n",
      "  X[column].fillna(-1, inplace=True)\n",
      "C:\\Users\\ashis\\anaconda3\\envs\\py310_env\\lib\\site-packages\\category_encoders\\ordinal.py:210: FutureWarning: A value is trying to be set on a copy of a DataFrame or Series through chained assignment using an inplace method.\n",
      "The behavior will change in pandas 3.0. This inplace method will never work because the intermediate object on which we are setting values always behaves as a copy.\n",
      "\n",
      "For example, when doing 'df[col].method(value, inplace=True)', try using 'df.method({col: value}, inplace=True)' or df[col] = df[col].method(value) instead, to perform the operation inplace on the original object.\n",
      "\n",
      "\n",
      "  X[column].fillna(-1, inplace=True)\n",
      "C:\\Users\\ashis\\anaconda3\\envs\\py310_env\\lib\\site-packages\\category_encoders\\ordinal.py:210: FutureWarning: A value is trying to be set on a copy of a DataFrame or Series through chained assignment using an inplace method.\n",
      "The behavior will change in pandas 3.0. This inplace method will never work because the intermediate object on which we are setting values always behaves as a copy.\n",
      "\n",
      "For example, when doing 'df[col].method(value, inplace=True)', try using 'df.method({col: value}, inplace=True)' or df[col] = df[col].method(value) instead, to perform the operation inplace on the original object.\n",
      "\n",
      "\n",
      "  X[column].fillna(-1, inplace=True)\n",
      "C:\\Users\\ashis\\anaconda3\\envs\\py310_env\\lib\\site-packages\\category_encoders\\ordinal.py:210: FutureWarning: A value is trying to be set on a copy of a DataFrame or Series through chained assignment using an inplace method.\n",
      "The behavior will change in pandas 3.0. This inplace method will never work because the intermediate object on which we are setting values always behaves as a copy.\n",
      "\n",
      "For example, when doing 'df[col].method(value, inplace=True)', try using 'df.method({col: value}, inplace=True)' or df[col] = df[col].method(value) instead, to perform the operation inplace on the original object.\n",
      "\n",
      "\n",
      "  X[column].fillna(-1, inplace=True)\n",
      "C:\\Users\\ashis\\anaconda3\\envs\\py310_env\\lib\\site-packages\\category_encoders\\ordinal.py:210: FutureWarning: A value is trying to be set on a copy of a DataFrame or Series through chained assignment using an inplace method.\n",
      "The behavior will change in pandas 3.0. This inplace method will never work because the intermediate object on which we are setting values always behaves as a copy.\n",
      "\n",
      "For example, when doing 'df[col].method(value, inplace=True)', try using 'df.method({col: value}, inplace=True)' or df[col] = df[col].method(value) instead, to perform the operation inplace on the original object.\n",
      "\n",
      "\n",
      "  X[column].fillna(-1, inplace=True)\n",
      "C:\\Users\\ashis\\anaconda3\\envs\\py310_env\\lib\\site-packages\\category_encoders\\ordinal.py:210: FutureWarning: A value is trying to be set on a copy of a DataFrame or Series through chained assignment using an inplace method.\n",
      "The behavior will change in pandas 3.0. This inplace method will never work because the intermediate object on which we are setting values always behaves as a copy.\n",
      "\n",
      "For example, when doing 'df[col].method(value, inplace=True)', try using 'df.method({col: value}, inplace=True)' or df[col] = df[col].method(value) instead, to perform the operation inplace on the original object.\n",
      "\n",
      "\n",
      "  X[column].fillna(-1, inplace=True)\n",
      "C:\\Users\\ashis\\anaconda3\\envs\\py310_env\\lib\\site-packages\\category_encoders\\ordinal.py:210: FutureWarning: A value is trying to be set on a copy of a DataFrame or Series through chained assignment using an inplace method.\n",
      "The behavior will change in pandas 3.0. This inplace method will never work because the intermediate object on which we are setting values always behaves as a copy.\n",
      "\n",
      "For example, when doing 'df[col].method(value, inplace=True)', try using 'df.method({col: value}, inplace=True)' or df[col] = df[col].method(value) instead, to perform the operation inplace on the original object.\n",
      "\n",
      "\n",
      "  X[column].fillna(-1, inplace=True)\n",
      "C:\\Users\\ashis\\anaconda3\\envs\\py310_env\\lib\\site-packages\\category_encoders\\ordinal.py:210: FutureWarning: A value is trying to be set on a copy of a DataFrame or Series through chained assignment using an inplace method.\n",
      "The behavior will change in pandas 3.0. This inplace method will never work because the intermediate object on which we are setting values always behaves as a copy.\n",
      "\n",
      "For example, when doing 'df[col].method(value, inplace=True)', try using 'df.method({col: value}, inplace=True)' or df[col] = df[col].method(value) instead, to perform the operation inplace on the original object.\n",
      "\n",
      "\n",
      "  X[column].fillna(-1, inplace=True)\n",
      "C:\\Users\\ashis\\anaconda3\\envs\\py310_env\\lib\\site-packages\\category_encoders\\ordinal.py:210: FutureWarning: A value is trying to be set on a copy of a DataFrame or Series through chained assignment using an inplace method.\n",
      "The behavior will change in pandas 3.0. This inplace method will never work because the intermediate object on which we are setting values always behaves as a copy.\n",
      "\n",
      "For example, when doing 'df[col].method(value, inplace=True)', try using 'df.method({col: value}, inplace=True)' or df[col] = df[col].method(value) instead, to perform the operation inplace on the original object.\n",
      "\n",
      "\n",
      "  X[column].fillna(-1, inplace=True)\n",
      "C:\\Users\\ashis\\anaconda3\\envs\\py310_env\\lib\\site-packages\\category_encoders\\ordinal.py:210: FutureWarning: A value is trying to be set on a copy of a DataFrame or Series through chained assignment using an inplace method.\n",
      "The behavior will change in pandas 3.0. This inplace method will never work because the intermediate object on which we are setting values always behaves as a copy.\n",
      "\n",
      "For example, when doing 'df[col].method(value, inplace=True)', try using 'df.method({col: value}, inplace=True)' or df[col] = df[col].method(value) instead, to perform the operation inplace on the original object.\n",
      "\n",
      "\n",
      "  X[column].fillna(-1, inplace=True)\n",
      "C:\\Users\\ashis\\anaconda3\\envs\\py310_env\\lib\\site-packages\\category_encoders\\ordinal.py:210: FutureWarning: A value is trying to be set on a copy of a DataFrame or Series through chained assignment using an inplace method.\n",
      "The behavior will change in pandas 3.0. This inplace method will never work because the intermediate object on which we are setting values always behaves as a copy.\n",
      "\n",
      "For example, when doing 'df[col].method(value, inplace=True)', try using 'df.method({col: value}, inplace=True)' or df[col] = df[col].method(value) instead, to perform the operation inplace on the original object.\n",
      "\n",
      "\n",
      "  X[column].fillna(-1, inplace=True)\n",
      "C:\\Users\\ashis\\anaconda3\\envs\\py310_env\\lib\\site-packages\\category_encoders\\ordinal.py:210: FutureWarning: A value is trying to be set on a copy of a DataFrame or Series through chained assignment using an inplace method.\n",
      "The behavior will change in pandas 3.0. This inplace method will never work because the intermediate object on which we are setting values always behaves as a copy.\n",
      "\n",
      "For example, when doing 'df[col].method(value, inplace=True)', try using 'df.method({col: value}, inplace=True)' or df[col] = df[col].method(value) instead, to perform the operation inplace on the original object.\n",
      "\n",
      "\n",
      "  X[column].fillna(-1, inplace=True)\n",
      "C:\\Users\\ashis\\anaconda3\\envs\\py310_env\\lib\\site-packages\\category_encoders\\ordinal.py:210: FutureWarning: A value is trying to be set on a copy of a DataFrame or Series through chained assignment using an inplace method.\n",
      "The behavior will change in pandas 3.0. This inplace method will never work because the intermediate object on which we are setting values always behaves as a copy.\n",
      "\n",
      "For example, when doing 'df[col].method(value, inplace=True)', try using 'df.method({col: value}, inplace=True)' or df[col] = df[col].method(value) instead, to perform the operation inplace on the original object.\n",
      "\n",
      "\n",
      "  X[column].fillna(-1, inplace=True)\n",
      "C:\\Users\\ashis\\anaconda3\\envs\\py310_env\\lib\\site-packages\\category_encoders\\ordinal.py:210: FutureWarning: A value is trying to be set on a copy of a DataFrame or Series through chained assignment using an inplace method.\n",
      "The behavior will change in pandas 3.0. This inplace method will never work because the intermediate object on which we are setting values always behaves as a copy.\n",
      "\n",
      "For example, when doing 'df[col].method(value, inplace=True)', try using 'df.method({col: value}, inplace=True)' or df[col] = df[col].method(value) instead, to perform the operation inplace on the original object.\n",
      "\n",
      "\n",
      "  X[column].fillna(-1, inplace=True)\n",
      "C:\\Users\\ashis\\anaconda3\\envs\\py310_env\\lib\\site-packages\\category_encoders\\ordinal.py:210: FutureWarning: A value is trying to be set on a copy of a DataFrame or Series through chained assignment using an inplace method.\n",
      "The behavior will change in pandas 3.0. This inplace method will never work because the intermediate object on which we are setting values always behaves as a copy.\n",
      "\n",
      "For example, when doing 'df[col].method(value, inplace=True)', try using 'df.method({col: value}, inplace=True)' or df[col] = df[col].method(value) instead, to perform the operation inplace on the original object.\n",
      "\n",
      "\n",
      "  X[column].fillna(-1, inplace=True)\n",
      "C:\\Users\\ashis\\anaconda3\\envs\\py310_env\\lib\\site-packages\\category_encoders\\ordinal.py:210: FutureWarning: A value is trying to be set on a copy of a DataFrame or Series through chained assignment using an inplace method.\n",
      "The behavior will change in pandas 3.0. This inplace method will never work because the intermediate object on which we are setting values always behaves as a copy.\n",
      "\n",
      "For example, when doing 'df[col].method(value, inplace=True)', try using 'df.method({col: value}, inplace=True)' or df[col] = df[col].method(value) instead, to perform the operation inplace on the original object.\n",
      "\n",
      "\n",
      "  X[column].fillna(-1, inplace=True)\n",
      "C:\\Users\\ashis\\anaconda3\\envs\\py310_env\\lib\\site-packages\\category_encoders\\ordinal.py:210: FutureWarning: A value is trying to be set on a copy of a DataFrame or Series through chained assignment using an inplace method.\n",
      "The behavior will change in pandas 3.0. This inplace method will never work because the intermediate object on which we are setting values always behaves as a copy.\n",
      "\n",
      "For example, when doing 'df[col].method(value, inplace=True)', try using 'df.method({col: value}, inplace=True)' or df[col] = df[col].method(value) instead, to perform the operation inplace on the original object.\n",
      "\n",
      "\n",
      "  X[column].fillna(-1, inplace=True)\n",
      "C:\\Users\\ashis\\anaconda3\\envs\\py310_env\\lib\\site-packages\\category_encoders\\ordinal.py:210: FutureWarning: A value is trying to be set on a copy of a DataFrame or Series through chained assignment using an inplace method.\n",
      "The behavior will change in pandas 3.0. This inplace method will never work because the intermediate object on which we are setting values always behaves as a copy.\n",
      "\n",
      "For example, when doing 'df[col].method(value, inplace=True)', try using 'df.method({col: value}, inplace=True)' or df[col] = df[col].method(value) instead, to perform the operation inplace on the original object.\n",
      "\n",
      "\n",
      "  X[column].fillna(-1, inplace=True)\n",
      "C:\\Users\\ashis\\anaconda3\\envs\\py310_env\\lib\\site-packages\\category_encoders\\ordinal.py:210: FutureWarning: A value is trying to be set on a copy of a DataFrame or Series through chained assignment using an inplace method.\n",
      "The behavior will change in pandas 3.0. This inplace method will never work because the intermediate object on which we are setting values always behaves as a copy.\n",
      "\n",
      "For example, when doing 'df[col].method(value, inplace=True)', try using 'df.method({col: value}, inplace=True)' or df[col] = df[col].method(value) instead, to perform the operation inplace on the original object.\n",
      "\n",
      "\n",
      "  X[column].fillna(-1, inplace=True)\n",
      "C:\\Users\\ashis\\anaconda3\\envs\\py310_env\\lib\\site-packages\\category_encoders\\ordinal.py:210: FutureWarning: A value is trying to be set on a copy of a DataFrame or Series through chained assignment using an inplace method.\n",
      "The behavior will change in pandas 3.0. This inplace method will never work because the intermediate object on which we are setting values always behaves as a copy.\n",
      "\n",
      "For example, when doing 'df[col].method(value, inplace=True)', try using 'df.method({col: value}, inplace=True)' or df[col] = df[col].method(value) instead, to perform the operation inplace on the original object.\n",
      "\n",
      "\n",
      "  X[column].fillna(-1, inplace=True)\n",
      "C:\\Users\\ashis\\anaconda3\\envs\\py310_env\\lib\\site-packages\\category_encoders\\ordinal.py:210: FutureWarning: A value is trying to be set on a copy of a DataFrame or Series through chained assignment using an inplace method.\n",
      "The behavior will change in pandas 3.0. This inplace method will never work because the intermediate object on which we are setting values always behaves as a copy.\n",
      "\n",
      "For example, when doing 'df[col].method(value, inplace=True)', try using 'df.method({col: value}, inplace=True)' or df[col] = df[col].method(value) instead, to perform the operation inplace on the original object.\n",
      "\n",
      "\n",
      "  X[column].fillna(-1, inplace=True)\n",
      "C:\\Users\\ashis\\anaconda3\\envs\\py310_env\\lib\\site-packages\\category_encoders\\ordinal.py:210: FutureWarning: A value is trying to be set on a copy of a DataFrame or Series through chained assignment using an inplace method.\n",
      "The behavior will change in pandas 3.0. This inplace method will never work because the intermediate object on which we are setting values always behaves as a copy.\n",
      "\n",
      "For example, when doing 'df[col].method(value, inplace=True)', try using 'df.method({col: value}, inplace=True)' or df[col] = df[col].method(value) instead, to perform the operation inplace on the original object.\n",
      "\n",
      "\n",
      "  X[column].fillna(-1, inplace=True)\n",
      "C:\\Users\\ashis\\anaconda3\\envs\\py310_env\\lib\\site-packages\\category_encoders\\ordinal.py:210: FutureWarning: A value is trying to be set on a copy of a DataFrame or Series through chained assignment using an inplace method.\n",
      "The behavior will change in pandas 3.0. This inplace method will never work because the intermediate object on which we are setting values always behaves as a copy.\n",
      "\n",
      "For example, when doing 'df[col].method(value, inplace=True)', try using 'df.method({col: value}, inplace=True)' or df[col] = df[col].method(value) instead, to perform the operation inplace on the original object.\n",
      "\n",
      "\n",
      "  X[column].fillna(-1, inplace=True)\n",
      "C:\\Users\\ashis\\anaconda3\\envs\\py310_env\\lib\\site-packages\\category_encoders\\ordinal.py:210: FutureWarning: A value is trying to be set on a copy of a DataFrame or Series through chained assignment using an inplace method.\n",
      "The behavior will change in pandas 3.0. This inplace method will never work because the intermediate object on which we are setting values always behaves as a copy.\n",
      "\n",
      "For example, when doing 'df[col].method(value, inplace=True)', try using 'df.method({col: value}, inplace=True)' or df[col] = df[col].method(value) instead, to perform the operation inplace on the original object.\n",
      "\n",
      "\n",
      "  X[column].fillna(-1, inplace=True)\n",
      "C:\\Users\\ashis\\anaconda3\\envs\\py310_env\\lib\\site-packages\\category_encoders\\ordinal.py:210: FutureWarning: A value is trying to be set on a copy of a DataFrame or Series through chained assignment using an inplace method.\n",
      "The behavior will change in pandas 3.0. This inplace method will never work because the intermediate object on which we are setting values always behaves as a copy.\n",
      "\n",
      "For example, when doing 'df[col].method(value, inplace=True)', try using 'df.method({col: value}, inplace=True)' or df[col] = df[col].method(value) instead, to perform the operation inplace on the original object.\n",
      "\n",
      "\n",
      "  X[column].fillna(-1, inplace=True)\n",
      "C:\\Users\\ashis\\anaconda3\\envs\\py310_env\\lib\\site-packages\\category_encoders\\ordinal.py:210: FutureWarning: A value is trying to be set on a copy of a DataFrame or Series through chained assignment using an inplace method.\n",
      "The behavior will change in pandas 3.0. This inplace method will never work because the intermediate object on which we are setting values always behaves as a copy.\n",
      "\n",
      "For example, when doing 'df[col].method(value, inplace=True)', try using 'df.method({col: value}, inplace=True)' or df[col] = df[col].method(value) instead, to perform the operation inplace on the original object.\n",
      "\n",
      "\n",
      "  X[column].fillna(-1, inplace=True)\n",
      "C:\\Users\\ashis\\anaconda3\\envs\\py310_env\\lib\\site-packages\\category_encoders\\ordinal.py:210: FutureWarning: A value is trying to be set on a copy of a DataFrame or Series through chained assignment using an inplace method.\n",
      "The behavior will change in pandas 3.0. This inplace method will never work because the intermediate object on which we are setting values always behaves as a copy.\n",
      "\n",
      "For example, when doing 'df[col].method(value, inplace=True)', try using 'df.method({col: value}, inplace=True)' or df[col] = df[col].method(value) instead, to perform the operation inplace on the original object.\n",
      "\n",
      "\n",
      "  X[column].fillna(-1, inplace=True)\n",
      "C:\\Users\\ashis\\anaconda3\\envs\\py310_env\\lib\\site-packages\\category_encoders\\ordinal.py:210: FutureWarning: A value is trying to be set on a copy of a DataFrame or Series through chained assignment using an inplace method.\n",
      "The behavior will change in pandas 3.0. This inplace method will never work because the intermediate object on which we are setting values always behaves as a copy.\n",
      "\n",
      "For example, when doing 'df[col].method(value, inplace=True)', try using 'df.method({col: value}, inplace=True)' or df[col] = df[col].method(value) instead, to perform the operation inplace on the original object.\n",
      "\n",
      "\n",
      "  X[column].fillna(-1, inplace=True)\n",
      "C:\\Users\\ashis\\anaconda3\\envs\\py310_env\\lib\\site-packages\\category_encoders\\ordinal.py:210: FutureWarning: A value is trying to be set on a copy of a DataFrame or Series through chained assignment using an inplace method.\n",
      "The behavior will change in pandas 3.0. This inplace method will never work because the intermediate object on which we are setting values always behaves as a copy.\n",
      "\n",
      "For example, when doing 'df[col].method(value, inplace=True)', try using 'df.method({col: value}, inplace=True)' or df[col] = df[col].method(value) instead, to perform the operation inplace on the original object.\n",
      "\n",
      "\n",
      "  X[column].fillna(-1, inplace=True)\n",
      "C:\\Users\\ashis\\anaconda3\\envs\\py310_env\\lib\\site-packages\\category_encoders\\ordinal.py:210: FutureWarning: A value is trying to be set on a copy of a DataFrame or Series through chained assignment using an inplace method.\n",
      "The behavior will change in pandas 3.0. This inplace method will never work because the intermediate object on which we are setting values always behaves as a copy.\n",
      "\n",
      "For example, when doing 'df[col].method(value, inplace=True)', try using 'df.method({col: value}, inplace=True)' or df[col] = df[col].method(value) instead, to perform the operation inplace on the original object.\n",
      "\n",
      "\n",
      "  X[column].fillna(-1, inplace=True)\n",
      "C:\\Users\\ashis\\anaconda3\\envs\\py310_env\\lib\\site-packages\\category_encoders\\ordinal.py:210: FutureWarning: A value is trying to be set on a copy of a DataFrame or Series through chained assignment using an inplace method.\n",
      "The behavior will change in pandas 3.0. This inplace method will never work because the intermediate object on which we are setting values always behaves as a copy.\n",
      "\n",
      "For example, when doing 'df[col].method(value, inplace=True)', try using 'df.method({col: value}, inplace=True)' or df[col] = df[col].method(value) instead, to perform the operation inplace on the original object.\n",
      "\n",
      "\n",
      "  X[column].fillna(-1, inplace=True)\n",
      "C:\\Users\\ashis\\anaconda3\\envs\\py310_env\\lib\\site-packages\\category_encoders\\ordinal.py:210: FutureWarning: A value is trying to be set on a copy of a DataFrame or Series through chained assignment using an inplace method.\n",
      "The behavior will change in pandas 3.0. This inplace method will never work because the intermediate object on which we are setting values always behaves as a copy.\n",
      "\n",
      "For example, when doing 'df[col].method(value, inplace=True)', try using 'df.method({col: value}, inplace=True)' or df[col] = df[col].method(value) instead, to perform the operation inplace on the original object.\n",
      "\n",
      "\n",
      "  X[column].fillna(-1, inplace=True)\n",
      "C:\\Users\\ashis\\anaconda3\\envs\\py310_env\\lib\\site-packages\\category_encoders\\ordinal.py:210: FutureWarning: A value is trying to be set on a copy of a DataFrame or Series through chained assignment using an inplace method.\n",
      "The behavior will change in pandas 3.0. This inplace method will never work because the intermediate object on which we are setting values always behaves as a copy.\n",
      "\n",
      "For example, when doing 'df[col].method(value, inplace=True)', try using 'df.method({col: value}, inplace=True)' or df[col] = df[col].method(value) instead, to perform the operation inplace on the original object.\n",
      "\n",
      "\n",
      "  X[column].fillna(-1, inplace=True)\n",
      "C:\\Users\\ashis\\anaconda3\\envs\\py310_env\\lib\\site-packages\\category_encoders\\ordinal.py:210: FutureWarning: A value is trying to be set on a copy of a DataFrame or Series through chained assignment using an inplace method.\n",
      "The behavior will change in pandas 3.0. This inplace method will never work because the intermediate object on which we are setting values always behaves as a copy.\n",
      "\n",
      "For example, when doing 'df[col].method(value, inplace=True)', try using 'df.method({col: value}, inplace=True)' or df[col] = df[col].method(value) instead, to perform the operation inplace on the original object.\n",
      "\n",
      "\n",
      "  X[column].fillna(-1, inplace=True)\n",
      "C:\\Users\\ashis\\anaconda3\\envs\\py310_env\\lib\\site-packages\\category_encoders\\ordinal.py:210: FutureWarning: A value is trying to be set on a copy of a DataFrame or Series through chained assignment using an inplace method.\n",
      "The behavior will change in pandas 3.0. This inplace method will never work because the intermediate object on which we are setting values always behaves as a copy.\n",
      "\n",
      "For example, when doing 'df[col].method(value, inplace=True)', try using 'df.method({col: value}, inplace=True)' or df[col] = df[col].method(value) instead, to perform the operation inplace on the original object.\n",
      "\n",
      "\n",
      "  X[column].fillna(-1, inplace=True)\n",
      "C:\\Users\\ashis\\anaconda3\\envs\\py310_env\\lib\\site-packages\\category_encoders\\ordinal.py:210: FutureWarning: A value is trying to be set on a copy of a DataFrame or Series through chained assignment using an inplace method.\n",
      "The behavior will change in pandas 3.0. This inplace method will never work because the intermediate object on which we are setting values always behaves as a copy.\n",
      "\n",
      "For example, when doing 'df[col].method(value, inplace=True)', try using 'df.method({col: value}, inplace=True)' or df[col] = df[col].method(value) instead, to perform the operation inplace on the original object.\n",
      "\n",
      "\n",
      "  X[column].fillna(-1, inplace=True)\n",
      "C:\\Users\\ashis\\anaconda3\\envs\\py310_env\\lib\\site-packages\\category_encoders\\ordinal.py:210: FutureWarning: A value is trying to be set on a copy of a DataFrame or Series through chained assignment using an inplace method.\n",
      "The behavior will change in pandas 3.0. This inplace method will never work because the intermediate object on which we are setting values always behaves as a copy.\n",
      "\n",
      "For example, when doing 'df[col].method(value, inplace=True)', try using 'df.method({col: value}, inplace=True)' or df[col] = df[col].method(value) instead, to perform the operation inplace on the original object.\n",
      "\n",
      "\n",
      "  X[column].fillna(-1, inplace=True)\n",
      "C:\\Users\\ashis\\anaconda3\\envs\\py310_env\\lib\\site-packages\\category_encoders\\ordinal.py:210: FutureWarning: A value is trying to be set on a copy of a DataFrame or Series through chained assignment using an inplace method.\n",
      "The behavior will change in pandas 3.0. This inplace method will never work because the intermediate object on which we are setting values always behaves as a copy.\n",
      "\n",
      "For example, when doing 'df[col].method(value, inplace=True)', try using 'df.method({col: value}, inplace=True)' or df[col] = df[col].method(value) instead, to perform the operation inplace on the original object.\n",
      "\n",
      "\n",
      "  X[column].fillna(-1, inplace=True)\n",
      "C:\\Users\\ashis\\anaconda3\\envs\\py310_env\\lib\\site-packages\\category_encoders\\ordinal.py:210: FutureWarning: A value is trying to be set on a copy of a DataFrame or Series through chained assignment using an inplace method.\n",
      "The behavior will change in pandas 3.0. This inplace method will never work because the intermediate object on which we are setting values always behaves as a copy.\n",
      "\n",
      "For example, when doing 'df[col].method(value, inplace=True)', try using 'df.method({col: value}, inplace=True)' or df[col] = df[col].method(value) instead, to perform the operation inplace on the original object.\n",
      "\n",
      "\n",
      "  X[column].fillna(-1, inplace=True)\n",
      "C:\\Users\\ashis\\anaconda3\\envs\\py310_env\\lib\\site-packages\\category_encoders\\ordinal.py:210: FutureWarning: A value is trying to be set on a copy of a DataFrame or Series through chained assignment using an inplace method.\n",
      "The behavior will change in pandas 3.0. This inplace method will never work because the intermediate object on which we are setting values always behaves as a copy.\n",
      "\n",
      "For example, when doing 'df[col].method(value, inplace=True)', try using 'df.method({col: value}, inplace=True)' or df[col] = df[col].method(value) instead, to perform the operation inplace on the original object.\n",
      "\n",
      "\n",
      "  X[column].fillna(-1, inplace=True)\n",
      "C:\\Users\\ashis\\anaconda3\\envs\\py310_env\\lib\\site-packages\\category_encoders\\ordinal.py:210: FutureWarning: A value is trying to be set on a copy of a DataFrame or Series through chained assignment using an inplace method.\n",
      "The behavior will change in pandas 3.0. This inplace method will never work because the intermediate object on which we are setting values always behaves as a copy.\n",
      "\n",
      "For example, when doing 'df[col].method(value, inplace=True)', try using 'df.method({col: value}, inplace=True)' or df[col] = df[col].method(value) instead, to perform the operation inplace on the original object.\n",
      "\n",
      "\n",
      "  X[column].fillna(-1, inplace=True)\n",
      "C:\\Users\\ashis\\anaconda3\\envs\\py310_env\\lib\\site-packages\\category_encoders\\ordinal.py:210: FutureWarning: A value is trying to be set on a copy of a DataFrame or Series through chained assignment using an inplace method.\n",
      "The behavior will change in pandas 3.0. This inplace method will never work because the intermediate object on which we are setting values always behaves as a copy.\n",
      "\n",
      "For example, when doing 'df[col].method(value, inplace=True)', try using 'df.method({col: value}, inplace=True)' or df[col] = df[col].method(value) instead, to perform the operation inplace on the original object.\n",
      "\n",
      "\n",
      "  X[column].fillna(-1, inplace=True)\n",
      "C:\\Users\\ashis\\anaconda3\\envs\\py310_env\\lib\\site-packages\\category_encoders\\ordinal.py:210: FutureWarning: A value is trying to be set on a copy of a DataFrame or Series through chained assignment using an inplace method.\n",
      "The behavior will change in pandas 3.0. This inplace method will never work because the intermediate object on which we are setting values always behaves as a copy.\n",
      "\n",
      "For example, when doing 'df[col].method(value, inplace=True)', try using 'df.method({col: value}, inplace=True)' or df[col] = df[col].method(value) instead, to perform the operation inplace on the original object.\n",
      "\n",
      "\n",
      "  X[column].fillna(-1, inplace=True)\n",
      "C:\\Users\\ashis\\anaconda3\\envs\\py310_env\\lib\\site-packages\\category_encoders\\ordinal.py:210: FutureWarning: A value is trying to be set on a copy of a DataFrame or Series through chained assignment using an inplace method.\n",
      "The behavior will change in pandas 3.0. This inplace method will never work because the intermediate object on which we are setting values always behaves as a copy.\n",
      "\n",
      "For example, when doing 'df[col].method(value, inplace=True)', try using 'df.method({col: value}, inplace=True)' or df[col] = df[col].method(value) instead, to perform the operation inplace on the original object.\n",
      "\n",
      "\n",
      "  X[column].fillna(-1, inplace=True)\n",
      "C:\\Users\\ashis\\anaconda3\\envs\\py310_env\\lib\\site-packages\\category_encoders\\ordinal.py:210: FutureWarning: A value is trying to be set on a copy of a DataFrame or Series through chained assignment using an inplace method.\n",
      "The behavior will change in pandas 3.0. This inplace method will never work because the intermediate object on which we are setting values always behaves as a copy.\n",
      "\n",
      "For example, when doing 'df[col].method(value, inplace=True)', try using 'df.method({col: value}, inplace=True)' or df[col] = df[col].method(value) instead, to perform the operation inplace on the original object.\n",
      "\n",
      "\n",
      "  X[column].fillna(-1, inplace=True)\n",
      "C:\\Users\\ashis\\anaconda3\\envs\\py310_env\\lib\\site-packages\\category_encoders\\ordinal.py:210: FutureWarning: A value is trying to be set on a copy of a DataFrame or Series through chained assignment using an inplace method.\n",
      "The behavior will change in pandas 3.0. This inplace method will never work because the intermediate object on which we are setting values always behaves as a copy.\n",
      "\n",
      "For example, when doing 'df[col].method(value, inplace=True)', try using 'df.method({col: value}, inplace=True)' or df[col] = df[col].method(value) instead, to perform the operation inplace on the original object.\n",
      "\n",
      "\n",
      "  X[column].fillna(-1, inplace=True)\n",
      "C:\\Users\\ashis\\anaconda3\\envs\\py310_env\\lib\\site-packages\\category_encoders\\ordinal.py:210: FutureWarning: A value is trying to be set on a copy of a DataFrame or Series through chained assignment using an inplace method.\n",
      "The behavior will change in pandas 3.0. This inplace method will never work because the intermediate object on which we are setting values always behaves as a copy.\n",
      "\n",
      "For example, when doing 'df[col].method(value, inplace=True)', try using 'df.method({col: value}, inplace=True)' or df[col] = df[col].method(value) instead, to perform the operation inplace on the original object.\n",
      "\n",
      "\n",
      "  X[column].fillna(-1, inplace=True)\n",
      "C:\\Users\\ashis\\anaconda3\\envs\\py310_env\\lib\\site-packages\\category_encoders\\ordinal.py:210: FutureWarning: A value is trying to be set on a copy of a DataFrame or Series through chained assignment using an inplace method.\n",
      "The behavior will change in pandas 3.0. This inplace method will never work because the intermediate object on which we are setting values always behaves as a copy.\n",
      "\n",
      "For example, when doing 'df[col].method(value, inplace=True)', try using 'df.method({col: value}, inplace=True)' or df[col] = df[col].method(value) instead, to perform the operation inplace on the original object.\n",
      "\n",
      "\n",
      "  X[column].fillna(-1, inplace=True)\n"
     ]
    }
   ],
   "source": [
    "X_train_te = X_train.copy()\n",
    "X_test_te = X_test.copy()\n",
    "\n",
    "X_train_te[categorical_cols] = te.fit_transform(X_train[categorical_cols], y_train)\n",
    "X_test_te[categorical_cols] = te.transform(X_test[categorical_cols], y_test)"
   ]
  },
  {
   "cell_type": "markdown",
   "id": "29c82532-7aaf-4389-a3cd-15f7f46b6edd",
   "metadata": {},
   "source": [
    "## ⚖️ Balancing Classes using SMOTE\n",
    "\n",
    "Churn prediction is an imbalanced classification problem. We use **SMOTE (Synthetic Minority Over-sampling Technique)** to oversample the minority class in the training data.\n"
   ]
  },
  {
   "cell_type": "code",
   "execution_count": 43,
   "id": "8186299f-38cd-450d-a3be-ad1dbd3e0a65",
   "metadata": {},
   "outputs": [],
   "source": [
    "from imblearn.over_sampling import SMOTE"
   ]
  },
  {
   "cell_type": "code",
   "execution_count": 44,
   "id": "f510f8cc-9ab9-4d57-9483-ae1177132a09",
   "metadata": {},
   "outputs": [],
   "source": [
    "smt = SMOTE(random_state=42)"
   ]
  },
  {
   "cell_type": "code",
   "execution_count": 45,
   "id": "76601693-cc54-43e3-aa9a-e46721b19ba9",
   "metadata": {},
   "outputs": [],
   "source": [
    "from imblearn.pipeline import Pipeline"
   ]
  },
  {
   "cell_type": "code",
   "execution_count": 46,
   "id": "b05046dd-4c5e-447c-b3a6-3e4fdeb989da",
   "metadata": {},
   "outputs": [],
   "source": [
    "pipe = Pipeline([\n",
    "    ('preprocessor', transform),\n",
    "    ('smote', smt),\n",
    "    ('classifier', rfc)\n",
    "])"
   ]
  },
  {
   "cell_type": "code",
   "execution_count": 47,
   "id": "674607bd-e3ec-41f0-bc6e-09d3dfc244fc",
   "metadata": {
    "scrolled": true
   },
   "outputs": [
    {
     "name": "stderr",
     "output_type": "stream",
     "text": [
      "C:\\Users\\ashis\\anaconda3\\envs\\py310_env\\lib\\site-packages\\category_encoders\\ordinal.py:210: FutureWarning: A value is trying to be set on a copy of a DataFrame or Series through chained assignment using an inplace method.\n",
      "The behavior will change in pandas 3.0. This inplace method will never work because the intermediate object on which we are setting values always behaves as a copy.\n",
      "\n",
      "For example, when doing 'df[col].method(value, inplace=True)', try using 'df.method({col: value}, inplace=True)' or df[col] = df[col].method(value) instead, to perform the operation inplace on the original object.\n",
      "\n",
      "\n",
      "  X[column].fillna(-1, inplace=True)\n",
      "C:\\Users\\ashis\\anaconda3\\envs\\py310_env\\lib\\site-packages\\category_encoders\\ordinal.py:210: FutureWarning: A value is trying to be set on a copy of a DataFrame or Series through chained assignment using an inplace method.\n",
      "The behavior will change in pandas 3.0. This inplace method will never work because the intermediate object on which we are setting values always behaves as a copy.\n",
      "\n",
      "For example, when doing 'df[col].method(value, inplace=True)', try using 'df.method({col: value}, inplace=True)' or df[col] = df[col].method(value) instead, to perform the operation inplace on the original object.\n",
      "\n",
      "\n",
      "  X[column].fillna(-1, inplace=True)\n",
      "C:\\Users\\ashis\\anaconda3\\envs\\py310_env\\lib\\site-packages\\category_encoders\\ordinal.py:210: FutureWarning: A value is trying to be set on a copy of a DataFrame or Series through chained assignment using an inplace method.\n",
      "The behavior will change in pandas 3.0. This inplace method will never work because the intermediate object on which we are setting values always behaves as a copy.\n",
      "\n",
      "For example, when doing 'df[col].method(value, inplace=True)', try using 'df.method({col: value}, inplace=True)' or df[col] = df[col].method(value) instead, to perform the operation inplace on the original object.\n",
      "\n",
      "\n",
      "  X[column].fillna(-1, inplace=True)\n",
      "C:\\Users\\ashis\\anaconda3\\envs\\py310_env\\lib\\site-packages\\category_encoders\\ordinal.py:210: FutureWarning: A value is trying to be set on a copy of a DataFrame or Series through chained assignment using an inplace method.\n",
      "The behavior will change in pandas 3.0. This inplace method will never work because the intermediate object on which we are setting values always behaves as a copy.\n",
      "\n",
      "For example, when doing 'df[col].method(value, inplace=True)', try using 'df.method({col: value}, inplace=True)' or df[col] = df[col].method(value) instead, to perform the operation inplace on the original object.\n",
      "\n",
      "\n",
      "  X[column].fillna(-1, inplace=True)\n",
      "C:\\Users\\ashis\\anaconda3\\envs\\py310_env\\lib\\site-packages\\category_encoders\\ordinal.py:210: FutureWarning: A value is trying to be set on a copy of a DataFrame or Series through chained assignment using an inplace method.\n",
      "The behavior will change in pandas 3.0. This inplace method will never work because the intermediate object on which we are setting values always behaves as a copy.\n",
      "\n",
      "For example, when doing 'df[col].method(value, inplace=True)', try using 'df.method({col: value}, inplace=True)' or df[col] = df[col].method(value) instead, to perform the operation inplace on the original object.\n",
      "\n",
      "\n",
      "  X[column].fillna(-1, inplace=True)\n",
      "C:\\Users\\ashis\\anaconda3\\envs\\py310_env\\lib\\site-packages\\category_encoders\\ordinal.py:210: FutureWarning: A value is trying to be set on a copy of a DataFrame or Series through chained assignment using an inplace method.\n",
      "The behavior will change in pandas 3.0. This inplace method will never work because the intermediate object on which we are setting values always behaves as a copy.\n",
      "\n",
      "For example, when doing 'df[col].method(value, inplace=True)', try using 'df.method({col: value}, inplace=True)' or df[col] = df[col].method(value) instead, to perform the operation inplace on the original object.\n",
      "\n",
      "\n",
      "  X[column].fillna(-1, inplace=True)\n",
      "C:\\Users\\ashis\\anaconda3\\envs\\py310_env\\lib\\site-packages\\category_encoders\\ordinal.py:210: FutureWarning: A value is trying to be set on a copy of a DataFrame or Series through chained assignment using an inplace method.\n",
      "The behavior will change in pandas 3.0. This inplace method will never work because the intermediate object on which we are setting values always behaves as a copy.\n",
      "\n",
      "For example, when doing 'df[col].method(value, inplace=True)', try using 'df.method({col: value}, inplace=True)' or df[col] = df[col].method(value) instead, to perform the operation inplace on the original object.\n",
      "\n",
      "\n",
      "  X[column].fillna(-1, inplace=True)\n",
      "C:\\Users\\ashis\\anaconda3\\envs\\py310_env\\lib\\site-packages\\category_encoders\\ordinal.py:210: FutureWarning: A value is trying to be set on a copy of a DataFrame or Series through chained assignment using an inplace method.\n",
      "The behavior will change in pandas 3.0. This inplace method will never work because the intermediate object on which we are setting values always behaves as a copy.\n",
      "\n",
      "For example, when doing 'df[col].method(value, inplace=True)', try using 'df.method({col: value}, inplace=True)' or df[col] = df[col].method(value) instead, to perform the operation inplace on the original object.\n",
      "\n",
      "\n",
      "  X[column].fillna(-1, inplace=True)\n",
      "C:\\Users\\ashis\\anaconda3\\envs\\py310_env\\lib\\site-packages\\category_encoders\\ordinal.py:210: FutureWarning: A value is trying to be set on a copy of a DataFrame or Series through chained assignment using an inplace method.\n",
      "The behavior will change in pandas 3.0. This inplace method will never work because the intermediate object on which we are setting values always behaves as a copy.\n",
      "\n",
      "For example, when doing 'df[col].method(value, inplace=True)', try using 'df.method({col: value}, inplace=True)' or df[col] = df[col].method(value) instead, to perform the operation inplace on the original object.\n",
      "\n",
      "\n",
      "  X[column].fillna(-1, inplace=True)\n",
      "C:\\Users\\ashis\\anaconda3\\envs\\py310_env\\lib\\site-packages\\category_encoders\\ordinal.py:210: FutureWarning: A value is trying to be set on a copy of a DataFrame or Series through chained assignment using an inplace method.\n",
      "The behavior will change in pandas 3.0. This inplace method will never work because the intermediate object on which we are setting values always behaves as a copy.\n",
      "\n",
      "For example, when doing 'df[col].method(value, inplace=True)', try using 'df.method({col: value}, inplace=True)' or df[col] = df[col].method(value) instead, to perform the operation inplace on the original object.\n",
      "\n",
      "\n",
      "  X[column].fillna(-1, inplace=True)\n",
      "C:\\Users\\ashis\\anaconda3\\envs\\py310_env\\lib\\site-packages\\category_encoders\\ordinal.py:210: FutureWarning: A value is trying to be set on a copy of a DataFrame or Series through chained assignment using an inplace method.\n",
      "The behavior will change in pandas 3.0. This inplace method will never work because the intermediate object on which we are setting values always behaves as a copy.\n",
      "\n",
      "For example, when doing 'df[col].method(value, inplace=True)', try using 'df.method({col: value}, inplace=True)' or df[col] = df[col].method(value) instead, to perform the operation inplace on the original object.\n",
      "\n",
      "\n",
      "  X[column].fillna(-1, inplace=True)\n",
      "C:\\Users\\ashis\\anaconda3\\envs\\py310_env\\lib\\site-packages\\category_encoders\\ordinal.py:210: FutureWarning: A value is trying to be set on a copy of a DataFrame or Series through chained assignment using an inplace method.\n",
      "The behavior will change in pandas 3.0. This inplace method will never work because the intermediate object on which we are setting values always behaves as a copy.\n",
      "\n",
      "For example, when doing 'df[col].method(value, inplace=True)', try using 'df.method({col: value}, inplace=True)' or df[col] = df[col].method(value) instead, to perform the operation inplace on the original object.\n",
      "\n",
      "\n",
      "  X[column].fillna(-1, inplace=True)\n",
      "C:\\Users\\ashis\\anaconda3\\envs\\py310_env\\lib\\site-packages\\category_encoders\\ordinal.py:210: FutureWarning: A value is trying to be set on a copy of a DataFrame or Series through chained assignment using an inplace method.\n",
      "The behavior will change in pandas 3.0. This inplace method will never work because the intermediate object on which we are setting values always behaves as a copy.\n",
      "\n",
      "For example, when doing 'df[col].method(value, inplace=True)', try using 'df.method({col: value}, inplace=True)' or df[col] = df[col].method(value) instead, to perform the operation inplace on the original object.\n",
      "\n",
      "\n",
      "  X[column].fillna(-1, inplace=True)\n",
      "C:\\Users\\ashis\\anaconda3\\envs\\py310_env\\lib\\site-packages\\category_encoders\\ordinal.py:210: FutureWarning: A value is trying to be set on a copy of a DataFrame or Series through chained assignment using an inplace method.\n",
      "The behavior will change in pandas 3.0. This inplace method will never work because the intermediate object on which we are setting values always behaves as a copy.\n",
      "\n",
      "For example, when doing 'df[col].method(value, inplace=True)', try using 'df.method({col: value}, inplace=True)' or df[col] = df[col].method(value) instead, to perform the operation inplace on the original object.\n",
      "\n",
      "\n",
      "  X[column].fillna(-1, inplace=True)\n",
      "C:\\Users\\ashis\\anaconda3\\envs\\py310_env\\lib\\site-packages\\category_encoders\\ordinal.py:210: FutureWarning: A value is trying to be set on a copy of a DataFrame or Series through chained assignment using an inplace method.\n",
      "The behavior will change in pandas 3.0. This inplace method will never work because the intermediate object on which we are setting values always behaves as a copy.\n",
      "\n",
      "For example, when doing 'df[col].method(value, inplace=True)', try using 'df.method({col: value}, inplace=True)' or df[col] = df[col].method(value) instead, to perform the operation inplace on the original object.\n",
      "\n",
      "\n",
      "  X[column].fillna(-1, inplace=True)\n"
     ]
    },
    {
     "data": {
      "text/html": [
       "<style>#sk-container-id-1 {color: black;}#sk-container-id-1 pre{padding: 0;}#sk-container-id-1 div.sk-toggleable {background-color: white;}#sk-container-id-1 label.sk-toggleable__label {cursor: pointer;display: block;width: 100%;margin-bottom: 0;padding: 0.3em;box-sizing: border-box;text-align: center;}#sk-container-id-1 label.sk-toggleable__label-arrow:before {content: \"▸\";float: left;margin-right: 0.25em;color: #696969;}#sk-container-id-1 label.sk-toggleable__label-arrow:hover:before {color: black;}#sk-container-id-1 div.sk-estimator:hover label.sk-toggleable__label-arrow:before {color: black;}#sk-container-id-1 div.sk-toggleable__content {max-height: 0;max-width: 0;overflow: hidden;text-align: left;background-color: #f0f8ff;}#sk-container-id-1 div.sk-toggleable__content pre {margin: 0.2em;color: black;border-radius: 0.25em;background-color: #f0f8ff;}#sk-container-id-1 input.sk-toggleable__control:checked~div.sk-toggleable__content {max-height: 200px;max-width: 100%;overflow: auto;}#sk-container-id-1 input.sk-toggleable__control:checked~label.sk-toggleable__label-arrow:before {content: \"▾\";}#sk-container-id-1 div.sk-estimator input.sk-toggleable__control:checked~label.sk-toggleable__label {background-color: #d4ebff;}#sk-container-id-1 div.sk-label input.sk-toggleable__control:checked~label.sk-toggleable__label {background-color: #d4ebff;}#sk-container-id-1 input.sk-hidden--visually {border: 0;clip: rect(1px 1px 1px 1px);clip: rect(1px, 1px, 1px, 1px);height: 1px;margin: -1px;overflow: hidden;padding: 0;position: absolute;width: 1px;}#sk-container-id-1 div.sk-estimator {font-family: monospace;background-color: #f0f8ff;border: 1px dotted black;border-radius: 0.25em;box-sizing: border-box;margin-bottom: 0.5em;}#sk-container-id-1 div.sk-estimator:hover {background-color: #d4ebff;}#sk-container-id-1 div.sk-parallel-item::after {content: \"\";width: 100%;border-bottom: 1px solid gray;flex-grow: 1;}#sk-container-id-1 div.sk-label:hover label.sk-toggleable__label {background-color: #d4ebff;}#sk-container-id-1 div.sk-serial::before {content: \"\";position: absolute;border-left: 1px solid gray;box-sizing: border-box;top: 0;bottom: 0;left: 50%;z-index: 0;}#sk-container-id-1 div.sk-serial {display: flex;flex-direction: column;align-items: center;background-color: white;padding-right: 0.2em;padding-left: 0.2em;position: relative;}#sk-container-id-1 div.sk-item {position: relative;z-index: 1;}#sk-container-id-1 div.sk-parallel {display: flex;align-items: stretch;justify-content: center;background-color: white;position: relative;}#sk-container-id-1 div.sk-item::before, #sk-container-id-1 div.sk-parallel-item::before {content: \"\";position: absolute;border-left: 1px solid gray;box-sizing: border-box;top: 0;bottom: 0;left: 50%;z-index: -1;}#sk-container-id-1 div.sk-parallel-item {display: flex;flex-direction: column;z-index: 1;position: relative;background-color: white;}#sk-container-id-1 div.sk-parallel-item:first-child::after {align-self: flex-end;width: 50%;}#sk-container-id-1 div.sk-parallel-item:last-child::after {align-self: flex-start;width: 50%;}#sk-container-id-1 div.sk-parallel-item:only-child::after {width: 0;}#sk-container-id-1 div.sk-dashed-wrapped {border: 1px dashed gray;margin: 0 0.4em 0.5em 0.4em;box-sizing: border-box;padding-bottom: 0.4em;background-color: white;}#sk-container-id-1 div.sk-label label {font-family: monospace;font-weight: bold;display: inline-block;line-height: 1.2em;}#sk-container-id-1 div.sk-label-container {text-align: center;}#sk-container-id-1 div.sk-container {/* jupyter's `normalize.less` sets `[hidden] { display: none; }` but bootstrap.min.css set `[hidden] { display: none !important; }` so we also need the `!important` here to be able to override the default hidden behavior on the sphinx rendered scikit-learn.org. See: https://github.com/scikit-learn/scikit-learn/issues/21755 */display: inline-block !important;position: relative;}#sk-container-id-1 div.sk-text-repr-fallback {display: none;}</style><div id=\"sk-container-id-1\" class=\"sk-top-container\"><div class=\"sk-text-repr-fallback\"><pre>Pipeline(steps=[(&#x27;preprocessor&#x27;,\n",
       "                 ColumnTransformer(transformers=[(&#x27;binaryencoder&#x27;,\n",
       "                                                  BinaryEncoder(),\n",
       "                                                  [&#x27;gender&#x27;, &#x27;Partner&#x27;,\n",
       "                                                   &#x27;Dependents&#x27;, &#x27;PhoneService&#x27;,\n",
       "                                                   &#x27;PaperlessBilling&#x27;]),\n",
       "                                                 (&#x27;standardscaler&#x27;,\n",
       "                                                  StandardScaler(),\n",
       "                                                  [&#x27;SeniorCitizen&#x27;, &#x27;tenure&#x27;,\n",
       "                                                   &#x27;MonthlyCharges&#x27;,\n",
       "                                                   &#x27;TotalCharges&#x27;])])),\n",
       "                (&#x27;smote&#x27;, SMOTE(random_state=42)),\n",
       "                (&#x27;classifier&#x27;, RandomForestClassifier(random_state=42))])</pre><b>In a Jupyter environment, please rerun this cell to show the HTML representation or trust the notebook. <br />On GitHub, the HTML representation is unable to render, please try loading this page with nbviewer.org.</b></div><div class=\"sk-container\" hidden><div class=\"sk-item sk-dashed-wrapped\"><div class=\"sk-label-container\"><div class=\"sk-label sk-toggleable\"><input class=\"sk-toggleable__control sk-hidden--visually\" id=\"sk-estimator-id-1\" type=\"checkbox\" ><label for=\"sk-estimator-id-1\" class=\"sk-toggleable__label sk-toggleable__label-arrow\">Pipeline</label><div class=\"sk-toggleable__content\"><pre>Pipeline(steps=[(&#x27;preprocessor&#x27;,\n",
       "                 ColumnTransformer(transformers=[(&#x27;binaryencoder&#x27;,\n",
       "                                                  BinaryEncoder(),\n",
       "                                                  [&#x27;gender&#x27;, &#x27;Partner&#x27;,\n",
       "                                                   &#x27;Dependents&#x27;, &#x27;PhoneService&#x27;,\n",
       "                                                   &#x27;PaperlessBilling&#x27;]),\n",
       "                                                 (&#x27;standardscaler&#x27;,\n",
       "                                                  StandardScaler(),\n",
       "                                                  [&#x27;SeniorCitizen&#x27;, &#x27;tenure&#x27;,\n",
       "                                                   &#x27;MonthlyCharges&#x27;,\n",
       "                                                   &#x27;TotalCharges&#x27;])])),\n",
       "                (&#x27;smote&#x27;, SMOTE(random_state=42)),\n",
       "                (&#x27;classifier&#x27;, RandomForestClassifier(random_state=42))])</pre></div></div></div><div class=\"sk-serial\"><div class=\"sk-item sk-dashed-wrapped\"><div class=\"sk-label-container\"><div class=\"sk-label sk-toggleable\"><input class=\"sk-toggleable__control sk-hidden--visually\" id=\"sk-estimator-id-2\" type=\"checkbox\" ><label for=\"sk-estimator-id-2\" class=\"sk-toggleable__label sk-toggleable__label-arrow\">preprocessor: ColumnTransformer</label><div class=\"sk-toggleable__content\"><pre>ColumnTransformer(transformers=[(&#x27;binaryencoder&#x27;, BinaryEncoder(),\n",
       "                                 [&#x27;gender&#x27;, &#x27;Partner&#x27;, &#x27;Dependents&#x27;,\n",
       "                                  &#x27;PhoneService&#x27;, &#x27;PaperlessBilling&#x27;]),\n",
       "                                (&#x27;standardscaler&#x27;, StandardScaler(),\n",
       "                                 [&#x27;SeniorCitizen&#x27;, &#x27;tenure&#x27;, &#x27;MonthlyCharges&#x27;,\n",
       "                                  &#x27;TotalCharges&#x27;])])</pre></div></div></div><div class=\"sk-parallel\"><div class=\"sk-parallel-item\"><div class=\"sk-item\"><div class=\"sk-label-container\"><div class=\"sk-label sk-toggleable\"><input class=\"sk-toggleable__control sk-hidden--visually\" id=\"sk-estimator-id-3\" type=\"checkbox\" ><label for=\"sk-estimator-id-3\" class=\"sk-toggleable__label sk-toggleable__label-arrow\">binaryencoder</label><div class=\"sk-toggleable__content\"><pre>[&#x27;gender&#x27;, &#x27;Partner&#x27;, &#x27;Dependents&#x27;, &#x27;PhoneService&#x27;, &#x27;PaperlessBilling&#x27;]</pre></div></div></div><div class=\"sk-serial\"><div class=\"sk-item\"><div class=\"sk-estimator sk-toggleable\"><input class=\"sk-toggleable__control sk-hidden--visually\" id=\"sk-estimator-id-4\" type=\"checkbox\" ><label for=\"sk-estimator-id-4\" class=\"sk-toggleable__label sk-toggleable__label-arrow\">BinaryEncoder</label><div class=\"sk-toggleable__content\"><pre>BinaryEncoder()</pre></div></div></div></div></div></div><div class=\"sk-parallel-item\"><div class=\"sk-item\"><div class=\"sk-label-container\"><div class=\"sk-label sk-toggleable\"><input class=\"sk-toggleable__control sk-hidden--visually\" id=\"sk-estimator-id-5\" type=\"checkbox\" ><label for=\"sk-estimator-id-5\" class=\"sk-toggleable__label sk-toggleable__label-arrow\">standardscaler</label><div class=\"sk-toggleable__content\"><pre>[&#x27;SeniorCitizen&#x27;, &#x27;tenure&#x27;, &#x27;MonthlyCharges&#x27;, &#x27;TotalCharges&#x27;]</pre></div></div></div><div class=\"sk-serial\"><div class=\"sk-item\"><div class=\"sk-estimator sk-toggleable\"><input class=\"sk-toggleable__control sk-hidden--visually\" id=\"sk-estimator-id-6\" type=\"checkbox\" ><label for=\"sk-estimator-id-6\" class=\"sk-toggleable__label sk-toggleable__label-arrow\">StandardScaler</label><div class=\"sk-toggleable__content\"><pre>StandardScaler()</pre></div></div></div></div></div></div></div></div><div class=\"sk-item\"><div class=\"sk-estimator sk-toggleable\"><input class=\"sk-toggleable__control sk-hidden--visually\" id=\"sk-estimator-id-7\" type=\"checkbox\" ><label for=\"sk-estimator-id-7\" class=\"sk-toggleable__label sk-toggleable__label-arrow\">SMOTE</label><div class=\"sk-toggleable__content\"><pre>SMOTE(random_state=42)</pre></div></div></div><div class=\"sk-item\"><div class=\"sk-estimator sk-toggleable\"><input class=\"sk-toggleable__control sk-hidden--visually\" id=\"sk-estimator-id-8\" type=\"checkbox\" ><label for=\"sk-estimator-id-8\" class=\"sk-toggleable__label sk-toggleable__label-arrow\">RandomForestClassifier</label><div class=\"sk-toggleable__content\"><pre>RandomForestClassifier(random_state=42)</pre></div></div></div></div></div></div></div>"
      ],
      "text/plain": [
       "Pipeline(steps=[('preprocessor',\n",
       "                 ColumnTransformer(transformers=[('binaryencoder',\n",
       "                                                  BinaryEncoder(),\n",
       "                                                  ['gender', 'Partner',\n",
       "                                                   'Dependents', 'PhoneService',\n",
       "                                                   'PaperlessBilling']),\n",
       "                                                 ('standardscaler',\n",
       "                                                  StandardScaler(),\n",
       "                                                  ['SeniorCitizen', 'tenure',\n",
       "                                                   'MonthlyCharges',\n",
       "                                                   'TotalCharges'])])),\n",
       "                ('smote', SMOTE(random_state=42)),\n",
       "                ('classifier', RandomForestClassifier(random_state=42))])"
      ]
     },
     "execution_count": 47,
     "metadata": {},
     "output_type": "execute_result"
    }
   ],
   "source": [
    "pipe.fit(X_train_te, y_train)"
   ]
  },
  {
   "cell_type": "code",
   "execution_count": 48,
   "id": "2ad161b5-93bd-427f-b14b-1a7f49e42735",
   "metadata": {},
   "outputs": [],
   "source": [
    "from sklearn.metrics import classification_report, confusion_matrix, f1_score"
   ]
  },
  {
   "cell_type": "code",
   "execution_count": 49,
   "id": "37641c41-cb27-4bd4-aab1-3968d96e90d3",
   "metadata": {
    "scrolled": true
   },
   "outputs": [
    {
     "name": "stderr",
     "output_type": "stream",
     "text": [
      "C:\\Users\\ashis\\anaconda3\\envs\\py310_env\\lib\\site-packages\\category_encoders\\ordinal.py:210: FutureWarning: A value is trying to be set on a copy of a DataFrame or Series through chained assignment using an inplace method.\n",
      "The behavior will change in pandas 3.0. This inplace method will never work because the intermediate object on which we are setting values always behaves as a copy.\n",
      "\n",
      "For example, when doing 'df[col].method(value, inplace=True)', try using 'df.method({col: value}, inplace=True)' or df[col] = df[col].method(value) instead, to perform the operation inplace on the original object.\n",
      "\n",
      "\n",
      "  X[column].fillna(-1, inplace=True)\n",
      "C:\\Users\\ashis\\anaconda3\\envs\\py310_env\\lib\\site-packages\\category_encoders\\ordinal.py:210: FutureWarning: A value is trying to be set on a copy of a DataFrame or Series through chained assignment using an inplace method.\n",
      "The behavior will change in pandas 3.0. This inplace method will never work because the intermediate object on which we are setting values always behaves as a copy.\n",
      "\n",
      "For example, when doing 'df[col].method(value, inplace=True)', try using 'df.method({col: value}, inplace=True)' or df[col] = df[col].method(value) instead, to perform the operation inplace on the original object.\n",
      "\n",
      "\n",
      "  X[column].fillna(-1, inplace=True)\n",
      "C:\\Users\\ashis\\anaconda3\\envs\\py310_env\\lib\\site-packages\\category_encoders\\ordinal.py:210: FutureWarning: A value is trying to be set on a copy of a DataFrame or Series through chained assignment using an inplace method.\n",
      "The behavior will change in pandas 3.0. This inplace method will never work because the intermediate object on which we are setting values always behaves as a copy.\n",
      "\n",
      "For example, when doing 'df[col].method(value, inplace=True)', try using 'df.method({col: value}, inplace=True)' or df[col] = df[col].method(value) instead, to perform the operation inplace on the original object.\n",
      "\n",
      "\n",
      "  X[column].fillna(-1, inplace=True)\n",
      "C:\\Users\\ashis\\anaconda3\\envs\\py310_env\\lib\\site-packages\\category_encoders\\ordinal.py:210: FutureWarning: A value is trying to be set on a copy of a DataFrame or Series through chained assignment using an inplace method.\n",
      "The behavior will change in pandas 3.0. This inplace method will never work because the intermediate object on which we are setting values always behaves as a copy.\n",
      "\n",
      "For example, when doing 'df[col].method(value, inplace=True)', try using 'df.method({col: value}, inplace=True)' or df[col] = df[col].method(value) instead, to perform the operation inplace on the original object.\n",
      "\n",
      "\n",
      "  X[column].fillna(-1, inplace=True)\n",
      "C:\\Users\\ashis\\anaconda3\\envs\\py310_env\\lib\\site-packages\\category_encoders\\ordinal.py:210: FutureWarning: A value is trying to be set on a copy of a DataFrame or Series through chained assignment using an inplace method.\n",
      "The behavior will change in pandas 3.0. This inplace method will never work because the intermediate object on which we are setting values always behaves as a copy.\n",
      "\n",
      "For example, when doing 'df[col].method(value, inplace=True)', try using 'df.method({col: value}, inplace=True)' or df[col] = df[col].method(value) instead, to perform the operation inplace on the original object.\n",
      "\n",
      "\n",
      "  X[column].fillna(-1, inplace=True)\n"
     ]
    }
   ],
   "source": [
    "pre_1 = pipe.predict(X_test_te)"
   ]
  },
  {
   "cell_type": "code",
   "execution_count": 50,
   "id": "09b21b20-9557-4bb4-9dcb-fbc0e42224be",
   "metadata": {},
   "outputs": [],
   "source": [
    "cm_1 = confusion_matrix(y_test, pre_1)"
   ]
  },
  {
   "cell_type": "code",
   "execution_count": 51,
   "id": "6e868632-8aee-47bb-a7b5-364685bec732",
   "metadata": {},
   "outputs": [],
   "source": [
    "cr_1 = classification_report(y_test, pre_1)"
   ]
  },
  {
   "cell_type": "code",
   "execution_count": 52,
   "id": "df197247-d3b9-4b73-b9c9-028e969141c4",
   "metadata": {},
   "outputs": [
    {
     "name": "stdout",
     "output_type": "stream",
     "text": [
      "[[1227  312]\n",
      " [ 240  334]]\n"
     ]
    }
   ],
   "source": [
    "print(cm_1)"
   ]
  },
  {
   "cell_type": "code",
   "execution_count": 53,
   "id": "a483e6c5-a46b-4e4b-84ba-5e245a0c2a2c",
   "metadata": {},
   "outputs": [
    {
     "name": "stdout",
     "output_type": "stream",
     "text": [
      "              precision    recall  f1-score   support\n",
      "\n",
      "           0       0.84      0.80      0.82      1539\n",
      "           1       0.52      0.58      0.55       574\n",
      "\n",
      "    accuracy                           0.74      2113\n",
      "   macro avg       0.68      0.69      0.68      2113\n",
      "weighted avg       0.75      0.74      0.74      2113\n",
      "\n"
     ]
    }
   ],
   "source": [
    "print(cr_1)"
   ]
  },
  {
   "cell_type": "code",
   "execution_count": 54,
   "id": "0e189f1c-0462-4096-8423-8b1908e2fab9",
   "metadata": {
    "scrolled": true
   },
   "outputs": [
    {
     "name": "stderr",
     "output_type": "stream",
     "text": [
      "C:\\Users\\ashis\\anaconda3\\envs\\py310_env\\lib\\site-packages\\category_encoders\\ordinal.py:210: FutureWarning: A value is trying to be set on a copy of a DataFrame or Series through chained assignment using an inplace method.\n",
      "The behavior will change in pandas 3.0. This inplace method will never work because the intermediate object on which we are setting values always behaves as a copy.\n",
      "\n",
      "For example, when doing 'df[col].method(value, inplace=True)', try using 'df.method({col: value}, inplace=True)' or df[col] = df[col].method(value) instead, to perform the operation inplace on the original object.\n",
      "\n",
      "\n",
      "  X[column].fillna(-1, inplace=True)\n",
      "C:\\Users\\ashis\\anaconda3\\envs\\py310_env\\lib\\site-packages\\category_encoders\\ordinal.py:210: FutureWarning: A value is trying to be set on a copy of a DataFrame or Series through chained assignment using an inplace method.\n",
      "The behavior will change in pandas 3.0. This inplace method will never work because the intermediate object on which we are setting values always behaves as a copy.\n",
      "\n",
      "For example, when doing 'df[col].method(value, inplace=True)', try using 'df.method({col: value}, inplace=True)' or df[col] = df[col].method(value) instead, to perform the operation inplace on the original object.\n",
      "\n",
      "\n",
      "  X[column].fillna(-1, inplace=True)\n",
      "C:\\Users\\ashis\\anaconda3\\envs\\py310_env\\lib\\site-packages\\category_encoders\\ordinal.py:210: FutureWarning: A value is trying to be set on a copy of a DataFrame or Series through chained assignment using an inplace method.\n",
      "The behavior will change in pandas 3.0. This inplace method will never work because the intermediate object on which we are setting values always behaves as a copy.\n",
      "\n",
      "For example, when doing 'df[col].method(value, inplace=True)', try using 'df.method({col: value}, inplace=True)' or df[col] = df[col].method(value) instead, to perform the operation inplace on the original object.\n",
      "\n",
      "\n",
      "  X[column].fillna(-1, inplace=True)\n",
      "C:\\Users\\ashis\\anaconda3\\envs\\py310_env\\lib\\site-packages\\category_encoders\\ordinal.py:210: FutureWarning: A value is trying to be set on a copy of a DataFrame or Series through chained assignment using an inplace method.\n",
      "The behavior will change in pandas 3.0. This inplace method will never work because the intermediate object on which we are setting values always behaves as a copy.\n",
      "\n",
      "For example, when doing 'df[col].method(value, inplace=True)', try using 'df.method({col: value}, inplace=True)' or df[col] = df[col].method(value) instead, to perform the operation inplace on the original object.\n",
      "\n",
      "\n",
      "  X[column].fillna(-1, inplace=True)\n",
      "C:\\Users\\ashis\\anaconda3\\envs\\py310_env\\lib\\site-packages\\category_encoders\\ordinal.py:210: FutureWarning: A value is trying to be set on a copy of a DataFrame or Series through chained assignment using an inplace method.\n",
      "The behavior will change in pandas 3.0. This inplace method will never work because the intermediate object on which we are setting values always behaves as a copy.\n",
      "\n",
      "For example, when doing 'df[col].method(value, inplace=True)', try using 'df.method({col: value}, inplace=True)' or df[col] = df[col].method(value) instead, to perform the operation inplace on the original object.\n",
      "\n",
      "\n",
      "  X[column].fillna(-1, inplace=True)\n",
      "C:\\Users\\ashis\\anaconda3\\envs\\py310_env\\lib\\site-packages\\category_encoders\\ordinal.py:210: FutureWarning: A value is trying to be set on a copy of a DataFrame or Series through chained assignment using an inplace method.\n",
      "The behavior will change in pandas 3.0. This inplace method will never work because the intermediate object on which we are setting values always behaves as a copy.\n",
      "\n",
      "For example, when doing 'df[col].method(value, inplace=True)', try using 'df.method({col: value}, inplace=True)' or df[col] = df[col].method(value) instead, to perform the operation inplace on the original object.\n",
      "\n",
      "\n",
      "  X[column].fillna(-1, inplace=True)\n",
      "C:\\Users\\ashis\\anaconda3\\envs\\py310_env\\lib\\site-packages\\category_encoders\\ordinal.py:210: FutureWarning: A value is trying to be set on a copy of a DataFrame or Series through chained assignment using an inplace method.\n",
      "The behavior will change in pandas 3.0. This inplace method will never work because the intermediate object on which we are setting values always behaves as a copy.\n",
      "\n",
      "For example, when doing 'df[col].method(value, inplace=True)', try using 'df.method({col: value}, inplace=True)' or df[col] = df[col].method(value) instead, to perform the operation inplace on the original object.\n",
      "\n",
      "\n",
      "  X[column].fillna(-1, inplace=True)\n",
      "C:\\Users\\ashis\\anaconda3\\envs\\py310_env\\lib\\site-packages\\category_encoders\\ordinal.py:210: FutureWarning: A value is trying to be set on a copy of a DataFrame or Series through chained assignment using an inplace method.\n",
      "The behavior will change in pandas 3.0. This inplace method will never work because the intermediate object on which we are setting values always behaves as a copy.\n",
      "\n",
      "For example, when doing 'df[col].method(value, inplace=True)', try using 'df.method({col: value}, inplace=True)' or df[col] = df[col].method(value) instead, to perform the operation inplace on the original object.\n",
      "\n",
      "\n",
      "  X[column].fillna(-1, inplace=True)\n",
      "C:\\Users\\ashis\\anaconda3\\envs\\py310_env\\lib\\site-packages\\category_encoders\\ordinal.py:210: FutureWarning: A value is trying to be set on a copy of a DataFrame or Series through chained assignment using an inplace method.\n",
      "The behavior will change in pandas 3.0. This inplace method will never work because the intermediate object on which we are setting values always behaves as a copy.\n",
      "\n",
      "For example, when doing 'df[col].method(value, inplace=True)', try using 'df.method({col: value}, inplace=True)' or df[col] = df[col].method(value) instead, to perform the operation inplace on the original object.\n",
      "\n",
      "\n",
      "  X[column].fillna(-1, inplace=True)\n",
      "C:\\Users\\ashis\\anaconda3\\envs\\py310_env\\lib\\site-packages\\category_encoders\\ordinal.py:210: FutureWarning: A value is trying to be set on a copy of a DataFrame or Series through chained assignment using an inplace method.\n",
      "The behavior will change in pandas 3.0. This inplace method will never work because the intermediate object on which we are setting values always behaves as a copy.\n",
      "\n",
      "For example, when doing 'df[col].method(value, inplace=True)', try using 'df.method({col: value}, inplace=True)' or df[col] = df[col].method(value) instead, to perform the operation inplace on the original object.\n",
      "\n",
      "\n",
      "  X[column].fillna(-1, inplace=True)\n",
      "C:\\Users\\ashis\\anaconda3\\envs\\py310_env\\lib\\site-packages\\category_encoders\\ordinal.py:210: FutureWarning: A value is trying to be set on a copy of a DataFrame or Series through chained assignment using an inplace method.\n",
      "The behavior will change in pandas 3.0. This inplace method will never work because the intermediate object on which we are setting values always behaves as a copy.\n",
      "\n",
      "For example, when doing 'df[col].method(value, inplace=True)', try using 'df.method({col: value}, inplace=True)' or df[col] = df[col].method(value) instead, to perform the operation inplace on the original object.\n",
      "\n",
      "\n",
      "  X[column].fillna(-1, inplace=True)\n",
      "C:\\Users\\ashis\\anaconda3\\envs\\py310_env\\lib\\site-packages\\category_encoders\\ordinal.py:210: FutureWarning: A value is trying to be set on a copy of a DataFrame or Series through chained assignment using an inplace method.\n",
      "The behavior will change in pandas 3.0. This inplace method will never work because the intermediate object on which we are setting values always behaves as a copy.\n",
      "\n",
      "For example, when doing 'df[col].method(value, inplace=True)', try using 'df.method({col: value}, inplace=True)' or df[col] = df[col].method(value) instead, to perform the operation inplace on the original object.\n",
      "\n",
      "\n",
      "  X[column].fillna(-1, inplace=True)\n",
      "C:\\Users\\ashis\\anaconda3\\envs\\py310_env\\lib\\site-packages\\category_encoders\\ordinal.py:210: FutureWarning: A value is trying to be set on a copy of a DataFrame or Series through chained assignment using an inplace method.\n",
      "The behavior will change in pandas 3.0. This inplace method will never work because the intermediate object on which we are setting values always behaves as a copy.\n",
      "\n",
      "For example, when doing 'df[col].method(value, inplace=True)', try using 'df.method({col: value}, inplace=True)' or df[col] = df[col].method(value) instead, to perform the operation inplace on the original object.\n",
      "\n",
      "\n",
      "  X[column].fillna(-1, inplace=True)\n",
      "C:\\Users\\ashis\\anaconda3\\envs\\py310_env\\lib\\site-packages\\category_encoders\\ordinal.py:210: FutureWarning: A value is trying to be set on a copy of a DataFrame or Series through chained assignment using an inplace method.\n",
      "The behavior will change in pandas 3.0. This inplace method will never work because the intermediate object on which we are setting values always behaves as a copy.\n",
      "\n",
      "For example, when doing 'df[col].method(value, inplace=True)', try using 'df.method({col: value}, inplace=True)' or df[col] = df[col].method(value) instead, to perform the operation inplace on the original object.\n",
      "\n",
      "\n",
      "  X[column].fillna(-1, inplace=True)\n",
      "C:\\Users\\ashis\\anaconda3\\envs\\py310_env\\lib\\site-packages\\category_encoders\\ordinal.py:210: FutureWarning: A value is trying to be set on a copy of a DataFrame or Series through chained assignment using an inplace method.\n",
      "The behavior will change in pandas 3.0. This inplace method will never work because the intermediate object on which we are setting values always behaves as a copy.\n",
      "\n",
      "For example, when doing 'df[col].method(value, inplace=True)', try using 'df.method({col: value}, inplace=True)' or df[col] = df[col].method(value) instead, to perform the operation inplace on the original object.\n",
      "\n",
      "\n",
      "  X[column].fillna(-1, inplace=True)\n",
      "C:\\Users\\ashis\\anaconda3\\envs\\py310_env\\lib\\site-packages\\category_encoders\\ordinal.py:210: FutureWarning: A value is trying to be set on a copy of a DataFrame or Series through chained assignment using an inplace method.\n",
      "The behavior will change in pandas 3.0. This inplace method will never work because the intermediate object on which we are setting values always behaves as a copy.\n",
      "\n",
      "For example, when doing 'df[col].method(value, inplace=True)', try using 'df.method({col: value}, inplace=True)' or df[col] = df[col].method(value) instead, to perform the operation inplace on the original object.\n",
      "\n",
      "\n",
      "  X[column].fillna(-1, inplace=True)\n",
      "C:\\Users\\ashis\\anaconda3\\envs\\py310_env\\lib\\site-packages\\category_encoders\\ordinal.py:210: FutureWarning: A value is trying to be set on a copy of a DataFrame or Series through chained assignment using an inplace method.\n",
      "The behavior will change in pandas 3.0. This inplace method will never work because the intermediate object on which we are setting values always behaves as a copy.\n",
      "\n",
      "For example, when doing 'df[col].method(value, inplace=True)', try using 'df.method({col: value}, inplace=True)' or df[col] = df[col].method(value) instead, to perform the operation inplace on the original object.\n",
      "\n",
      "\n",
      "  X[column].fillna(-1, inplace=True)\n",
      "C:\\Users\\ashis\\anaconda3\\envs\\py310_env\\lib\\site-packages\\category_encoders\\ordinal.py:210: FutureWarning: A value is trying to be set on a copy of a DataFrame or Series through chained assignment using an inplace method.\n",
      "The behavior will change in pandas 3.0. This inplace method will never work because the intermediate object on which we are setting values always behaves as a copy.\n",
      "\n",
      "For example, when doing 'df[col].method(value, inplace=True)', try using 'df.method({col: value}, inplace=True)' or df[col] = df[col].method(value) instead, to perform the operation inplace on the original object.\n",
      "\n",
      "\n",
      "  X[column].fillna(-1, inplace=True)\n",
      "C:\\Users\\ashis\\anaconda3\\envs\\py310_env\\lib\\site-packages\\category_encoders\\ordinal.py:210: FutureWarning: A value is trying to be set on a copy of a DataFrame or Series through chained assignment using an inplace method.\n",
      "The behavior will change in pandas 3.0. This inplace method will never work because the intermediate object on which we are setting values always behaves as a copy.\n",
      "\n",
      "For example, when doing 'df[col].method(value, inplace=True)', try using 'df.method({col: value}, inplace=True)' or df[col] = df[col].method(value) instead, to perform the operation inplace on the original object.\n",
      "\n",
      "\n",
      "  X[column].fillna(-1, inplace=True)\n",
      "C:\\Users\\ashis\\anaconda3\\envs\\py310_env\\lib\\site-packages\\category_encoders\\ordinal.py:210: FutureWarning: A value is trying to be set on a copy of a DataFrame or Series through chained assignment using an inplace method.\n",
      "The behavior will change in pandas 3.0. This inplace method will never work because the intermediate object on which we are setting values always behaves as a copy.\n",
      "\n",
      "For example, when doing 'df[col].method(value, inplace=True)', try using 'df.method({col: value}, inplace=True)' or df[col] = df[col].method(value) instead, to perform the operation inplace on the original object.\n",
      "\n",
      "\n",
      "  X[column].fillna(-1, inplace=True)\n"
     ]
    }
   ],
   "source": [
    "X_train_te_new = X_train_te.copy()\n",
    "X_test_te_new = X_test_te.copy()\n",
    "\n",
    "bin_encoded_train = be.fit_transform(X_train_te_new[bin_num_col])\n",
    "bin_encoded_test = be.transform(X_test_te_new[bin_num_col])\n",
    "\n",
    "# Converting to DataFrame and set proper column names\n",
    "bin_encoded_train_df = pd.DataFrame(bin_encoded_train, columns=be.get_feature_names_out(bin_num_col), index=X_train_te_new.index)\n",
    "bin_encoded_test_df = pd.DataFrame(bin_encoded_test, columns=be.get_feature_names_out(bin_num_col), index=X_test_te_new.index)\n",
    "\n",
    "# Droping original binary columns\n",
    "X_train_te_new.drop(columns=bin_num_col, inplace=True)\n",
    "X_test_te_new.drop(columns=bin_num_col, inplace=True)\n",
    "\n",
    "# Concatenate column's\n",
    "X_train_te_new = pd.concat([X_train_te_new, bin_encoded_train_df], axis=1)\n",
    "X_test_te_new = pd.concat([X_test_te_new, bin_encoded_test_df], axis=1)\n"
   ]
  },
  {
   "cell_type": "code",
   "execution_count": 55,
   "id": "9c9d18c2-de9e-4220-9c8c-3d7b8eeaa9b2",
   "metadata": {},
   "outputs": [],
   "source": [
    "X_train_te_new[num_cols] = ss.fit_transform(X_train_te_new[num_cols])\n",
    "X_train_te_new[num_cols] = ss.fit_transform(X_train_te_new[num_cols])"
   ]
  },
  {
   "cell_type": "code",
   "execution_count": 56,
   "id": "ef87533a-424b-44e2-a56f-a22125b6a3a6",
   "metadata": {
    "scrolled": true
   },
   "outputs": [],
   "source": [
    "smote_X_train, smote_y_train = smt.fit_resample(X_train_te_new, y_train)\n",
    "smote_X_test, smote_y_test = smt.fit_resample(X_test_te_new, y_test)"
   ]
  },
  {
   "cell_type": "markdown",
   "id": "1ca36581-514f-471d-b9b3-1f2b025becdf",
   "metadata": {},
   "source": [
    "## 🎯 Hyperparameter Tuning using Optuna\n",
    "\n",
    "Optuna is used to fine-tune model hyperparameters efficiently. This helps improve accuracy and generalization by searching the optimal parameter space.\n"
   ]
  },
  {
   "cell_type": "code",
   "execution_count": 58,
   "id": "39e64494-6a95-461f-b39b-25b722401a64",
   "metadata": {},
   "outputs": [
    {
     "name": "stderr",
     "output_type": "stream",
     "text": [
      "C:\\Users\\ashis\\anaconda3\\envs\\py310_env\\lib\\site-packages\\tqdm\\auto.py:21: TqdmWarning: IProgress not found. Please update jupyter and ipywidgets. See https://ipywidgets.readthedocs.io/en/stable/user_install.html\n",
      "  from .autonotebook import tqdm as notebook_tqdm\n"
     ]
    }
   ],
   "source": [
    "import optuna"
   ]
  },
  {
   "cell_type": "code",
   "execution_count": 57,
   "id": "7cb38d97-0605-45bd-add5-d673bd05448d",
   "metadata": {},
   "outputs": [],
   "source": [
    "from sklearn.model_selection import GridSearchCV, StratifiedKFold, cross_val_score"
   ]
  },
  {
   "cell_type": "code",
   "execution_count": 59,
   "id": "353b0ea9-87ea-4072-b82a-bfbf394b4a4a",
   "metadata": {},
   "outputs": [],
   "source": [
    "from xgboost import XGBClassifier"
   ]
  },
  {
   "cell_type": "code",
   "execution_count": 60,
   "id": "f8327398-fa65-4934-8b9c-2420be04bda0",
   "metadata": {},
   "outputs": [],
   "source": [
    "from lightgbm import LGBMClassifier"
   ]
  },
  {
   "cell_type": "code",
   "execution_count": 61,
   "id": "98e66935-ff83-497d-aa19-05fbf0bf8d8c",
   "metadata": {},
   "outputs": [],
   "source": [
    "from sklearn.ensemble import VotingClassifier"
   ]
  },
  {
   "cell_type": "code",
   "execution_count": 62,
   "id": "3d67996b-4695-4d0c-8f61-5cae9703746f",
   "metadata": {},
   "outputs": [],
   "source": [
    "from sklearn.linear_model import LogisticRegression"
   ]
  },
  {
   "cell_type": "code",
   "execution_count": 63,
   "id": "ee9bd2e6-977d-4d4f-ae20-7abe642aac14",
   "metadata": {},
   "outputs": [],
   "source": [
    "def objective(trial):\n",
    "    # Random Forest \n",
    "    rf_n_estimators = trial.suggest_int('rf_n_estimators', 100, 500, step=50)\n",
    "    rf_max_depth = trial.suggest_int('rf_max_depth', 3, 20)\n",
    "\n",
    "    clf_rf = RandomForestClassifier(\n",
    "        n_estimators=rf_n_estimators,\n",
    "        max_depth=rf_max_depth,\n",
    "        random_state=42,\n",
    "        n_jobs=-1\n",
    "    )\n",
    "\n",
    "    # XGBoost \n",
    "    xgb_n_estimators = trial.suggest_int('xgb_n_estimators', 100, 500, step=50)\n",
    "    xgb_learning_rate = trial.suggest_float('xgb_learning_rate', 0.01, 0.3, log=True)\n",
    "    xgb_max_depth = trial.suggest_int('xgb_max_depth', 3, 20)\n",
    "    xgb_subsample = trial.suggest_float('xgb_subsample', 0.5, 1.0)\n",
    "    xgb_colsample_bytree = trial.suggest_float('xgb_colsample_bytree', 0.5, 1.0)\n",
    "    xgb_gamma = trial.suggest_float('xgb_gamma', 0, 5)\n",
    "    xgb_reg_lambda = trial.suggest_float('xgb_reg_lambda', 0.0, 5.0)\n",
    "    xgb_reg_alpha = trial.suggest_float('xgb_reg_alpha', 0.0, 5.0)\n",
    "    xgb_scale_pos_weight = trial.suggest_float('xgb_scale_pos_weight', 1.0, 10.0)\n",
    "\n",
    "    clf_xgb = XGBClassifier(\n",
    "        n_estimators=xgb_n_estimators,\n",
    "        learning_rate=xgb_learning_rate,\n",
    "        max_depth=xgb_max_depth,\n",
    "        subsample=xgb_subsample,\n",
    "        colsample_bytree=xgb_colsample_bytree,\n",
    "        gamma=xgb_gamma,\n",
    "        reg_lambda=xgb_reg_lambda,\n",
    "        reg_alpha=xgb_reg_alpha,\n",
    "        scale_pos_weight=xgb_scale_pos_weight,\n",
    "        use_label_encoder=False,\n",
    "        eval_metric='logloss',\n",
    "        random_state=42,\n",
    "        n_jobs=-1\n",
    "    )\n",
    "\n",
    "    # LightGBM \n",
    "    lgb_n_estimators = trial.suggest_int('lgb_n_estimators', 100, 500, step=50)\n",
    "    lgb_learning_rate = trial.suggest_float('lgb_learning_rate', 0.01, 0.3, log=True)\n",
    "    lgb_max_depth = trial.suggest_int('lgb_max_depth', 3, 20)\n",
    "    lgb_num_leaves = trial.suggest_int('lgb_num_leaves', 15, 150, step=5)\n",
    "    lgb_min_child_samples = trial.suggest_int('lgb_min_child_samples', 10, 100, step=10)\n",
    "\n",
    "    clf_lgb = LGBMClassifier(\n",
    "        n_estimators=lgb_n_estimators,\n",
    "        learning_rate=lgb_learning_rate,\n",
    "        max_depth=lgb_max_depth,\n",
    "        num_leaves=lgb_num_leaves,\n",
    "        min_child_samples=lgb_min_child_samples,\n",
    "        random_state=42,\n",
    "        n_jobs=-1\n",
    "    )\n",
    "\n",
    "    # Logistic Regression\n",
    "    lr_C = trial.suggest_float('lr_C', 0.001, 10.0, log=True)\n",
    "    lr_penalty = trial.suggest_categorical('lr_penalty', ['l2'])\n",
    "    lr_solver = trial.suggest_categorical('lr_solver', ['liblinear', 'lbfgs'])\n",
    "\n",
    "\n",
    "    clf_lr = LogisticRegression(\n",
    "        C=lr_C,\n",
    "        penalty=lr_penalty,\n",
    "        solver=lr_solver,\n",
    "        random_state=42,\n",
    "        max_iter=1000\n",
    "    )\n",
    "\n",
    "    # Combining multiple classifiers for best result\n",
    "    voting = VotingClassifier(\n",
    "        estimators=[\n",
    "            ('rf', clf_rf),\n",
    "            ('xgb', clf_xgb),\n",
    "            ('lgb', clf_lgb),\n",
    "            ('lr', clf_lr),\n",
    "        ],\n",
    "        voting='soft',\n",
    "        n_jobs=-1\n",
    "    )\n",
    "\n",
    "    # Cross-validation score\n",
    "    skf = StratifiedKFold(n_splits=3, shuffle=True, random_state=42)\n",
    "    score = cross_val_score(voting, smote_X_train, smote_y_train, cv=skf, scoring='f1', n_jobs=1)\n",
    "    \n",
    "    if trial.should_prune() :\n",
    "        raise optuna.TrialPruned()\n",
    "\n",
    "    return score.mean()\n"
   ]
  },
  {
   "cell_type": "code",
   "execution_count": 64,
   "id": "acc60830-77ab-478e-bde5-bcc5170849fa",
   "metadata": {
    "scrolled": true
   },
   "outputs": [
    {
     "name": "stderr",
     "output_type": "stream",
     "text": [
      "[I 2025-07-05 07:29:28,344] A new study created in memory with name: no-name-695daa1d-501e-451f-bbd3-de2bff2622fe\n",
      "Best trial: 0. Best value: 0.845108:   1%|▍                                            | 1/100 [00:18<30:16, 18.34s/it]"
     ]
    },
    {
     "name": "stdout",
     "output_type": "stream",
     "text": [
      "[I 2025-07-05 07:29:46,675] Trial 0 finished with value: 0.845107637408955 and parameters: {'rf_n_estimators': 400, 'rf_max_depth': 5, 'xgb_n_estimators': 250, 'xgb_learning_rate': 0.22500664116740357, 'xgb_max_depth': 4, 'xgb_subsample': 0.7768103561289192, 'xgb_colsample_bytree': 0.8821925471775647, 'xgb_gamma': 0.08080802386304375, 'xgb_reg_lambda': 0.09791962649289443, 'xgb_reg_alpha': 3.892352454445598, 'xgb_scale_pos_weight': 7.6560795541536795, 'lgb_n_estimators': 150, 'lgb_learning_rate': 0.03564871663236084, 'lgb_max_depth': 5, 'lgb_num_leaves': 45, 'lgb_min_child_samples': 30, 'lr_C': 0.028451024006551407, 'lr_penalty': 'l2', 'lr_solver': 'liblinear'}. Best is trial 0 with value: 0.845107637408955.\n"
     ]
    },
    {
     "name": "stderr",
     "output_type": "stream",
     "text": [
      "Best trial: 1. Best value: 0.846172:   2%|▉                                            | 2/100 [00:51<44:11, 27.06s/it]"
     ]
    },
    {
     "name": "stdout",
     "output_type": "stream",
     "text": [
      "[I 2025-07-05 07:30:19,837] Trial 1 finished with value: 0.8461724263965472 and parameters: {'rf_n_estimators': 350, 'rf_max_depth': 8, 'xgb_n_estimators': 250, 'xgb_learning_rate': 0.1295633412216315, 'xgb_max_depth': 17, 'xgb_subsample': 0.6983549109071914, 'xgb_colsample_bytree': 0.8582763867984525, 'xgb_gamma': 4.438988220189235, 'xgb_reg_lambda': 0.9120462303737015, 'xgb_reg_alpha': 1.1466245888637756, 'xgb_scale_pos_weight': 1.054145766570692, 'lgb_n_estimators': 200, 'lgb_learning_rate': 0.012820879811258273, 'lgb_max_depth': 16, 'lgb_num_leaves': 130, 'lgb_min_child_samples': 20, 'lr_C': 0.11200143047912725, 'lr_penalty': 'l2', 'lr_solver': 'liblinear'}. Best is trial 1 with value: 0.8461724263965472.\n"
     ]
    },
    {
     "name": "stderr",
     "output_type": "stream",
     "text": [
      "Best trial: 1. Best value: 0.846172:   3%|█▎                                           | 3/100 [01:02<31:33, 19.52s/it]"
     ]
    },
    {
     "name": "stdout",
     "output_type": "stream",
     "text": [
      "[I 2025-07-05 07:30:30,381] Trial 2 finished with value: 0.8383483497885434 and parameters: {'rf_n_estimators': 150, 'rf_max_depth': 3, 'xgb_n_estimators': 350, 'xgb_learning_rate': 0.01664491002145134, 'xgb_max_depth': 5, 'xgb_subsample': 0.9926302757993724, 'xgb_colsample_bytree': 0.5337513241158854, 'xgb_gamma': 4.411177880314448, 'xgb_reg_lambda': 4.180328982864318, 'xgb_reg_alpha': 2.208710683557836, 'xgb_scale_pos_weight': 5.32472706434368, 'lgb_n_estimators': 200, 'lgb_learning_rate': 0.12222114861891953, 'lgb_max_depth': 8, 'lgb_num_leaves': 50, 'lgb_min_child_samples': 40, 'lr_C': 0.01615680306816557, 'lr_penalty': 'l2', 'lr_solver': 'lbfgs'}. Best is trial 1 with value: 0.8461724263965472.\n"
     ]
    },
    {
     "name": "stderr",
     "output_type": "stream",
     "text": [
      "Best trial: 3. Best value: 0.846413:   4%|█▊                                           | 4/100 [01:21<31:21, 19.60s/it]"
     ]
    },
    {
     "name": "stdout",
     "output_type": "stream",
     "text": [
      "[I 2025-07-05 07:30:50,121] Trial 3 finished with value: 0.8464132485736502 and parameters: {'rf_n_estimators': 250, 'rf_max_depth': 6, 'xgb_n_estimators': 300, 'xgb_learning_rate': 0.023161125273512037, 'xgb_max_depth': 19, 'xgb_subsample': 0.7186937903873445, 'xgb_colsample_bytree': 0.5366807763992613, 'xgb_gamma': 2.6574677800093283, 'xgb_reg_lambda': 2.6351010124068375, 'xgb_reg_alpha': 4.1383548207185274, 'xgb_scale_pos_weight': 3.271831393919917, 'lgb_n_estimators': 450, 'lgb_learning_rate': 0.1948341494837531, 'lgb_max_depth': 8, 'lgb_num_leaves': 60, 'lgb_min_child_samples': 50, 'lr_C': 1.2781976733186642, 'lr_penalty': 'l2', 'lr_solver': 'lbfgs'}. Best is trial 3 with value: 0.8464132485736502.\n"
     ]
    },
    {
     "name": "stderr",
     "output_type": "stream",
     "text": [
      "Best trial: 4. Best value: 0.846873:   5%|██▎                                          | 5/100 [01:43<32:10, 20.32s/it]"
     ]
    },
    {
     "name": "stdout",
     "output_type": "stream",
     "text": [
      "[I 2025-07-05 07:31:11,709] Trial 4 finished with value: 0.8468725165170249 and parameters: {'rf_n_estimators': 450, 'rf_max_depth': 15, 'xgb_n_estimators': 400, 'xgb_learning_rate': 0.16027704818359081, 'xgb_max_depth': 5, 'xgb_subsample': 0.916352073518564, 'xgb_colsample_bytree': 0.9676260090367724, 'xgb_gamma': 4.370104863817951, 'xgb_reg_lambda': 4.420493570601015, 'xgb_reg_alpha': 0.8411424095449516, 'xgb_scale_pos_weight': 5.927982199880548, 'lgb_n_estimators': 200, 'lgb_learning_rate': 0.042146894469574925, 'lgb_max_depth': 8, 'lgb_num_leaves': 75, 'lgb_min_child_samples': 40, 'lr_C': 8.211353083839477, 'lr_penalty': 'l2', 'lr_solver': 'liblinear'}. Best is trial 4 with value: 0.8468725165170249.\n"
     ]
    },
    {
     "name": "stderr",
     "output_type": "stream",
     "text": [
      "Best trial: 5. Best value: 0.848478:   6%|██▋                                          | 6/100 [02:10<35:18, 22.54s/it]"
     ]
    },
    {
     "name": "stdout",
     "output_type": "stream",
     "text": [
      "[I 2025-07-05 07:31:38,544] Trial 5 finished with value: 0.8484783714058738 and parameters: {'rf_n_estimators': 100, 'rf_max_depth': 15, 'xgb_n_estimators': 200, 'xgb_learning_rate': 0.1580991438918876, 'xgb_max_depth': 7, 'xgb_subsample': 0.8102097133024087, 'xgb_colsample_bytree': 0.7288011342930574, 'xgb_gamma': 4.652343289598667, 'xgb_reg_lambda': 4.901862904178191, 'xgb_reg_alpha': 0.06366677120593633, 'xgb_scale_pos_weight': 4.847748203186034, 'lgb_n_estimators': 500, 'lgb_learning_rate': 0.02059491366934949, 'lgb_max_depth': 11, 'lgb_num_leaves': 50, 'lgb_min_child_samples': 20, 'lr_C': 0.017140798823941473, 'lr_penalty': 'l2', 'lr_solver': 'lbfgs'}. Best is trial 5 with value: 0.8484783714058738.\n"
     ]
    },
    {
     "name": "stderr",
     "output_type": "stream",
     "text": [
      "Best trial: 5. Best value: 0.848478:   7%|███▏                                         | 7/100 [02:22<29:38, 19.13s/it]"
     ]
    },
    {
     "name": "stdout",
     "output_type": "stream",
     "text": [
      "[I 2025-07-05 07:31:50,655] Trial 6 finished with value: 0.8437562148275086 and parameters: {'rf_n_estimators': 100, 'rf_max_depth': 15, 'xgb_n_estimators': 200, 'xgb_learning_rate': 0.02426351978652023, 'xgb_max_depth': 9, 'xgb_subsample': 0.5890290929697024, 'xgb_colsample_bytree': 0.5011624963349305, 'xgb_gamma': 3.9333319114137124, 'xgb_reg_lambda': 0.2414233995102566, 'xgb_reg_alpha': 4.004431037904789, 'xgb_scale_pos_weight': 8.806242393323494, 'lgb_n_estimators': 450, 'lgb_learning_rate': 0.02512292267029579, 'lgb_max_depth': 10, 'lgb_num_leaves': 15, 'lgb_min_child_samples': 50, 'lr_C': 9.722319179390354, 'lr_penalty': 'l2', 'lr_solver': 'liblinear'}. Best is trial 5 with value: 0.8484783714058738.\n"
     ]
    },
    {
     "name": "stderr",
     "output_type": "stream",
     "text": [
      "Best trial: 7. Best value: 0.849052:   8%|███▌                                         | 8/100 [03:03<40:00, 26.09s/it]"
     ]
    },
    {
     "name": "stdout",
     "output_type": "stream",
     "text": [
      "[I 2025-07-05 07:32:31,643] Trial 7 finished with value: 0.8490516799303339 and parameters: {'rf_n_estimators': 100, 'rf_max_depth': 4, 'xgb_n_estimators': 400, 'xgb_learning_rate': 0.04280983383837165, 'xgb_max_depth': 15, 'xgb_subsample': 0.7511596465389196, 'xgb_colsample_bytree': 0.8046133036171597, 'xgb_gamma': 1.3119687601314793, 'xgb_reg_lambda': 0.2540869656227296, 'xgb_reg_alpha': 0.2597374196090346, 'xgb_scale_pos_weight': 5.537620538806622, 'lgb_n_estimators': 500, 'lgb_learning_rate': 0.03014488692881096, 'lgb_max_depth': 9, 'lgb_num_leaves': 105, 'lgb_min_child_samples': 10, 'lr_C': 0.0029277002194632107, 'lr_penalty': 'l2', 'lr_solver': 'liblinear'}. Best is trial 7 with value: 0.8490516799303339.\n"
     ]
    },
    {
     "name": "stderr",
     "output_type": "stream",
     "text": [
      "Best trial: 8. Best value: 0.850562:   9%|████                                         | 9/100 [03:27<38:27, 25.36s/it]"
     ]
    },
    {
     "name": "stdout",
     "output_type": "stream",
     "text": [
      "[I 2025-07-05 07:32:55,395] Trial 8 finished with value: 0.8505618212796208 and parameters: {'rf_n_estimators': 400, 'rf_max_depth': 16, 'xgb_n_estimators': 200, 'xgb_learning_rate': 0.048063929255861844, 'xgb_max_depth': 3, 'xgb_subsample': 0.9962596443378207, 'xgb_colsample_bytree': 0.6104250867206489, 'xgb_gamma': 1.4612807839075286, 'xgb_reg_lambda': 2.4319269240478474, 'xgb_reg_alpha': 3.826049950067964, 'xgb_scale_pos_weight': 3.280617588567954, 'lgb_n_estimators': 500, 'lgb_learning_rate': 0.01201389604245231, 'lgb_max_depth': 8, 'lgb_num_leaves': 25, 'lgb_min_child_samples': 10, 'lr_C': 9.628290574738507, 'lr_penalty': 'l2', 'lr_solver': 'lbfgs'}. Best is trial 8 with value: 0.8505618212796208.\n"
     ]
    },
    {
     "name": "stderr",
     "output_type": "stream",
     "text": [
      "Best trial: 8. Best value: 0.850562:  10%|████▍                                       | 10/100 [03:41<33:04, 22.05s/it]"
     ]
    },
    {
     "name": "stdout",
     "output_type": "stream",
     "text": [
      "[I 2025-07-05 07:33:10,044] Trial 9 finished with value: 0.8458165040508137 and parameters: {'rf_n_estimators': 200, 'rf_max_depth': 20, 'xgb_n_estimators': 400, 'xgb_learning_rate': 0.23942033017062733, 'xgb_max_depth': 10, 'xgb_subsample': 0.8957047258897821, 'xgb_colsample_bytree': 0.769534774335589, 'xgb_gamma': 2.444221971918075, 'xgb_reg_lambda': 0.28284299911048305, 'xgb_reg_alpha': 4.788642942697341, 'xgb_scale_pos_weight': 4.162538397754515, 'lgb_n_estimators': 200, 'lgb_learning_rate': 0.011046570586276597, 'lgb_max_depth': 19, 'lgb_num_leaves': 110, 'lgb_min_child_samples': 80, 'lr_C': 0.01802117448310552, 'lr_penalty': 'l2', 'lr_solver': 'liblinear'}. Best is trial 8 with value: 0.8505618212796208.\n"
     ]
    },
    {
     "name": "stderr",
     "output_type": "stream",
     "text": [
      "Best trial: 10. Best value: 0.854815:  11%|████▋                                      | 11/100 [04:02<32:09, 21.68s/it]"
     ]
    },
    {
     "name": "stdout",
     "output_type": "stream",
     "text": [
      "[I 2025-07-05 07:33:30,880] Trial 10 finished with value: 0.854815220870239 and parameters: {'rf_n_estimators': 500, 'rf_max_depth': 19, 'xgb_n_estimators': 100, 'xgb_learning_rate': 0.06754082183558358, 'xgb_max_depth': 13, 'xgb_subsample': 0.5301177414776796, 'xgb_colsample_bytree': 0.6404968556770804, 'xgb_gamma': 0.861776238936323, 'xgb_reg_lambda': 2.32317740723886, 'xgb_reg_alpha': 3.101205031864112, 'xgb_scale_pos_weight': 1.8465090345006678, 'lgb_n_estimators': 350, 'lgb_learning_rate': 0.08505699513197416, 'lgb_max_depth': 14, 'lgb_num_leaves': 15, 'lgb_min_child_samples': 80, 'lr_C': 0.5304177436600023, 'lr_penalty': 'l2', 'lr_solver': 'lbfgs'}. Best is trial 10 with value: 0.854815220870239.\n"
     ]
    },
    {
     "name": "stderr",
     "output_type": "stream",
     "text": [
      "Best trial: 10. Best value: 0.854815:  12%|█████▏                                     | 12/100 [04:22<31:08, 21.24s/it]"
     ]
    },
    {
     "name": "stdout",
     "output_type": "stream",
     "text": [
      "[I 2025-07-05 07:33:51,103] Trial 11 finished with value: 0.8540456168313901 and parameters: {'rf_n_estimators': 500, 'rf_max_depth': 20, 'xgb_n_estimators': 100, 'xgb_learning_rate': 0.06446398161820881, 'xgb_max_depth': 13, 'xgb_subsample': 0.5037031190545912, 'xgb_colsample_bytree': 0.6433475271450341, 'xgb_gamma': 0.8824681293867194, 'xgb_reg_lambda': 2.310658889026889, 'xgb_reg_alpha': 2.648194402676358, 'xgb_scale_pos_weight': 1.7994050780544877, 'lgb_n_estimators': 350, 'lgb_learning_rate': 0.0898962334144743, 'lgb_max_depth': 15, 'lgb_num_leaves': 15, 'lgb_min_child_samples': 80, 'lr_C': 1.0312208413249229, 'lr_penalty': 'l2', 'lr_solver': 'lbfgs'}. Best is trial 10 with value: 0.854815220870239.\n"
     ]
    },
    {
     "name": "stderr",
     "output_type": "stream",
     "text": [
      "Best trial: 12. Best value: 0.856303:  13%|█████▌                                     | 13/100 [04:42<30:10, 20.81s/it]"
     ]
    },
    {
     "name": "stdout",
     "output_type": "stream",
     "text": [
      "[I 2025-07-05 07:34:10,948] Trial 12 finished with value: 0.8563034183824358 and parameters: {'rf_n_estimators': 500, 'rf_max_depth': 20, 'xgb_n_estimators': 100, 'xgb_learning_rate': 0.0840124453988488, 'xgb_max_depth': 13, 'xgb_subsample': 0.5117112906264014, 'xgb_colsample_bytree': 0.6568065078987277, 'xgb_gamma': 0.26977907758827957, 'xgb_reg_lambda': 2.400936463469613, 'xgb_reg_alpha': 2.7331628412517643, 'xgb_scale_pos_weight': 1.2746696770156922, 'lgb_n_estimators': 300, 'lgb_learning_rate': 0.07712469377154846, 'lgb_max_depth': 15, 'lgb_num_leaves': 15, 'lgb_min_child_samples': 90, 'lr_C': 0.6254034390330256, 'lr_penalty': 'l2', 'lr_solver': 'lbfgs'}. Best is trial 12 with value: 0.8563034183824358.\n"
     ]
    },
    {
     "name": "stderr",
     "output_type": "stream",
     "text": [
      "Best trial: 12. Best value: 0.856303:  14%|██████                                     | 14/100 [05:06<31:02, 21.66s/it]"
     ]
    },
    {
     "name": "stdout",
     "output_type": "stream",
     "text": [
      "[I 2025-07-05 07:34:34,566] Trial 13 finished with value: 0.8503250948516424 and parameters: {'rf_n_estimators': 500, 'rf_max_depth': 18, 'xgb_n_estimators': 100, 'xgb_learning_rate': 0.08213236361849564, 'xgb_max_depth': 13, 'xgb_subsample': 0.5266898656925985, 'xgb_colsample_bytree': 0.6756887740948996, 'xgb_gamma': 0.09395054392260738, 'xgb_reg_lambda': 3.242790792355047, 'xgb_reg_alpha': 2.561711135540751, 'xgb_scale_pos_weight': 2.444090963853151, 'lgb_n_estimators': 300, 'lgb_learning_rate': 0.07203783641443266, 'lgb_max_depth': 15, 'lgb_num_leaves': 35, 'lgb_min_child_samples': 100, 'lr_C': 0.3729881799920656, 'lr_penalty': 'l2', 'lr_solver': 'lbfgs'}. Best is trial 12 with value: 0.8563034183824358.\n"
     ]
    },
    {
     "name": "stderr",
     "output_type": "stream",
     "text": [
      "Best trial: 12. Best value: 0.856303:  15%|██████▍                                    | 15/100 [05:28<30:50, 21.77s/it]"
     ]
    },
    {
     "name": "stdout",
     "output_type": "stream",
     "text": [
      "[I 2025-07-05 07:34:56,582] Trial 14 finished with value: 0.8474347254416568 and parameters: {'rf_n_estimators': 300, 'rf_max_depth': 11, 'xgb_n_estimators': 500, 'xgb_learning_rate': 0.09652697407354632, 'xgb_max_depth': 15, 'xgb_subsample': 0.6216951356587022, 'xgb_colsample_bytree': 0.6126383815347579, 'xgb_gamma': 0.7671920088844701, 'xgb_reg_lambda': 1.6536611424904928, 'xgb_reg_alpha': 3.183617930161323, 'xgb_scale_pos_weight': 1.0589445059267977, 'lgb_n_estimators': 350, 'lgb_learning_rate': 0.28875950100319636, 'lgb_max_depth': 13, 'lgb_num_leaves': 75, 'lgb_min_child_samples': 80, 'lr_C': 0.29161126680063104, 'lr_penalty': 'l2', 'lr_solver': 'lbfgs'}. Best is trial 12 with value: 0.8563034183824358.\n"
     ]
    },
    {
     "name": "stderr",
     "output_type": "stream",
     "text": [
      "Best trial: 12. Best value: 0.856303:  16%|██████▉                                    | 16/100 [05:50<30:41, 21.92s/it]"
     ]
    },
    {
     "name": "stdout",
     "output_type": "stream",
     "text": [
      "[I 2025-07-05 07:35:18,837] Trial 15 finished with value: 0.8504060821938076 and parameters: {'rf_n_estimators': 450, 'rf_max_depth': 12, 'xgb_n_estimators': 100, 'xgb_learning_rate': 0.03806393900589653, 'xgb_max_depth': 11, 'xgb_subsample': 0.6141251920249561, 'xgb_colsample_bytree': 0.7234595254407513, 'xgb_gamma': 2.021694969864701, 'xgb_reg_lambda': 3.408829678525456, 'xgb_reg_alpha': 1.8841780896880171, 'xgb_scale_pos_weight': 2.5360500043470853, 'lgb_n_estimators': 300, 'lgb_learning_rate': 0.12847855894468435, 'lgb_max_depth': 20, 'lgb_num_leaves': 150, 'lgb_min_child_samples': 100, 'lr_C': 1.7532105810945555, 'lr_penalty': 'l2', 'lr_solver': 'lbfgs'}. Best is trial 12 with value: 0.8563034183824358.\n"
     ]
    },
    {
     "name": "stderr",
     "output_type": "stream",
     "text": [
      "Best trial: 12. Best value: 0.856303:  17%|███████▎                                   | 17/100 [06:16<31:53, 23.05s/it]"
     ]
    },
    {
     "name": "stdout",
     "output_type": "stream",
     "text": [
      "[I 2025-07-05 07:35:44,518] Trial 16 finished with value: 0.8493031648396244 and parameters: {'rf_n_estimators': 500, 'rf_max_depth': 18, 'xgb_n_estimators': 150, 'xgb_learning_rate': 0.07572408886202726, 'xgb_max_depth': 20, 'xgb_subsample': 0.5612646405804198, 'xgb_colsample_bytree': 0.581483949443935, 'xgb_gamma': 0.6827408142249424, 'xgb_reg_lambda': 2.0427833170100786, 'xgb_reg_alpha': 3.1679987474498095, 'xgb_scale_pos_weight': 3.852346733700469, 'lgb_n_estimators': 350, 'lgb_learning_rate': 0.06765924758060501, 'lgb_max_depth': 17, 'lgb_num_leaves': 35, 'lgb_min_child_samples': 70, 'lr_C': 0.091916312212667, 'lr_penalty': 'l2', 'lr_solver': 'lbfgs'}. Best is trial 12 with value: 0.8563034183824358.\n"
     ]
    },
    {
     "name": "stderr",
     "output_type": "stream",
     "text": [
      "Best trial: 12. Best value: 0.856303:  18%|███████▋                                   | 18/100 [06:42<32:58, 24.13s/it]"
     ]
    },
    {
     "name": "stdout",
     "output_type": "stream",
     "text": [
      "[I 2025-07-05 07:36:11,163] Trial 17 finished with value: 0.8465526872963228 and parameters: {'rf_n_estimators': 400, 'rf_max_depth': 12, 'xgb_n_estimators': 150, 'xgb_learning_rate': 0.011192617767145996, 'xgb_max_depth': 14, 'xgb_subsample': 0.6726498756581242, 'xgb_colsample_bytree': 0.6965338703796239, 'xgb_gamma': 1.8055310964248412, 'xgb_reg_lambda': 1.3175521752269745, 'xgb_reg_alpha': 1.619190087004491, 'xgb_scale_pos_weight': 6.931232594823253, 'lgb_n_estimators': 400, 'lgb_learning_rate': 0.05061575509095397, 'lgb_max_depth': 12, 'lgb_num_leaves': 90, 'lgb_min_child_samples': 70, 'lr_C': 0.33646425009870645, 'lr_penalty': 'l2', 'lr_solver': 'lbfgs'}. Best is trial 12 with value: 0.8563034183824358.\n"
     ]
    },
    {
     "name": "stderr",
     "output_type": "stream",
     "text": [
      "Best trial: 12. Best value: 0.856303:  19%|████████▏                                  | 19/100 [07:00<30:02, 22.26s/it]"
     ]
    },
    {
     "name": "stdout",
     "output_type": "stream",
     "text": [
      "[I 2025-07-05 07:36:29,064] Trial 18 finished with value: 0.8512840664992148 and parameters: {'rf_n_estimators': 300, 'rf_max_depth': 18, 'xgb_n_estimators': 150, 'xgb_learning_rate': 0.1114061940729154, 'xgb_max_depth': 17, 'xgb_subsample': 0.6595486294902081, 'xgb_colsample_bytree': 0.6651269211450114, 'xgb_gamma': 3.3127490861755122, 'xgb_reg_lambda': 3.1071506817021577, 'xgb_reg_alpha': 3.123239012823193, 'xgb_scale_pos_weight': 2.115477293056782, 'lgb_n_estimators': 250, 'lgb_learning_rate': 0.11856168216306849, 'lgb_max_depth': 13, 'lgb_num_leaves': 30, 'lgb_min_child_samples': 90, 'lr_C': 2.771686721526999, 'lr_penalty': 'l2', 'lr_solver': 'lbfgs'}. Best is trial 12 with value: 0.8563034183824358.\n"
     ]
    },
    {
     "name": "stderr",
     "output_type": "stream",
     "text": [
      "Best trial: 12. Best value: 0.856303:  20%|████████▌                                  | 20/100 [07:19<28:06, 21.08s/it]"
     ]
    },
    {
     "name": "stdout",
     "output_type": "stream",
     "text": [
      "[I 2025-07-05 07:36:47,385] Trial 19 finished with value: 0.8535297964472722 and parameters: {'rf_n_estimators': 450, 'rf_max_depth': 20, 'xgb_n_estimators': 500, 'xgb_learning_rate': 0.031711463197719586, 'xgb_max_depth': 8, 'xgb_subsample': 0.557190686475779, 'xgb_colsample_bytree': 0.7799630171472755, 'xgb_gamma': 0.46777738355370246, 'xgb_reg_lambda': 3.656302967962172, 'xgb_reg_alpha': 4.517392873865029, 'xgb_scale_pos_weight': 1.021085175951695, 'lgb_n_estimators': 100, 'lgb_learning_rate': 0.20741657557447077, 'lgb_max_depth': 18, 'lgb_num_leaves': 15, 'lgb_min_child_samples': 60, 'lr_C': 0.0010764266980776743, 'lr_penalty': 'l2', 'lr_solver': 'lbfgs'}. Best is trial 12 with value: 0.8563034183824358.\n"
     ]
    },
    {
     "name": "stderr",
     "output_type": "stream",
     "text": [
      "Best trial: 12. Best value: 0.856303:  21%|█████████                                  | 21/100 [07:30<23:51, 18.12s/it]"
     ]
    },
    {
     "name": "stdout",
     "output_type": "stream",
     "text": [
      "[I 2025-07-05 07:36:58,596] Trial 20 finished with value: 0.8487339177307033 and parameters: {'rf_n_estimators': 350, 'rf_max_depth': 10, 'xgb_n_estimators': 100, 'xgb_learning_rate': 0.056811190103539924, 'xgb_max_depth': 12, 'xgb_subsample': 0.510475410818488, 'xgb_colsample_bytree': 0.5809083230458149, 'xgb_gamma': 1.258899256851684, 'xgb_reg_lambda': 2.852889590362019, 'xgb_reg_alpha': 2.9232353162264024, 'xgb_scale_pos_weight': 3.2424565498895337, 'lgb_n_estimators': 400, 'lgb_learning_rate': 0.07794337698540635, 'lgb_max_depth': 3, 'lgb_num_leaves': 65, 'lgb_min_child_samples': 90, 'lr_C': 0.061533463264714684, 'lr_penalty': 'l2', 'lr_solver': 'lbfgs'}. Best is trial 12 with value: 0.8563034183824358.\n"
     ]
    },
    {
     "name": "stderr",
     "output_type": "stream",
     "text": [
      "Best trial: 12. Best value: 0.856303:  22%|█████████▍                                 | 22/100 [07:49<24:09, 18.58s/it]"
     ]
    },
    {
     "name": "stdout",
     "output_type": "stream",
     "text": [
      "[I 2025-07-05 07:37:18,271] Trial 21 finished with value: 0.8534501358430481 and parameters: {'rf_n_estimators': 500, 'rf_max_depth': 20, 'xgb_n_estimators': 100, 'xgb_learning_rate': 0.06140701114378349, 'xgb_max_depth': 12, 'xgb_subsample': 0.5007809079836177, 'xgb_colsample_bytree': 0.6460158834505787, 'xgb_gamma': 0.9157771419655637, 'xgb_reg_lambda': 2.2035234275794915, 'xgb_reg_alpha': 2.496578981820936, 'xgb_scale_pos_weight': 1.928308932985611, 'lgb_n_estimators': 350, 'lgb_learning_rate': 0.09474624335412049, 'lgb_max_depth': 15, 'lgb_num_leaves': 15, 'lgb_min_child_samples': 80, 'lr_C': 0.7254855010448805, 'lr_penalty': 'l2', 'lr_solver': 'lbfgs'}. Best is trial 12 with value: 0.8563034183824358.\n"
     ]
    },
    {
     "name": "stderr",
     "output_type": "stream",
     "text": [
      "Best trial: 12. Best value: 0.856303:  23%|█████████▉                                 | 23/100 [08:11<24:51, 19.37s/it]"
     ]
    },
    {
     "name": "stdout",
     "output_type": "stream",
     "text": [
      "[I 2025-07-05 07:37:39,488] Trial 22 finished with value: 0.8531950910879105 and parameters: {'rf_n_estimators': 500, 'rf_max_depth': 17, 'xgb_n_estimators': 150, 'xgb_learning_rate': 0.06896840961406829, 'xgb_max_depth': 16, 'xgb_subsample': 0.5585562733355399, 'xgb_colsample_bytree': 0.6351849561340553, 'xgb_gamma': 0.37871397823573005, 'xgb_reg_lambda': 1.7037116479271517, 'xgb_reg_alpha': 2.6681393952444368, 'xgb_scale_pos_weight': 1.7714834843788285, 'lgb_n_estimators': 250, 'lgb_learning_rate': 0.05820068331712143, 'lgb_max_depth': 14, 'lgb_num_leaves': 30, 'lgb_min_child_samples': 90, 'lr_C': 3.066675912479726, 'lr_penalty': 'l2', 'lr_solver': 'lbfgs'}. Best is trial 12 with value: 0.8563034183824358.\n"
     ]
    },
    {
     "name": "stderr",
     "output_type": "stream",
     "text": [
      "Best trial: 12. Best value: 0.856303:  24%|██████████▎                                | 24/100 [08:30<24:24, 19.27s/it]"
     ]
    },
    {
     "name": "stdout",
     "output_type": "stream",
     "text": [
      "[I 2025-07-05 07:37:58,521] Trial 23 finished with value: 0.8477972659079525 and parameters: {'rf_n_estimators': 450, 'rf_max_depth': 19, 'xgb_n_estimators': 100, 'xgb_learning_rate': 0.09698838782855794, 'xgb_max_depth': 13, 'xgb_subsample': 0.6251674569884142, 'xgb_colsample_bytree': 0.6889029450449378, 'xgb_gamma': 1.180922711842924, 'xgb_reg_lambda': 1.8523604945858791, 'xgb_reg_alpha': 3.5209920751208266, 'xgb_scale_pos_weight': 9.948965465138915, 'lgb_n_estimators': 400, 'lgb_learning_rate': 0.09452758431776528, 'lgb_max_depth': 17, 'lgb_num_leaves': 15, 'lgb_min_child_samples': 70, 'lr_C': 0.7018365622969314, 'lr_penalty': 'l2', 'lr_solver': 'lbfgs'}. Best is trial 12 with value: 0.8563034183824358.\n"
     ]
    },
    {
     "name": "stderr",
     "output_type": "stream",
     "text": [
      "Best trial: 12. Best value: 0.856303:  25%|██████████▊                                | 25/100 [08:50<24:33, 19.65s/it]"
     ]
    },
    {
     "name": "stdout",
     "output_type": "stream",
     "text": [
      "[I 2025-07-05 07:38:19,053] Trial 24 finished with value: 0.8503634601295779 and parameters: {'rf_n_estimators': 500, 'rf_max_depth': 14, 'xgb_n_estimators': 150, 'xgb_learning_rate': 0.03138953740341381, 'xgb_max_depth': 10, 'xgb_subsample': 0.5402157787993634, 'xgb_colsample_bytree': 0.576640714241248, 'xgb_gamma': 1.8003150481139953, 'xgb_reg_lambda': 1.175226916897556, 'xgb_reg_alpha': 1.9346847864852916, 'xgb_scale_pos_weight': 2.586778002621617, 'lgb_n_estimators': 300, 'lgb_learning_rate': 0.15183331722745796, 'lgb_max_depth': 15, 'lgb_num_leaves': 25, 'lgb_min_child_samples': 60, 'lr_C': 0.1811327596766545, 'lr_penalty': 'l2', 'lr_solver': 'lbfgs'}. Best is trial 12 with value: 0.8563034183824358.\n"
     ]
    },
    {
     "name": "stderr",
     "output_type": "stream",
     "text": [
      "Best trial: 12. Best value: 0.856303:  26%|███████████▏                               | 26/100 [09:15<26:07, 21.18s/it]"
     ]
    },
    {
     "name": "stdout",
     "output_type": "stream",
     "text": [
      "[I 2025-07-05 07:38:43,782] Trial 25 finished with value: 0.8523762886923177 and parameters: {'rf_n_estimators': 450, 'rf_max_depth': 17, 'xgb_n_estimators': 250, 'xgb_learning_rate': 0.05213268287433129, 'xgb_max_depth': 14, 'xgb_subsample': 0.5849032109429104, 'xgb_colsample_bytree': 0.7211383101336626, 'xgb_gamma': 0.9099968242944303, 'xgb_reg_lambda': 2.4888152983993876, 'xgb_reg_alpha': 2.2504547064492604, 'xgb_scale_pos_weight': 1.6719952589020919, 'lgb_n_estimators': 350, 'lgb_learning_rate': 0.05049506154469332, 'lgb_max_depth': 13, 'lgb_num_leaves': 40, 'lgb_min_child_samples': 100, 'lr_C': 0.9007791036682278, 'lr_penalty': 'l2', 'lr_solver': 'lbfgs'}. Best is trial 12 with value: 0.8563034183824358.\n"
     ]
    },
    {
     "name": "stderr",
     "output_type": "stream",
     "text": [
      "Best trial: 12. Best value: 0.856303:  27%|███████████▌                               | 27/100 [09:36<25:44, 21.16s/it]"
     ]
    },
    {
     "name": "stdout",
     "output_type": "stream",
     "text": [
      "[I 2025-07-05 07:39:04,914] Trial 26 finished with value: 0.8478878954155902 and parameters: {'rf_n_estimators': 350, 'rf_max_depth': 19, 'xgb_n_estimators': 200, 'xgb_learning_rate': 0.16556178729632395, 'xgb_max_depth': 11, 'xgb_subsample': 0.5006210257097304, 'xgb_colsample_bytree': 0.6346351321890622, 'xgb_gamma': 0.04165971858744488, 'xgb_reg_lambda': 3.7506667352394807, 'xgb_reg_alpha': 3.4506292498462368, 'xgb_scale_pos_weight': 4.363586340893944, 'lgb_n_estimators': 250, 'lgb_learning_rate': 0.09121731819757577, 'lgb_max_depth': 16, 'lgb_num_leaves': 60, 'lgb_min_child_samples': 80, 'lr_C': 3.6374503443760906, 'lr_penalty': 'l2', 'lr_solver': 'lbfgs'}. Best is trial 12 with value: 0.8563034183824358.\n"
     ]
    },
    {
     "name": "stderr",
     "output_type": "stream",
     "text": [
      "Best trial: 12. Best value: 0.856303:  28%|████████████                               | 28/100 [09:57<25:09, 20.97s/it]"
     ]
    },
    {
     "name": "stdout",
     "output_type": "stream",
     "text": [
      "[I 2025-07-05 07:39:25,435] Trial 27 finished with value: 0.8498519612317309 and parameters: {'rf_n_estimators': 400, 'rf_max_depth': 20, 'xgb_n_estimators': 100, 'xgb_learning_rate': 0.07727362700266602, 'xgb_max_depth': 18, 'xgb_subsample': 0.5755374271559479, 'xgb_colsample_bytree': 0.5537688446930682, 'xgb_gamma': 2.226251549532382, 'xgb_reg_lambda': 2.772361895553032, 'xgb_reg_alpha': 1.428606262395586, 'xgb_scale_pos_weight': 2.9670303171300416, 'lgb_n_estimators': 400, 'lgb_learning_rate': 0.170937648150274, 'lgb_max_depth': 11, 'lgb_num_leaves': 25, 'lgb_min_child_samples': 90, 'lr_C': 0.32377299447751984, 'lr_penalty': 'l2', 'lr_solver': 'lbfgs'}. Best is trial 12 with value: 0.8563034183824358.\n"
     ]
    },
    {
     "name": "stderr",
     "output_type": "stream",
     "text": [
      "Best trial: 12. Best value: 0.856303:  29%|████████████▍                              | 29/100 [10:22<26:27, 22.36s/it]"
     ]
    },
    {
     "name": "stdout",
     "output_type": "stream",
     "text": [
      "[I 2025-07-05 07:39:51,043] Trial 28 finished with value: 0.8509595104113851 and parameters: {'rf_n_estimators': 500, 'rf_max_depth': 17, 'xgb_n_estimators': 150, 'xgb_learning_rate': 0.10468664073207348, 'xgb_max_depth': 13, 'xgb_subsample': 0.6323504464910408, 'xgb_colsample_bytree': 0.6205071784007972, 'xgb_gamma': 3.147549427368193, 'xgb_reg_lambda': 2.2646938057249075, 'xgb_reg_alpha': 2.829067755660942, 'xgb_scale_pos_weight': 1.5701269115227765, 'lgb_n_estimators': 300, 'lgb_learning_rate': 0.27778860905321623, 'lgb_max_depth': 14, 'lgb_num_leaves': 45, 'lgb_min_child_samples': 70, 'lr_C': 1.760875501787154, 'lr_penalty': 'l2', 'lr_solver': 'lbfgs'}. Best is trial 12 with value: 0.8563034183824358.\n"
     ]
    },
    {
     "name": "stderr",
     "output_type": "stream",
     "text": [
      "Best trial: 12. Best value: 0.856303:  30%|████████████▉                              | 30/100 [10:48<27:27, 23.54s/it]"
     ]
    },
    {
     "name": "stdout",
     "output_type": "stream",
     "text": [
      "[I 2025-07-05 07:40:17,331] Trial 29 finished with value: 0.8479612818328294 and parameters: {'rf_n_estimators': 400, 'rf_max_depth': 13, 'xgb_n_estimators': 300, 'xgb_learning_rate': 0.12903051915415553, 'xgb_max_depth': 15, 'xgb_subsample': 0.5356999369504359, 'xgb_colsample_bytree': 0.8136505410652233, 'xgb_gamma': 0.35179546891399416, 'xgb_reg_lambda': 0.7155395908940498, 'xgb_reg_alpha': 3.586398357440153, 'xgb_scale_pos_weight': 7.207390458771616, 'lgb_n_estimators': 350, 'lgb_learning_rate': 0.037531559904229184, 'lgb_max_depth': 18, 'lgb_num_leaves': 45, 'lgb_min_child_samples': 60, 'lr_C': 0.5246536008273194, 'lr_penalty': 'l2', 'lr_solver': 'liblinear'}. Best is trial 12 with value: 0.8563034183824358.\n"
     ]
    },
    {
     "name": "stderr",
     "output_type": "stream",
     "text": [
      "Best trial: 12. Best value: 0.856303:  31%|█████████████▎                             | 31/100 [11:06<24:55, 21.68s/it]"
     ]
    },
    {
     "name": "stdout",
     "output_type": "stream",
     "text": [
      "[I 2025-07-05 07:40:34,680] Trial 30 finished with value: 0.8502214973297989 and parameters: {'rf_n_estimators': 450, 'rf_max_depth': 19, 'xgb_n_estimators': 250, 'xgb_learning_rate': 0.1919709286163577, 'xgb_max_depth': 8, 'xgb_subsample': 0.7874851236011927, 'xgb_colsample_bytree': 0.9041890107284436, 'xgb_gamma': 1.6006927935438378, 'xgb_reg_lambda': 1.4816512821139904, 'xgb_reg_alpha': 2.2237074316543013, 'xgb_scale_pos_weight': 3.7590809411277872, 'lgb_n_estimators': 450, 'lgb_learning_rate': 0.06213889168162536, 'lgb_max_depth': 5, 'lgb_num_leaves': 25, 'lgb_min_child_samples': 90, 'lr_C': 0.17276787547680664, 'lr_penalty': 'l2', 'lr_solver': 'lbfgs'}. Best is trial 12 with value: 0.8563034183824358.\n"
     ]
    },
    {
     "name": "stderr",
     "output_type": "stream",
     "text": [
      "Best trial: 12. Best value: 0.856303:  32%|█████████████                            | 32/100 [13:17<1:01:49, 54.55s/it]"
     ]
    },
    {
     "name": "stdout",
     "output_type": "stream",
     "text": [
      "[I 2025-07-05 07:42:45,922] Trial 31 finished with value: 0.8518044239377228 and parameters: {'rf_n_estimators': 450, 'rf_max_depth': 20, 'xgb_n_estimators': 500, 'xgb_learning_rate': 0.036125791199702585, 'xgb_max_depth': 7, 'xgb_subsample': 0.5388867059866802, 'xgb_colsample_bytree': 0.7558172720566592, 'xgb_gamma': 0.5289398674267953, 'xgb_reg_lambda': 3.777417692604231, 'xgb_reg_alpha': 4.473199681668108, 'xgb_scale_pos_weight': 1.0398819234588912, 'lgb_n_estimators': 150, 'lgb_learning_rate': 0.2215303977171476, 'lgb_max_depth': 18, 'lgb_num_leaves': 20, 'lgb_min_child_samples': 60, 'lr_C': 0.0010611929977095303, 'lr_penalty': 'l2', 'lr_solver': 'lbfgs'}. Best is trial 12 with value: 0.8563034183824358.\n"
     ]
    },
    {
     "name": "stderr",
     "output_type": "stream",
     "text": [
      "Best trial: 12. Best value: 0.856303:  33%|██████████████▏                            | 33/100 [13:37<49:26, 44.28s/it]"
     ]
    },
    {
     "name": "stdout",
     "output_type": "stream",
     "text": [
      "[I 2025-07-05 07:43:06,223] Trial 32 finished with value: 0.8550198841711993 and parameters: {'rf_n_estimators': 500, 'rf_max_depth': 19, 'xgb_n_estimators': 450, 'xgb_learning_rate': 0.0287031513817539, 'xgb_max_depth': 10, 'xgb_subsample': 0.5895833750329594, 'xgb_colsample_bytree': 0.786433395657504, 'xgb_gamma': 1.0317684650771042, 'xgb_reg_lambda': 1.9948588450224243, 'xgb_reg_alpha': 3.776317594413369, 'xgb_scale_pos_weight': 1.4058262155390235, 'lgb_n_estimators': 100, 'lgb_learning_rate': 0.1394164240610871, 'lgb_max_depth': 20, 'lgb_num_leaves': 15, 'lgb_min_child_samples': 80, 'lr_C': 0.05454431107539954, 'lr_penalty': 'l2', 'lr_solver': 'lbfgs'}. Best is trial 12 with value: 0.8563034183824358.\n"
     ]
    },
    {
     "name": "stderr",
     "output_type": "stream",
     "text": [
      "Best trial: 12. Best value: 0.856303:  34%|██████████████▌                            | 34/100 [13:58<40:54, 37.19s/it]"
     ]
    },
    {
     "name": "stdout",
     "output_type": "stream",
     "text": [
      "[I 2025-07-05 07:43:26,892] Trial 33 finished with value: 0.8535608453411231 and parameters: {'rf_n_estimators': 500, 'rf_max_depth': 18, 'xgb_n_estimators': 350, 'xgb_learning_rate': 0.021916582436706616, 'xgb_max_depth': 10, 'xgb_subsample': 0.593044796663163, 'xgb_colsample_bytree': 0.8648775591142386, 'xgb_gamma': 1.0018088842465618, 'xgb_reg_lambda': 1.9451166243958236, 'xgb_reg_alpha': 3.7606261015565634, 'xgb_scale_pos_weight': 1.5449402186282348, 'lgb_n_estimators': 150, 'lgb_learning_rate': 0.10770484709943379, 'lgb_max_depth': 20, 'lgb_num_leaves': 35, 'lgb_min_child_samples': 80, 'lr_C': 0.047079775946831194, 'lr_penalty': 'l2', 'lr_solver': 'lbfgs'}. Best is trial 12 with value: 0.8563034183824358.\n"
     ]
    },
    {
     "name": "stderr",
     "output_type": "stream",
     "text": [
      "Best trial: 12. Best value: 0.856303:  35%|███████████████                            | 35/100 [14:14<33:16, 30.71s/it]"
     ]
    },
    {
     "name": "stdout",
     "output_type": "stream",
     "text": [
      "[I 2025-07-05 07:43:42,472] Trial 34 finished with value: 0.8490718208150891 and parameters: {'rf_n_estimators': 500, 'rf_max_depth': 7, 'xgb_n_estimators': 450, 'xgb_learning_rate': 0.014374942362930906, 'xgb_max_depth': 12, 'xgb_subsample': 0.5262711756755497, 'xgb_colsample_bytree': 0.8316962854475403, 'xgb_gamma': 0.2568690457666208, 'xgb_reg_lambda': 2.898564060945435, 'xgb_reg_alpha': 3.351501182860822, 'xgb_scale_pos_weight': 2.2198154474306744, 'lgb_n_estimators': 250, 'lgb_learning_rate': 0.14225054669434994, 'lgb_max_depth': 16, 'lgb_num_leaves': 20, 'lgb_min_child_samples': 100, 'lr_C': 0.00829802132047429, 'lr_penalty': 'l2', 'lr_solver': 'lbfgs'}. Best is trial 12 with value: 0.8563034183824358.\n"
     ]
    },
    {
     "name": "stderr",
     "output_type": "stream",
     "text": [
      "Best trial: 12. Best value: 0.856303:  36%|███████████████▍                           | 36/100 [14:27<27:05, 25.40s/it]"
     ]
    },
    {
     "name": "stdout",
     "output_type": "stream",
     "text": [
      "[I 2025-07-05 07:43:55,484] Trial 35 finished with value: 0.8516299025557782 and parameters: {'rf_n_estimators': 250, 'rf_max_depth': 16, 'xgb_n_estimators': 350, 'xgb_learning_rate': 0.05774330156538369, 'xgb_max_depth': 14, 'xgb_subsample': 0.7058344109077785, 'xgb_colsample_bytree': 0.6624866898286658, 'xgb_gamma': 0.6700918845347793, 'xgb_reg_lambda': 2.2983224914815006, 'xgb_reg_alpha': 4.167025988287495, 'xgb_scale_pos_weight': 2.847699622032166, 'lgb_n_estimators': 100, 'lgb_learning_rate': 0.07849096028086887, 'lgb_max_depth': 17, 'lgb_num_leaves': 55, 'lgb_min_child_samples': 70, 'lr_C': 0.1594409781415082, 'lr_penalty': 'l2', 'lr_solver': 'liblinear'}. Best is trial 12 with value: 0.8563034183824358.\n"
     ]
    },
    {
     "name": "stderr",
     "output_type": "stream",
     "text": [
      "Best trial: 12. Best value: 0.856303:  37%|███████████████▉                           | 37/100 [14:53<27:05, 25.81s/it]"
     ]
    },
    {
     "name": "stdout",
     "output_type": "stream",
     "text": [
      "[I 2025-07-05 07:44:22,227] Trial 36 finished with value: 0.8489453460882032 and parameters: {'rf_n_estimators': 400, 'rf_max_depth': 19, 'xgb_n_estimators': 450, 'xgb_learning_rate': 0.026661998360552087, 'xgb_max_depth': 16, 'xgb_subsample': 0.6697256411330116, 'xgb_colsample_bytree': 0.7053457612228202, 'xgb_gamma': 1.1559119585209272, 'xgb_reg_lambda': 2.642957237791812, 'xgb_reg_alpha': 2.9137011725113053, 'xgb_scale_pos_weight': 1.4690067023832223, 'lgb_n_estimators': 400, 'lgb_learning_rate': 0.1086715803558923, 'lgb_max_depth': 14, 'lgb_num_leaves': 40, 'lgb_min_child_samples': 80, 'lr_C': 0.03263150384323687, 'lr_penalty': 'l2', 'lr_solver': 'lbfgs'}. Best is trial 12 with value: 0.8563034183824358.\n"
     ]
    },
    {
     "name": "stderr",
     "output_type": "stream",
     "text": [
      "Best trial: 12. Best value: 0.856303:  38%|████████████████▎                          | 38/100 [15:28<29:25, 28.48s/it]"
     ]
    },
    {
     "name": "stdout",
     "output_type": "stream",
     "text": [
      "[I 2025-07-05 07:44:56,944] Trial 37 finished with value: 0.8499896498589269 and parameters: {'rf_n_estimators': 450, 'rf_max_depth': 9, 'xgb_n_estimators': 300, 'xgb_learning_rate': 0.29569792958366337, 'xgb_max_depth': 11, 'xgb_subsample': 0.8444021606870681, 'xgb_colsample_bytree': 0.9492367581073803, 'xgb_gamma': 2.8313349255757885, 'xgb_reg_lambda': 0.8573340529011992, 'xgb_reg_alpha': 2.4973912417407704, 'xgb_scale_pos_weight': 2.240783317447237, 'lgb_n_estimators': 450, 'lgb_learning_rate': 0.04538600267838396, 'lgb_max_depth': 12, 'lgb_num_leaves': 125, 'lgb_min_child_samples': 40, 'lr_C': 4.725747913048431, 'lr_penalty': 'l2', 'lr_solver': 'lbfgs'}. Best is trial 12 with value: 0.8563034183824358.\n"
     ]
    },
    {
     "name": "stderr",
     "output_type": "stream",
     "text": [
      "Best trial: 12. Best value: 0.856303:  39%|████████████████▊                          | 39/100 [15:47<26:08, 25.71s/it]"
     ]
    },
    {
     "name": "stdout",
     "output_type": "stream",
     "text": [
      "[I 2025-07-05 07:45:16,206] Trial 38 finished with value: 0.8501967740611783 and parameters: {'rf_n_estimators': 500, 'rf_max_depth': 16, 'xgb_n_estimators': 200, 'xgb_learning_rate': 0.044069201311828225, 'xgb_max_depth': 13, 'xgb_subsample': 0.6001874714387072, 'xgb_colsample_bytree': 0.7390803147421563, 'xgb_gamma': 1.555684482329207, 'xgb_reg_lambda': 2.073439193220711, 'xgb_reg_alpha': 0.7682287243166992, 'xgb_scale_pos_weight': 4.888126892582972, 'lgb_n_estimators': 300, 'lgb_learning_rate': 0.015437567333399146, 'lgb_max_depth': 10, 'lgb_num_leaves': 15, 'lgb_min_child_samples': 90, 'lr_C': 1.2458620485896723, 'lr_penalty': 'l2', 'lr_solver': 'liblinear'}. Best is trial 12 with value: 0.8563034183824358.\n"
     ]
    },
    {
     "name": "stderr",
     "output_type": "stream",
     "text": [
      "Best trial: 12. Best value: 0.856303:  40%|█████████████████▏                         | 40/100 [16:04<23:07, 23.12s/it]"
     ]
    },
    {
     "name": "stdout",
     "output_type": "stream",
     "text": [
      "[I 2025-07-05 07:45:33,282] Trial 39 finished with value: 0.8499058172724716 and parameters: {'rf_n_estimators': 350, 'rf_max_depth': 17, 'xgb_n_estimators': 250, 'xgb_learning_rate': 0.06623693612072588, 'xgb_max_depth': 9, 'xgb_subsample': 0.7453350550407877, 'xgb_colsample_bytree': 0.7913729242962866, 'xgb_gamma': 0.1511755266628333, 'xgb_reg_lambda': 1.1105770093851972, 'xgb_reg_alpha': 4.257693729882789, 'xgb_scale_pos_weight': 6.418529505969646, 'lgb_n_estimators': 100, 'lgb_learning_rate': 0.18192696476044903, 'lgb_max_depth': 19, 'lgb_num_leaves': 95, 'lgb_min_child_samples': 50, 'lr_C': 0.09384409334720346, 'lr_penalty': 'l2', 'lr_solver': 'lbfgs'}. Best is trial 12 with value: 0.8563034183824358.\n"
     ]
    },
    {
     "name": "stderr",
     "output_type": "stream",
     "text": [
      "Best trial: 12. Best value: 0.856303:  41%|█████████████████▋                         | 41/100 [16:14<18:44, 19.06s/it]"
     ]
    },
    {
     "name": "stdout",
     "output_type": "stream",
     "text": [
      "[I 2025-07-05 07:45:42,869] Trial 40 finished with value: 0.849552372852833 and parameters: {'rf_n_estimators': 150, 'rf_max_depth': 14, 'xgb_n_estimators': 450, 'xgb_learning_rate': 0.01941553182760412, 'xgb_max_depth': 9, 'xgb_subsample': 0.5681298219620798, 'xgb_colsample_bytree': 0.5118733839795302, 'xgb_gamma': 3.8529324422119577, 'xgb_reg_lambda': 3.059264307060829, 'xgb_reg_alpha': 3.8195134501296986, 'xgb_scale_pos_weight': 3.608269719321796, 'lgb_n_estimators': 150, 'lgb_learning_rate': 0.08451277018891756, 'lgb_max_depth': 6, 'lgb_num_leaves': 70, 'lgb_min_child_samples': 30, 'lr_C': 0.5297051113029093, 'lr_penalty': 'l2', 'lr_solver': 'liblinear'}. Best is trial 12 with value: 0.8563034183824358.\n"
     ]
    },
    {
     "name": "stderr",
     "output_type": "stream",
     "text": [
      "Best trial: 12. Best value: 0.856303:  42%|██████████████████                         | 42/100 [16:47<22:28, 23.25s/it]"
     ]
    },
    {
     "name": "stdout",
     "output_type": "stream",
     "text": [
      "[I 2025-07-05 07:46:15,875] Trial 41 finished with value: 0.8515808803668813 and parameters: {'rf_n_estimators': 500, 'rf_max_depth': 18, 'xgb_n_estimators': 350, 'xgb_learning_rate': 0.020349973949772338, 'xgb_max_depth': 10, 'xgb_subsample': 0.6482918164406251, 'xgb_colsample_bytree': 0.8703873372676638, 'xgb_gamma': 0.9774746744620507, 'xgb_reg_lambda': 1.869233516471927, 'xgb_reg_alpha': 3.6290443197325457, 'xgb_scale_pos_weight': 1.4293308348576945, 'lgb_n_estimators': 150, 'lgb_learning_rate': 0.1091153394384588, 'lgb_max_depth': 20, 'lgb_num_leaves': 35, 'lgb_min_child_samples': 80, 'lr_C': 0.04760034510788043, 'lr_penalty': 'l2', 'lr_solver': 'lbfgs'}. Best is trial 12 with value: 0.8563034183824358.\n"
     ]
    },
    {
     "name": "stderr",
     "output_type": "stream",
     "text": [
      "Best trial: 12. Best value: 0.856303:  43%|██████████████████▍                        | 43/100 [17:02<19:42, 20.75s/it]"
     ]
    },
    {
     "name": "stdout",
     "output_type": "stream",
     "text": [
      "[I 2025-07-05 07:46:30,799] Trial 42 finished with value: 0.8548343746969423 and parameters: {'rf_n_estimators': 500, 'rf_max_depth': 19, 'xgb_n_estimators': 400, 'xgb_learning_rate': 0.013763703004483253, 'xgb_max_depth': 6, 'xgb_subsample': 0.5953171282530931, 'xgb_colsample_bytree': 0.8957679372427654, 'xgb_gamma': 1.075572525791092, 'xgb_reg_lambda': 2.4961080434500964, 'xgb_reg_alpha': 3.8046708638286457, 'xgb_scale_pos_weight': 1.4545623052901853, 'lgb_n_estimators': 100, 'lgb_learning_rate': 0.13730285686164959, 'lgb_max_depth': 20, 'lgb_num_leaves': 30, 'lgb_min_child_samples': 80, 'lr_C': 0.027057731682542115, 'lr_penalty': 'l2', 'lr_solver': 'lbfgs'}. Best is trial 12 with value: 0.8563034183824358.\n"
     ]
    },
    {
     "name": "stderr",
     "output_type": "stream",
     "text": [
      "Best trial: 12. Best value: 0.856303:  44%|██████████████████▉                        | 44/100 [17:20<18:38, 19.97s/it]"
     ]
    },
    {
     "name": "stdout",
     "output_type": "stream",
     "text": [
      "[I 2025-07-05 07:46:48,946] Trial 43 finished with value: 0.851870737355403 and parameters: {'rf_n_estimators': 450, 'rf_max_depth': 19, 'xgb_n_estimators': 400, 'xgb_learning_rate': 0.013225137211012398, 'xgb_max_depth': 5, 'xgb_subsample': 0.5272256040521677, 'xgb_colsample_bytree': 0.9892800779868844, 'xgb_gamma': 0.5804367625670176, 'xgb_reg_lambda': 2.4815045210250024, 'xgb_reg_alpha': 3.253662348973545, 'xgb_scale_pos_weight': 1.9881196115555246, 'lgb_n_estimators': 200, 'lgb_learning_rate': 0.14152088022496814, 'lgb_max_depth': 19, 'lgb_num_leaves': 20, 'lgb_min_child_samples': 70, 'lr_C': 0.026886126980146037, 'lr_penalty': 'l2', 'lr_solver': 'lbfgs'}. Best is trial 12 with value: 0.8563034183824358.\n"
     ]
    },
    {
     "name": "stderr",
     "output_type": "stream",
     "text": [
      "Best trial: 12. Best value: 0.856303:  45%|███████████████████▎                       | 45/100 [17:40<18:12, 19.87s/it]"
     ]
    },
    {
     "name": "stdout",
     "output_type": "stream",
     "text": [
      "[I 2025-07-05 07:47:08,580] Trial 44 finished with value: 0.8431279209176735 and parameters: {'rf_n_estimators': 500, 'rf_max_depth': 20, 'xgb_n_estimators': 400, 'xgb_learning_rate': 0.016773031412962557, 'xgb_max_depth': 4, 'xgb_subsample': 0.5510924663259449, 'xgb_colsample_bytree': 0.8977952988970785, 'xgb_gamma': 1.389781747709589, 'xgb_reg_lambda': 2.6885493534029132, 'xgb_reg_alpha': 3.9612814627606587, 'xgb_scale_pos_weight': 8.395654914113516, 'lgb_n_estimators': 100, 'lgb_learning_rate': 0.16492244600506387, 'lgb_max_depth': 16, 'lgb_num_leaves': 30, 'lgb_min_child_samples': 90, 'lr_C': 0.008305399200135812, 'lr_penalty': 'l2', 'lr_solver': 'lbfgs'}. Best is trial 12 with value: 0.8563034183824358.\n"
     ]
    },
    {
     "name": "stderr",
     "output_type": "stream",
     "text": [
      "Best trial: 12. Best value: 0.856303:  46%|███████████████████▊                       | 46/100 [17:50<15:21, 17.07s/it]"
     ]
    },
    {
     "name": "stdout",
     "output_type": "stream",
     "text": [
      "[I 2025-07-05 07:47:19,115] Trial 45 finished with value: 0.84802867886048 and parameters: {'rf_n_estimators': 450, 'rf_max_depth': 5, 'xgb_n_estimators': 450, 'xgb_learning_rate': 0.12316627322049682, 'xgb_max_depth': 6, 'xgb_subsample': 0.5197007306558756, 'xgb_colsample_bytree': 0.8364070733210627, 'xgb_gamma': 0.771314409096314, 'xgb_reg_lambda': 1.4769674613557267, 'xgb_reg_alpha': 2.8037639567803585, 'xgb_scale_pos_weight': 2.774477671471231, 'lgb_n_estimators': 150, 'lgb_learning_rate': 0.1276255222953927, 'lgb_max_depth': 19, 'lgb_num_leaves': 20, 'lgb_min_child_samples': 80, 'lr_C': 0.01143244233803645, 'lr_penalty': 'l2', 'lr_solver': 'lbfgs'}. Best is trial 12 with value: 0.8563034183824358.\n"
     ]
    },
    {
     "name": "stderr",
     "output_type": "stream",
     "text": [
      "Best trial: 12. Best value: 0.856303:  47%|████████████████████▏                      | 47/100 [18:10<15:47, 17.88s/it]"
     ]
    },
    {
     "name": "stdout",
     "output_type": "stream",
     "text": [
      "[I 2025-07-05 07:47:38,869] Trial 46 finished with value: 0.8531906702893851 and parameters: {'rf_n_estimators': 500, 'rf_max_depth': 19, 'xgb_n_estimators': 100, 'xgb_learning_rate': 0.027499776244732137, 'xgb_max_depth': 14, 'xgb_subsample': 0.6030076373757837, 'xgb_colsample_bytree': 0.9335026578088663, 'xgb_gamma': 1.7767800356805128, 'xgb_reg_lambda': 2.349525663449987, 'xgb_reg_alpha': 3.0465067549389406, 'xgb_scale_pos_weight': 1.2532343948671691, 'lgb_n_estimators': 100, 'lgb_learning_rate': 0.06571211202959416, 'lgb_max_depth': 17, 'lgb_num_leaves': 50, 'lgb_min_child_samples': 100, 'lr_C': 0.23348534804751214, 'lr_penalty': 'l2', 'lr_solver': 'lbfgs'}. Best is trial 12 with value: 0.8563034183824358.\n"
     ]
    },
    {
     "name": "stderr",
     "output_type": "stream",
     "text": [
      "Best trial: 12. Best value: 0.856303:  48%|████████████████████▋                      | 48/100 [18:28<15:35, 17.99s/it]"
     ]
    },
    {
     "name": "stdout",
     "output_type": "stream",
     "text": [
      "[I 2025-07-05 07:47:57,122] Trial 47 finished with value: 0.8517295584980186 and parameters: {'rf_n_estimators': 450, 'rf_max_depth': 18, 'xgb_n_estimators': 150, 'xgb_learning_rate': 0.048155685270014764, 'xgb_max_depth': 3, 'xgb_subsample': 0.6864172622254185, 'xgb_colsample_bytree': 0.6001078051103503, 'xgb_gamma': 1.083510061454953, 'xgb_reg_lambda': 1.6504459507497171, 'xgb_reg_alpha': 4.973866714148572, 'xgb_scale_pos_weight': 2.3274710763732784, 'lgb_n_estimators': 200, 'lgb_learning_rate': 0.2299680816225027, 'lgb_max_depth': 15, 'lgb_num_leaves': 30, 'lgb_min_child_samples': 70, 'lr_C': 0.00369079923353634, 'lr_penalty': 'l2', 'lr_solver': 'lbfgs'}. Best is trial 12 with value: 0.8563034183824358.\n"
     ]
    },
    {
     "name": "stderr",
     "output_type": "stream",
     "text": [
      "Best trial: 12. Best value: 0.856303:  49%|█████████████████████                      | 49/100 [18:43<14:29, 17.05s/it]"
     ]
    },
    {
     "name": "stdout",
     "output_type": "stream",
     "text": [
      "[I 2025-07-05 07:48:11,982] Trial 48 finished with value: 0.8511037021924829 and parameters: {'rf_n_estimators': 250, 'rf_max_depth': 15, 'xgb_n_estimators': 300, 'xgb_learning_rate': 0.08441880638150054, 'xgb_max_depth': 7, 'xgb_subsample': 0.5756888277049994, 'xgb_colsample_bytree': 0.7558121732392986, 'xgb_gamma': 0.7767395551955689, 'xgb_reg_lambda': 2.1529645071504047, 'xgb_reg_alpha': 4.426200380946405, 'xgb_scale_pos_weight': 3.341824266230767, 'lgb_n_estimators': 350, 'lgb_learning_rate': 0.09779724371440182, 'lgb_max_depth': 18, 'lgb_num_leaves': 15, 'lgb_min_child_samples': 90, 'lr_C': 1.5063152893947394, 'lr_penalty': 'l2', 'lr_solver': 'lbfgs'}. Best is trial 12 with value: 0.8563034183824358.\n"
     ]
    },
    {
     "name": "stderr",
     "output_type": "stream",
     "text": [
      "Best trial: 12. Best value: 0.856303:  50%|█████████████████████▌                     | 50/100 [19:00<14:03, 16.87s/it]"
     ]
    },
    {
     "name": "stdout",
     "output_type": "stream",
     "text": [
      "[I 2025-07-05 07:48:28,417] Trial 49 finished with value: 0.8546311044545968 and parameters: {'rf_n_estimators': 400, 'rf_max_depth': 20, 'xgb_n_estimators': 100, 'xgb_learning_rate': 0.040645878668224944, 'xgb_max_depth': 16, 'xgb_subsample': 0.9730746426987965, 'xgb_colsample_bytree': 0.6997164351693549, 'xgb_gamma': 2.2502250411528095, 'xgb_reg_lambda': 3.3990204510204567, 'xgb_reg_alpha': 1.9490404057839097, 'xgb_scale_pos_weight': 1.8871187155412217, 'lgb_n_estimators': 200, 'lgb_learning_rate': 0.07332710247468244, 'lgb_max_depth': 12, 'lgb_num_leaves': 25, 'lgb_min_child_samples': 80, 'lr_C': 0.12131892167111383, 'lr_penalty': 'l2', 'lr_solver': 'liblinear'}. Best is trial 12 with value: 0.8563034183824358.\n"
     ]
    },
    {
     "name": "stderr",
     "output_type": "stream",
     "text": [
      "Best trial: 12. Best value: 0.856303:  51%|█████████████████████▉                     | 51/100 [19:18<14:10, 17.35s/it]"
     ]
    },
    {
     "name": "stdout",
     "output_type": "stream",
     "text": [
      "[I 2025-07-05 07:48:46,895] Trial 50 finished with value: 0.8509589873954434 and parameters: {'rf_n_estimators': 400, 'rf_max_depth': 16, 'xgb_n_estimators': 450, 'xgb_learning_rate': 0.04177344823590167, 'xgb_max_depth': 18, 'xgb_subsample': 0.9713019358827956, 'xgb_colsample_bytree': 0.7151389116324868, 'xgb_gamma': 2.5397653179090223, 'xgb_reg_lambda': 4.522738726925035, 'xgb_reg_alpha': 1.940098744538813, 'xgb_scale_pos_weight': 1.295377977756969, 'lgb_n_estimators': 200, 'lgb_learning_rate': 0.02576984223467204, 'lgb_max_depth': 10, 'lgb_num_leaves': 40, 'lgb_min_child_samples': 80, 'lr_C': 0.10798907935563774, 'lr_penalty': 'l2', 'lr_solver': 'liblinear'}. Best is trial 12 with value: 0.8563034183824358.\n"
     ]
    },
    {
     "name": "stderr",
     "output_type": "stream",
     "text": [
      "Best trial: 12. Best value: 0.856303:  52%|██████████████████████▎                    | 52/100 [19:37<14:20, 17.93s/it]"
     ]
    },
    {
     "name": "stdout",
     "output_type": "stream",
     "text": [
      "[I 2025-07-05 07:49:06,209] Trial 51 finished with value: 0.8523403763051958 and parameters: {'rf_n_estimators': 500, 'rf_max_depth': 20, 'xgb_n_estimators': 100, 'xgb_learning_rate': 0.08837792268517794, 'xgb_max_depth': 16, 'xgb_subsample': 0.8568567352130679, 'xgb_colsample_bytree': 0.6065657700289552, 'xgb_gamma': 2.196940497908565, 'xgb_reg_lambda': 3.38919373217228, 'xgb_reg_alpha': 2.3227163168715297, 'xgb_scale_pos_weight': 1.8879839191456174, 'lgb_n_estimators': 100, 'lgb_learning_rate': 0.07248344976658737, 'lgb_max_depth': 13, 'lgb_num_leaves': 25, 'lgb_min_child_samples': 80, 'lr_C': 0.06629789303849638, 'lr_penalty': 'l2', 'lr_solver': 'liblinear'}. Best is trial 12 with value: 0.8563034183824358.\n"
     ]
    },
    {
     "name": "stderr",
     "output_type": "stream",
     "text": [
      "Best trial: 12. Best value: 0.856303:  53%|██████████████████████▊                    | 53/100 [19:56<14:10, 18.09s/it]"
     ]
    },
    {
     "name": "stdout",
     "output_type": "stream",
     "text": [
      "[I 2025-07-05 07:49:24,681] Trial 52 finished with value: 0.8544674399229191 and parameters: {'rf_n_estimators': 500, 'rf_max_depth': 19, 'xgb_n_estimators': 100, 'xgb_learning_rate': 0.03531807872017306, 'xgb_max_depth': 15, 'xgb_subsample': 0.9487728448115238, 'xgb_colsample_bytree': 0.6810587532827568, 'xgb_gamma': 1.3620384836434802, 'xgb_reg_lambda': 2.9767429756844783, 'xgb_reg_alpha': 1.58179436569725, 'xgb_scale_pos_weight': 1.0099186714936015, 'lgb_n_estimators': 300, 'lgb_learning_rate': 0.0837145225531986, 'lgb_max_depth': 12, 'lgb_num_leaves': 20, 'lgb_min_child_samples': 70, 'lr_C': 0.02687715811924173, 'lr_penalty': 'l2', 'lr_solver': 'liblinear'}. Best is trial 12 with value: 0.8563034183824358.\n"
     ]
    },
    {
     "name": "stderr",
     "output_type": "stream",
     "text": [
      "Best trial: 12. Best value: 0.856303:  54%|███████████████████████▏                   | 54/100 [20:12<13:20, 17.41s/it]"
     ]
    },
    {
     "name": "stdout",
     "output_type": "stream",
     "text": [
      "[I 2025-07-05 07:49:40,484] Trial 53 finished with value: 0.8542220571656367 and parameters: {'rf_n_estimators': 450, 'rf_max_depth': 18, 'xgb_n_estimators': 100, 'xgb_learning_rate': 0.034333047144724536, 'xgb_max_depth': 15, 'xgb_subsample': 0.9592843169970703, 'xgb_colsample_bytree': 0.6734491488326101, 'xgb_gamma': 1.4172042423770612, 'xgb_reg_lambda': 3.962947274377034, 'xgb_reg_alpha': 1.2763823601848165, 'xgb_scale_pos_weight': 1.0275866854273772, 'lgb_n_estimators': 250, 'lgb_learning_rate': 0.07938533559996967, 'lgb_max_depth': 12, 'lgb_num_leaves': 25, 'lgb_min_child_samples': 70, 'lr_C': 0.015172583540885078, 'lr_penalty': 'l2', 'lr_solver': 'liblinear'}. Best is trial 12 with value: 0.8563034183824358.\n"
     ]
    },
    {
     "name": "stderr",
     "output_type": "stream",
     "text": [
      "Best trial: 12. Best value: 0.856303:  55%|███████████████████████▋                   | 55/100 [20:33<13:52, 18.49s/it]"
     ]
    },
    {
     "name": "stdout",
     "output_type": "stream",
     "text": [
      "[I 2025-07-05 07:50:01,505] Trial 54 finished with value: 0.8497853334494122 and parameters: {'rf_n_estimators': 500, 'rf_max_depth': 19, 'xgb_n_estimators': 150, 'xgb_learning_rate': 0.010273249252639132, 'xgb_max_depth': 17, 'xgb_subsample': 0.9302892598393333, 'xgb_colsample_bytree': 0.6912751904672535, 'xgb_gamma': 2.037626093202932, 'xgb_reg_lambda': 3.04005840378135, 'xgb_reg_alpha': 2.02698433719219, 'xgb_scale_pos_weight': 2.0024720645686127, 'lgb_n_estimators': 300, 'lgb_learning_rate': 0.05761948333546043, 'lgb_max_depth': 11, 'lgb_num_leaves': 20, 'lgb_min_child_samples': 90, 'lr_C': 0.024195746267484688, 'lr_penalty': 'l2', 'lr_solver': 'liblinear'}. Best is trial 12 with value: 0.8563034183824358.\n"
     ]
    },
    {
     "name": "stderr",
     "output_type": "stream",
     "text": [
      "Best trial: 12. Best value: 0.856303:  56%|████████████████████████                   | 56/100 [20:55<14:22, 19.61s/it]"
     ]
    },
    {
     "name": "stdout",
     "output_type": "stream",
     "text": [
      "[I 2025-07-05 07:50:23,727] Trial 55 finished with value: 0.8504175096983236 and parameters: {'rf_n_estimators': 500, 'rf_max_depth': 17, 'xgb_n_estimators': 200, 'xgb_learning_rate': 0.027637706625529192, 'xgb_max_depth': 16, 'xgb_subsample': 0.9265455024588252, 'xgb_colsample_bytree': 0.6540851836418072, 'xgb_gamma': 1.6435629441368584, 'xgb_reg_lambda': 3.344042550655401, 'xgb_reg_alpha': 0.7741207239329861, 'xgb_scale_pos_weight': 2.503881025143282, 'lgb_n_estimators': 300, 'lgb_learning_rate': 0.11624624478514364, 'lgb_max_depth': 9, 'lgb_num_leaves': 30, 'lgb_min_child_samples': 70, 'lr_C': 0.04129311841692073, 'lr_penalty': 'l2', 'lr_solver': 'liblinear'}. Best is trial 12 with value: 0.8563034183824358.\n"
     ]
    },
    {
     "name": "stderr",
     "output_type": "stream",
     "text": [
      "Best trial: 12. Best value: 0.856303:  57%|████████████████████████▌                  | 57/100 [21:05<12:02, 16.81s/it]"
     ]
    },
    {
     "name": "stdout",
     "output_type": "stream",
     "text": [
      "[I 2025-07-05 07:50:33,973] Trial 56 finished with value: 0.8434991822493677 and parameters: {'rf_n_estimators': 450, 'rf_max_depth': 3, 'xgb_n_estimators': 100, 'xgb_learning_rate': 0.03969326615783232, 'xgb_max_depth': 14, 'xgb_subsample': 0.9034077198685767, 'xgb_colsample_bytree': 0.7392624052161111, 'xgb_gamma': 1.2477450367006027, 'xgb_reg_lambda': 3.2159059323706893, 'xgb_reg_alpha': 1.5957576835022542, 'xgb_scale_pos_weight': 1.338016505613759, 'lgb_n_estimators': 150, 'lgb_learning_rate': 0.043842708454509695, 'lgb_max_depth': 14, 'lgb_num_leaves': 35, 'lgb_min_child_samples': 80, 'lr_C': 0.06314149360740602, 'lr_penalty': 'l2', 'lr_solver': 'liblinear'}. Best is trial 12 with value: 0.8563034183824358.\n"
     ]
    },
    {
     "name": "stderr",
     "output_type": "stream",
     "text": [
      "Best trial: 12. Best value: 0.856303:  58%|████████████████████████▉                  | 58/100 [21:23<11:53, 16.98s/it]"
     ]
    },
    {
     "name": "stdout",
     "output_type": "stream",
     "text": [
      "[I 2025-07-05 07:50:51,384] Trial 57 finished with value: 0.8533704357240719 and parameters: {'rf_n_estimators': 400, 'rf_max_depth': 20, 'xgb_n_estimators': 400, 'xgb_learning_rate': 0.05003388414779355, 'xgb_max_depth': 15, 'xgb_subsample': 0.9563830308294465, 'xgb_colsample_bytree': 0.7710201373803128, 'xgb_gamma': 0.2516312883291044, 'xgb_reg_lambda': 2.8907731542414536, 'xgb_reg_alpha': 1.6987403561258962, 'xgb_scale_pos_weight': 3.0506995484744843, 'lgb_n_estimators': 250, 'lgb_learning_rate': 0.07123932464236553, 'lgb_max_depth': 9, 'lgb_num_leaves': 15, 'lgb_min_child_samples': 60, 'lr_C': 0.02143855566220477, 'lr_penalty': 'l2', 'lr_solver': 'liblinear'}. Best is trial 12 with value: 0.8563034183824358.\n"
     ]
    },
    {
     "name": "stderr",
     "output_type": "stream",
     "text": [
      "Best trial: 12. Best value: 0.856303:  59%|█████████████████████████▎                 | 59/100 [21:39<11:26, 16.74s/it]"
     ]
    },
    {
     "name": "stdout",
     "output_type": "stream",
     "text": [
      "[I 2025-07-05 07:51:07,544] Trial 58 finished with value: 0.8535257679234055 and parameters: {'rf_n_estimators': 300, 'rf_max_depth': 19, 'xgb_n_estimators': 100, 'xgb_learning_rate': 0.024554071704111276, 'xgb_max_depth': 12, 'xgb_subsample': 0.8751265607064506, 'xgb_colsample_bytree': 0.6458032775586641, 'xgb_gamma': 2.8633455678460473, 'xgb_reg_lambda': 2.657599180170766, 'xgb_reg_alpha': 0.5409915908546696, 'xgb_scale_pos_weight': 1.7191677384401092, 'lgb_n_estimators': 200, 'lgb_learning_rate': 0.05244954419705901, 'lgb_max_depth': 12, 'lgb_num_leaves': 145, 'lgb_min_child_samples': 90, 'lr_C': 0.004571793484919707, 'lr_penalty': 'l2', 'lr_solver': 'liblinear'}. Best is trial 12 with value: 0.8563034183824358.\n"
     ]
    },
    {
     "name": "stderr",
     "output_type": "stream",
     "text": [
      "Best trial: 12. Best value: 0.856303:  60%|█████████████████████████▊                 | 60/100 [22:01<12:21, 18.54s/it]"
     ]
    },
    {
     "name": "stdout",
     "output_type": "stream",
     "text": [
      "[I 2025-07-05 07:51:30,300] Trial 59 finished with value: 0.8506458107919913 and parameters: {'rf_n_estimators': 350, 'rf_max_depth': 18, 'xgb_n_estimators': 150, 'xgb_learning_rate': 0.07390867216312026, 'xgb_max_depth': 18, 'xgb_subsample': 0.8195020255352451, 'xgb_colsample_bytree': 0.6835014839054685, 'xgb_gamma': 0.4682388539190335, 'xgb_reg_lambda': 3.5769225301962946, 'xgb_reg_alpha': 1.2969023852106987, 'xgb_scale_pos_weight': 2.602461875268858, 'lgb_n_estimators': 350, 'lgb_learning_rate': 0.13059873926296048, 'lgb_max_depth': 13, 'lgb_num_leaves': 80, 'lgb_min_child_samples': 100, 'lr_C': 0.03341009125928794, 'lr_penalty': 'l2', 'lr_solver': 'liblinear'}. Best is trial 12 with value: 0.8563034183824358.\n"
     ]
    },
    {
     "name": "stderr",
     "output_type": "stream",
     "text": [
      "Best trial: 12. Best value: 0.856303:  61%|██████████████████████████▏                | 61/100 [22:21<12:11, 18.76s/it]"
     ]
    },
    {
     "name": "stdout",
     "output_type": "stream",
     "text": [
      "[I 2025-07-05 07:51:49,579] Trial 60 finished with value: 0.8509167387030532 and parameters: {'rf_n_estimators': 500, 'rf_max_depth': 20, 'xgb_n_estimators': 500, 'xgb_learning_rate': 0.0329902734766468, 'xgb_max_depth': 19, 'xgb_subsample': 0.9959406457150098, 'xgb_colsample_bytree': 0.7084053276571981, 'xgb_gamma': 4.827077411633652, 'xgb_reg_lambda': 2.5254050938289865, 'xgb_reg_alpha': 1.0592091923959694, 'xgb_scale_pos_weight': 1.764050774506453, 'lgb_n_estimators': 100, 'lgb_learning_rate': 0.03451468955522264, 'lgb_max_depth': 20, 'lgb_num_leaves': 20, 'lgb_min_child_samples': 80, 'lr_C': 0.1413732764883255, 'lr_penalty': 'l2', 'lr_solver': 'liblinear'}. Best is trial 12 with value: 0.8563034183824358.\n"
     ]
    },
    {
     "name": "stderr",
     "output_type": "stream",
     "text": [
      "Best trial: 12. Best value: 0.856303:  62%|██████████████████████████▋                | 62/100 [22:40<11:58, 18.91s/it]"
     ]
    },
    {
     "name": "stdout",
     "output_type": "stream",
     "text": [
      "[I 2025-07-05 07:52:08,832] Trial 61 finished with value: 0.853361604592792 and parameters: {'rf_n_estimators': 450, 'rf_max_depth': 18, 'xgb_n_estimators': 100, 'xgb_learning_rate': 0.03578185962489049, 'xgb_max_depth': 15, 'xgb_subsample': 0.9715220243462822, 'xgb_colsample_bytree': 0.6709602566355464, 'xgb_gamma': 1.4939808183060452, 'xgb_reg_lambda': 4.574610062909801, 'xgb_reg_alpha': 0.9999783934332802, 'xgb_scale_pos_weight': 1.0001988925189496, 'lgb_n_estimators': 250, 'lgb_learning_rate': 0.07777505742153774, 'lgb_max_depth': 12, 'lgb_num_leaves': 25, 'lgb_min_child_samples': 70, 'lr_C': 0.011162350860636102, 'lr_penalty': 'l2', 'lr_solver': 'liblinear'}. Best is trial 12 with value: 0.8563034183824358.\n"
     ]
    },
    {
     "name": "stderr",
     "output_type": "stream",
     "text": [
      "Best trial: 12. Best value: 0.856303:  63%|███████████████████████████                | 63/100 [23:19<15:19, 24.85s/it]"
     ]
    },
    {
     "name": "stdout",
     "output_type": "stream",
     "text": [
      "[I 2025-07-05 07:52:47,563] Trial 62 finished with value: 0.8520697536364903 and parameters: {'rf_n_estimators': 450, 'rf_max_depth': 19, 'xgb_n_estimators': 100, 'xgb_learning_rate': 0.030530008229030514, 'xgb_max_depth': 13, 'xgb_subsample': 0.9543209035157532, 'xgb_colsample_bytree': 0.6236913318857369, 'xgb_gamma': 1.9985094105657886, 'xgb_reg_lambda': 4.349936375832539, 'xgb_reg_alpha': 1.7380077035023813, 'xgb_scale_pos_weight': 1.3325630940827655, 'lgb_n_estimators': 300, 'lgb_learning_rate': 0.08749361263056035, 'lgb_max_depth': 11, 'lgb_num_leaves': 25, 'lgb_min_child_samples': 70, 'lr_C': 0.015363143422939329, 'lr_penalty': 'l2', 'lr_solver': 'liblinear'}. Best is trial 12 with value: 0.8563034183824358.\n"
     ]
    },
    {
     "name": "stderr",
     "output_type": "stream",
     "text": [
      "Best trial: 12. Best value: 0.856303:  64%|███████████████████████████▌               | 64/100 [23:34<13:10, 21.95s/it]"
     ]
    },
    {
     "name": "stdout",
     "output_type": "stream",
     "text": [
      "[I 2025-07-05 07:53:02,738] Trial 63 finished with value: 0.8523058738329862 and parameters: {'rf_n_estimators': 500, 'rf_max_depth': 18, 'xgb_n_estimators': 100, 'xgb_learning_rate': 0.04288256004797681, 'xgb_max_depth': 15, 'xgb_subsample': 0.9418769580174184, 'xgb_colsample_bytree': 0.6681909694046811, 'xgb_gamma': 1.3709966679161891, 'xgb_reg_lambda': 4.176006443956926, 'xgb_reg_alpha': 1.4509684020105913, 'xgb_scale_pos_weight': 1.0251046102216825, 'lgb_n_estimators': 250, 'lgb_learning_rate': 0.10139596623827864, 'lgb_max_depth': 12, 'lgb_num_leaves': 30, 'lgb_min_child_samples': 70, 'lr_C': 0.015157917522359803, 'lr_penalty': 'l2', 'lr_solver': 'liblinear'}. Best is trial 12 with value: 0.8563034183824358.\n"
     ]
    },
    {
     "name": "stderr",
     "output_type": "stream",
     "text": [
      "Best trial: 12. Best value: 0.856303:  65%|███████████████████████████▉               | 65/100 [23:53<12:22, 21.21s/it]"
     ]
    },
    {
     "name": "stdout",
     "output_type": "stream",
     "text": [
      "[I 2025-07-05 07:53:22,225] Trial 64 finished with value: 0.853829186896763 and parameters: {'rf_n_estimators': 500, 'rf_max_depth': 17, 'xgb_n_estimators': 150, 'xgb_learning_rate': 0.05593012422538481, 'xgb_max_depth': 17, 'xgb_subsample': 0.981115439843633, 'xgb_colsample_bytree': 0.5914256258455468, 'xgb_gamma': 1.0780771938415197, 'xgb_reg_lambda': 4.06551106004404, 'xgb_reg_alpha': 2.374236422285688, 'xgb_scale_pos_weight': 2.1254310896485453, 'lgb_n_estimators': 250, 'lgb_learning_rate': 0.0608563167443054, 'lgb_max_depth': 10, 'lgb_num_leaves': 15, 'lgb_min_child_samples': 80, 'lr_C': 0.24123470898852906, 'lr_penalty': 'l2', 'lr_solver': 'liblinear'}. Best is trial 12 with value: 0.8563034183824358.\n"
     ]
    },
    {
     "name": "stderr",
     "output_type": "stream",
     "text": [
      "Best trial: 12. Best value: 0.856303:  66%|████████████████████████████▍              | 66/100 [24:18<12:32, 22.14s/it]"
     ]
    },
    {
     "name": "stdout",
     "output_type": "stream",
     "text": [
      "[I 2025-07-05 07:53:46,541] Trial 65 finished with value: 0.851760791197583 and parameters: {'rf_n_estimators': 450, 'rf_max_depth': 19, 'xgb_n_estimators': 150, 'xgb_learning_rate': 0.016037422276194688, 'xgb_max_depth': 16, 'xgb_subsample': 0.903730664062811, 'xgb_colsample_bytree': 0.6997875178656779, 'xgb_gamma': 1.298202441095249, 'xgb_reg_lambda': 4.871220195229215, 'xgb_reg_alpha': 1.2554362272112536, 'xgb_scale_pos_weight': 1.6030229103777913, 'lgb_n_estimators': 300, 'lgb_learning_rate': 0.08106871607926808, 'lgb_max_depth': 14, 'lgb_num_leaves': 40, 'lgb_min_child_samples': 60, 'lr_C': 0.45089145808222375, 'lr_penalty': 'l2', 'lr_solver': 'liblinear'}. Best is trial 12 with value: 0.8563034183824358.\n"
     ]
    },
    {
     "name": "stderr",
     "output_type": "stream",
     "text": [
      "Best trial: 12. Best value: 0.856303:  67%|████████████████████████████▊              | 67/100 [24:36<11:30, 20.93s/it]"
     ]
    },
    {
     "name": "stdout",
     "output_type": "stream",
     "text": [
      "[I 2025-07-05 07:54:04,620] Trial 66 finished with value: 0.8534241075585669 and parameters: {'rf_n_estimators': 450, 'rf_max_depth': 20, 'xgb_n_estimators': 100, 'xgb_learning_rate': 0.0459633240730756, 'xgb_max_depth': 11, 'xgb_subsample': 0.7302366836397579, 'xgb_colsample_bytree': 0.631043414777498, 'xgb_gamma': 0.6534550296638997, 'xgb_reg_lambda': 3.9952576901056647, 'xgb_reg_alpha': 2.0746686860842107, 'xgb_scale_pos_weight': 1.258256485421974, 'lgb_n_estimators': 200, 'lgb_learning_rate': 0.0695691480772336, 'lgb_max_depth': 13, 'lgb_num_leaves': 20, 'lgb_min_child_samples': 70, 'lr_C': 0.07998214640429967, 'lr_penalty': 'l2', 'lr_solver': 'liblinear'}. Best is trial 12 with value: 0.8563034183824358.\n"
     ]
    },
    {
     "name": "stderr",
     "output_type": "stream",
     "text": [
      "Best trial: 12. Best value: 0.856303:  68%|█████████████████████████████▏             | 68/100 [25:00<11:42, 21.95s/it]"
     ]
    },
    {
     "name": "stdout",
     "output_type": "stream",
     "text": [
      "[I 2025-07-05 07:54:28,979] Trial 67 finished with value: 0.85063711329567 and parameters: {'rf_n_estimators': 500, 'rf_max_depth': 20, 'xgb_n_estimators': 100, 'xgb_learning_rate': 0.03869447604673951, 'xgb_max_depth': 14, 'xgb_subsample': 0.8781681660559831, 'xgb_colsample_bytree': 0.7305195836209771, 'xgb_gamma': 0.8123493880193982, 'xgb_reg_lambda': 3.5833733313557232, 'xgb_reg_alpha': 2.6872402106309385, 'xgb_scale_pos_weight': 1.8448627777425264, 'lgb_n_estimators': 300, 'lgb_learning_rate': 0.16071003638208056, 'lgb_max_depth': 15, 'lgb_num_leaves': 35, 'lgb_min_child_samples': 80, 'lr_C': 0.0069013453704846826, 'lr_penalty': 'l2', 'lr_solver': 'lbfgs'}. Best is trial 12 with value: 0.8563034183824358.\n"
     ]
    },
    {
     "name": "stderr",
     "output_type": "stream",
     "text": [
      "Best trial: 12. Best value: 0.856303:  69%|█████████████████████████████▋             | 69/100 [25:23<11:30, 22.27s/it]"
     ]
    },
    {
     "name": "stdout",
     "output_type": "stream",
     "text": [
      "[I 2025-07-05 07:54:51,977] Trial 68 finished with value: 0.8519426803530815 and parameters: {'rf_n_estimators': 400, 'rf_max_depth': 16, 'xgb_n_estimators': 150, 'xgb_learning_rate': 0.03341695596741263, 'xgb_max_depth': 6, 'xgb_subsample': 0.9517370334657336, 'xgb_colsample_bytree': 0.6798115942807583, 'xgb_gamma': 2.277750204358047, 'xgb_reg_lambda': 3.8826270625107404, 'xgb_reg_alpha': 3.339393606852443, 'xgb_scale_pos_weight': 2.250825682596333, 'lgb_n_estimators': 350, 'lgb_learning_rate': 0.12031000354091345, 'lgb_max_depth': 11, 'lgb_num_leaves': 55, 'lgb_min_child_samples': 90, 'lr_C': 0.0017434215129495958, 'lr_penalty': 'l2', 'lr_solver': 'lbfgs'}. Best is trial 12 with value: 0.8563034183824358.\n"
     ]
    },
    {
     "name": "stderr",
     "output_type": "stream",
     "text": [
      "Best trial: 12. Best value: 0.856303:  70%|██████████████████████████████             | 70/100 [25:43<10:47, 21.59s/it]"
     ]
    },
    {
     "name": "stdout",
     "output_type": "stream",
     "text": [
      "[I 2025-07-05 07:55:11,973] Trial 69 finished with value: 0.8521862204976941 and parameters: {'rf_n_estimators': 500, 'rf_max_depth': 17, 'xgb_n_estimators': 150, 'xgb_learning_rate': 0.061934940641851434, 'xgb_max_depth': 13, 'xgb_subsample': 0.5496612744406724, 'xgb_colsample_bytree': 0.6549982939014396, 'xgb_gamma': 1.841526301055426, 'xgb_reg_lambda': 3.203891860122079, 'xgb_reg_alpha': 1.8115191728922704, 'xgb_scale_pos_weight': 1.5016332381667894, 'lgb_n_estimators': 250, 'lgb_learning_rate': 0.1945551730155719, 'lgb_max_depth': 16, 'lgb_num_leaves': 25, 'lgb_min_child_samples': 80, 'lr_C': 0.03992028257587112, 'lr_penalty': 'l2', 'lr_solver': 'liblinear'}. Best is trial 12 with value: 0.8563034183824358.\n"
     ]
    },
    {
     "name": "stderr",
     "output_type": "stream",
     "text": [
      "Best trial: 12. Best value: 0.856303:  71%|██████████████████████████████▌            | 71/100 [26:00<09:47, 20.25s/it]"
     ]
    },
    {
     "name": "stdout",
     "output_type": "stream",
     "text": [
      "[I 2025-07-05 07:55:29,104] Trial 70 finished with value: 0.8456408069939153 and parameters: {'rf_n_estimators': 450, 'rf_max_depth': 18, 'xgb_n_estimators': 100, 'xgb_learning_rate': 0.02486727498948879, 'xgb_max_depth': 12, 'xgb_subsample': 0.6389075468949322, 'xgb_colsample_bytree': 0.5573137478593225, 'xgb_gamma': 3.376031125010654, 'xgb_reg_lambda': 1.994629411703761, 'xgb_reg_alpha': 4.061999798690209, 'xgb_scale_pos_weight': 5.3854834188776755, 'lgb_n_estimators': 300, 'lgb_learning_rate': 0.14187137595621893, 'lgb_max_depth': 13, 'lgb_num_leaves': 15, 'lgb_min_child_samples': 50, 'lr_C': 0.12694190835744695, 'lr_penalty': 'l2', 'lr_solver': 'lbfgs'}. Best is trial 12 with value: 0.8563034183824358.\n"
     ]
    },
    {
     "name": "stderr",
     "output_type": "stream",
     "text": [
      "Best trial: 12. Best value: 0.856303:  72%|██████████████████████████████▉            | 72/100 [26:21<09:30, 20.39s/it]"
     ]
    },
    {
     "name": "stdout",
     "output_type": "stream",
     "text": [
      "[I 2025-07-05 07:55:49,807] Trial 71 finished with value: 0.8546693851345196 and parameters: {'rf_n_estimators': 500, 'rf_max_depth': 19, 'xgb_n_estimators': 100, 'xgb_learning_rate': 0.06790402407827947, 'xgb_max_depth': 13, 'xgb_subsample': 0.5077003686003863, 'xgb_colsample_bytree': 0.6489551201304447, 'xgb_gamma': 0.8269972764343864, 'xgb_reg_lambda': 2.37551240548797, 'xgb_reg_alpha': 3.0528804705621244, 'xgb_scale_pos_weight': 1.222576228205324, 'lgb_n_estimators': 350, 'lgb_learning_rate': 0.0927590805526313, 'lgb_max_depth': 14, 'lgb_num_leaves': 20, 'lgb_min_child_samples': 90, 'lr_C': 0.7825466866763334, 'lr_penalty': 'l2', 'lr_solver': 'lbfgs'}. Best is trial 12 with value: 0.8563034183824358.\n"
     ]
    },
    {
     "name": "stderr",
     "output_type": "stream",
     "text": [
      "Best trial: 12. Best value: 0.856303:  73%|███████████████████████████████▍           | 73/100 [26:42<09:19, 20.71s/it]"
     ]
    },
    {
     "name": "stdout",
     "output_type": "stream",
     "text": [
      "[I 2025-07-05 07:56:11,275] Trial 72 finished with value: 0.8535068957007681 and parameters: {'rf_n_estimators': 500, 'rf_max_depth': 19, 'xgb_n_estimators': 100, 'xgb_learning_rate': 0.09710564875311715, 'xgb_max_depth': 14, 'xgb_subsample': 0.5161781195561415, 'xgb_colsample_bytree': 0.6463373418734631, 'xgb_gamma': 1.1813334545819183, 'xgb_reg_lambda': 2.1978278069389723, 'xgb_reg_alpha': 3.008846882828312, 'xgb_scale_pos_weight': 1.2111263779639283, 'lgb_n_estimators': 350, 'lgb_learning_rate': 0.09253533792510535, 'lgb_max_depth': 14, 'lgb_num_leaves': 20, 'lgb_min_child_samples': 90, 'lr_C': 0.9074277159773518, 'lr_penalty': 'l2', 'lr_solver': 'lbfgs'}. Best is trial 12 with value: 0.8563034183824358.\n"
     ]
    },
    {
     "name": "stderr",
     "output_type": "stream",
     "text": [
      "Best trial: 12. Best value: 0.856303:  74%|███████████████████████████████▊           | 74/100 [27:08<09:33, 22.06s/it]"
     ]
    },
    {
     "name": "stdout",
     "output_type": "stream",
     "text": [
      "[I 2025-07-05 07:56:36,485] Trial 73 finished with value: 0.8514075041449344 and parameters: {'rf_n_estimators': 500, 'rf_max_depth': 20, 'xgb_n_estimators': 100, 'xgb_learning_rate': 0.053600254869363866, 'xgb_max_depth': 15, 'xgb_subsample': 0.6136992950752984, 'xgb_colsample_bytree': 0.6155211818336804, 'xgb_gamma': 0.9238989074870695, 'xgb_reg_lambda': 2.4640481856550838, 'xgb_reg_alpha': 3.72183628424292, 'xgb_scale_pos_weight': 1.585808367911721, 'lgb_n_estimators': 400, 'lgb_learning_rate': 0.0847659300314918, 'lgb_max_depth': 12, 'lgb_num_leaves': 30, 'lgb_min_child_samples': 100, 'lr_C': 0.7191453094888035, 'lr_penalty': 'l2', 'lr_solver': 'lbfgs'}. Best is trial 12 with value: 0.8563034183824358.\n"
     ]
    },
    {
     "name": "stderr",
     "output_type": "stream",
     "text": [
      "Best trial: 12. Best value: 0.856303:  75%|████████████████████████████████▎          | 75/100 [27:30<09:13, 22.13s/it]"
     ]
    },
    {
     "name": "stdout",
     "output_type": "stream",
     "text": [
      "[I 2025-07-05 07:56:58,771] Trial 74 finished with value: 0.846050443981774 and parameters: {'rf_n_estimators': 500, 'rf_max_depth': 18, 'xgb_n_estimators': 100, 'xgb_learning_rate': 0.029887537573831433, 'xgb_max_depth': 13, 'xgb_subsample': 0.5022658235842928, 'xgb_colsample_bytree': 0.6782309772332678, 'xgb_gamma': 0.4181062693010973, 'xgb_reg_lambda': 2.799849679035911, 'xgb_reg_alpha': 3.4922300268691577, 'xgb_scale_pos_weight': 5.909722453371586, 'lgb_n_estimators': 350, 'lgb_learning_rate': 0.1022105327515434, 'lgb_max_depth': 11, 'lgb_num_leaves': 25, 'lgb_min_child_samples': 90, 'lr_C': 1.9758321620119705, 'lr_penalty': 'l2', 'lr_solver': 'lbfgs'}. Best is trial 12 with value: 0.8563034183824358.\n"
     ]
    },
    {
     "name": "stderr",
     "output_type": "stream",
     "text": [
      "Best trial: 12. Best value: 0.856303:  76%|████████████████████████████████▋          | 76/100 [27:54<09:07, 22.80s/it]"
     ]
    },
    {
     "name": "stdout",
     "output_type": "stream",
     "text": [
      "[I 2025-07-05 07:57:23,117] Trial 75 finished with value: 0.8520817121122232 and parameters: {'rf_n_estimators': 450, 'rf_max_depth': 19, 'xgb_n_estimators': 200, 'xgb_learning_rate': 0.0695844093775353, 'xgb_max_depth': 11, 'xgb_subsample': 0.5804338177489045, 'xgb_colsample_bytree': 0.6954750607717816, 'xgb_gamma': 1.039079310799011, 'xgb_reg_lambda': 2.9756812702554463, 'xgb_reg_alpha': 2.576795907404441, 'xgb_scale_pos_weight': 2.087190321050123, 'lgb_n_estimators': 300, 'lgb_learning_rate': 0.06194204804241427, 'lgb_max_depth': 14, 'lgb_num_leaves': 45, 'lgb_min_child_samples': 80, 'lr_C': 0.5712590180009788, 'lr_penalty': 'l2', 'lr_solver': 'lbfgs'}. Best is trial 12 with value: 0.8563034183824358.\n"
     ]
    },
    {
     "name": "stderr",
     "output_type": "stream",
     "text": [
      "Best trial: 12. Best value: 0.856303:  77%|█████████████████████████████████          | 77/100 [28:16<08:33, 22.33s/it]"
     ]
    },
    {
     "name": "stdout",
     "output_type": "stream",
     "text": [
      "[I 2025-07-05 07:57:44,354] Trial 76 finished with value: 0.8559430544874888 and parameters: {'rf_n_estimators': 500, 'rf_max_depth': 20, 'xgb_n_estimators': 150, 'xgb_learning_rate': 0.06118555761253073, 'xgb_max_depth': 12, 'xgb_subsample': 0.5397152358867948, 'xgb_colsample_bytree': 0.658868262188363, 'xgb_gamma': 1.4797079167683391, 'xgb_reg_lambda': 1.8108804406690924, 'xgb_reg_alpha': 1.5300734261688813, 'xgb_scale_pos_weight': 1.0134885283441566, 'lgb_n_estimators': 350, 'lgb_learning_rate': 0.05488951905836557, 'lgb_max_depth': 19, 'lgb_num_leaves': 20, 'lgb_min_child_samples': 90, 'lr_C': 0.36550777267087803, 'lr_penalty': 'l2', 'lr_solver': 'lbfgs'}. Best is trial 12 with value: 0.8563034183824358.\n"
     ]
    },
    {
     "name": "stderr",
     "output_type": "stream",
     "text": [
      "Best trial: 12. Best value: 0.856303:  78%|█████████████████████████████████▌         | 78/100 [28:36<08:00, 21.85s/it]"
     ]
    },
    {
     "name": "stdout",
     "output_type": "stream",
     "text": [
      "[I 2025-07-05 07:58:05,109] Trial 77 finished with value: 0.8547660823711539 and parameters: {'rf_n_estimators': 500, 'rf_max_depth': 20, 'xgb_n_estimators': 150, 'xgb_learning_rate': 0.07619661318993222, 'xgb_max_depth': 12, 'xgb_subsample': 0.5355558975577271, 'xgb_colsample_bytree': 0.8447112072682043, 'xgb_gamma': 1.686186506974134, 'xgb_reg_lambda': 1.7296156907199127, 'xgb_reg_alpha': 1.4641276408292978, 'xgb_scale_pos_weight': 1.761691326473126, 'lgb_n_estimators': 400, 'lgb_learning_rate': 0.05658211038935442, 'lgb_max_depth': 19, 'lgb_num_leaves': 15, 'lgb_min_child_samples': 90, 'lr_C': 0.37607173746896133, 'lr_penalty': 'l2', 'lr_solver': 'lbfgs'}. Best is trial 12 with value: 0.8563034183824358.\n"
     ]
    },
    {
     "name": "stderr",
     "output_type": "stream",
     "text": [
      "Best trial: 12. Best value: 0.856303:  79%|█████████████████████████████████▉         | 79/100 [28:57<07:33, 21.59s/it]"
     ]
    },
    {
     "name": "stdout",
     "output_type": "stream",
     "text": [
      "[I 2025-07-05 07:58:26,089] Trial 78 finished with value: 0.8527870481891973 and parameters: {'rf_n_estimators': 500, 'rf_max_depth': 20, 'xgb_n_estimators': 200, 'xgb_learning_rate': 0.08091434570452828, 'xgb_max_depth': 12, 'xgb_subsample': 0.5418400290301663, 'xgb_colsample_bytree': 0.9162845519753132, 'xgb_gamma': 1.7673969140046029, 'xgb_reg_lambda': 1.7736568222258544, 'xgb_reg_alpha': 3.1474518233618336, 'xgb_scale_pos_weight': 2.4951813616905634, 'lgb_n_estimators': 450, 'lgb_learning_rate': 0.04683998919877616, 'lgb_max_depth': 19, 'lgb_num_leaves': 15, 'lgb_min_child_samples': 100, 'lr_C': 0.22474860775748046, 'lr_penalty': 'l2', 'lr_solver': 'lbfgs'}. Best is trial 12 with value: 0.8563034183824358.\n"
     ]
    },
    {
     "name": "stderr",
     "output_type": "stream",
     "text": [
      "Best trial: 12. Best value: 0.856303:  80%|██████████████████████████████████▍        | 80/100 [29:25<07:48, 23.41s/it]"
     ]
    },
    {
     "name": "stdout",
     "output_type": "stream",
     "text": [
      "[I 2025-07-05 07:58:53,728] Trial 79 finished with value: 0.8511432855734369 and parameters: {'rf_n_estimators': 500, 'rf_max_depth': 20, 'xgb_n_estimators': 150, 'xgb_learning_rate': 0.09119827939318306, 'xgb_max_depth': 10, 'xgb_subsample': 0.5578510461710084, 'xgb_colsample_bytree': 0.8531227436149074, 'xgb_gamma': 0.0038419972817351766, 'xgb_reg_lambda': 1.4688312602722222, 'xgb_reg_alpha': 3.308954884168685, 'xgb_scale_pos_weight': 2.7525417339463125, 'lgb_n_estimators': 400, 'lgb_learning_rate': 0.04779462914342922, 'lgb_max_depth': 20, 'lgb_num_leaves': 35, 'lgb_min_child_samples': 90, 'lr_C': 0.40029256450962936, 'lr_penalty': 'l2', 'lr_solver': 'lbfgs'}. Best is trial 12 with value: 0.8563034183824358.\n"
     ]
    },
    {
     "name": "stderr",
     "output_type": "stream",
     "text": [
      "Best trial: 12. Best value: 0.856303:  81%|██████████████████████████████████▊        | 81/100 [29:37<06:19, 19.98s/it]"
     ]
    },
    {
     "name": "stdout",
     "output_type": "stream",
     "text": [
      "[I 2025-07-05 07:59:05,697] Trial 80 finished with value: 0.8492505127336335 and parameters: {'rf_n_estimators': 150, 'rf_max_depth': 10, 'xgb_n_estimators': 400, 'xgb_learning_rate': 0.1453811049164051, 'xgb_max_depth': 12, 'xgb_subsample': 0.5308656012501987, 'xgb_colsample_bytree': 0.8022731261355537, 'xgb_gamma': 1.6285523642213462, 'xgb_reg_lambda': 2.0729391325408923, 'xgb_reg_alpha': 2.801466725799974, 'xgb_scale_pos_weight': 4.308898453894216, 'lgb_n_estimators': 400, 'lgb_learning_rate': 0.056898548017066064, 'lgb_max_depth': 18, 'lgb_num_leaves': 20, 'lgb_min_child_samples': 90, 'lr_C': 0.3159090091757234, 'lr_penalty': 'l2', 'lr_solver': 'lbfgs'}. Best is trial 12 with value: 0.8563034183824358.\n"
     ]
    },
    {
     "name": "stderr",
     "output_type": "stream",
     "text": [
      "Best trial: 12. Best value: 0.856303:  82%|███████████████████████████████████▎       | 82/100 [29:59<06:13, 20.73s/it]"
     ]
    },
    {
     "name": "stdout",
     "output_type": "stream",
     "text": [
      "[I 2025-07-05 07:59:28,204] Trial 81 finished with value: 0.8517376273727976 and parameters: {'rf_n_estimators': 500, 'rf_max_depth': 19, 'xgb_n_estimators': 150, 'xgb_learning_rate': 0.07174591814147432, 'xgb_max_depth': 13, 'xgb_subsample': 0.5143285586773861, 'xgb_colsample_bytree': 0.8894603537240697, 'xgb_gamma': 0.5689167435257363, 'xgb_reg_lambda': 2.341187088893828, 'xgb_reg_alpha': 1.5411830286239245, 'xgb_scale_pos_weight': 1.7695227908584017, 'lgb_n_estimators': 400, 'lgb_learning_rate': 0.06439444491891567, 'lgb_max_depth': 19, 'lgb_num_leaves': 20, 'lgb_min_child_samples': 100, 'lr_C': 1.080345130530061, 'lr_penalty': 'l2', 'lr_solver': 'lbfgs'}. Best is trial 12 with value: 0.8563034183824358.\n"
     ]
    },
    {
     "name": "stderr",
     "output_type": "stream",
     "text": [
      "Best trial: 12. Best value: 0.856303:  83%|███████████████████████████████████▋       | 83/100 [30:19<05:46, 20.40s/it]"
     ]
    },
    {
     "name": "stdout",
     "output_type": "stream",
     "text": [
      "[I 2025-07-05 07:59:47,804] Trial 82 finished with value: 0.8559057111951796 and parameters: {'rf_n_estimators': 500, 'rf_max_depth': 19, 'xgb_n_estimators': 150, 'xgb_learning_rate': 0.06363552949358894, 'xgb_max_depth': 12, 'xgb_subsample': 0.5681547887574636, 'xgb_colsample_bytree': 0.6360016520530801, 'xgb_gamma': 1.3071334629458218, 'xgb_reg_lambda': 1.6388455021663852, 'xgb_reg_alpha': 2.1235913830942863, 'xgb_scale_pos_weight': 1.443476556371072, 'lgb_n_estimators': 350, 'lgb_learning_rate': 0.074380482912799, 'lgb_max_depth': 17, 'lgb_num_leaves': 15, 'lgb_min_child_samples': 90, 'lr_C': 0.5694283371259199, 'lr_penalty': 'l2', 'lr_solver': 'lbfgs'}. Best is trial 12 with value: 0.8563034183824358.\n"
     ]
    },
    {
     "name": "stderr",
     "output_type": "stream",
     "text": [
      "Best trial: 12. Best value: 0.856303:  84%|████████████████████████████████████       | 84/100 [30:34<04:58, 18.67s/it]"
     ]
    },
    {
     "name": "stdout",
     "output_type": "stream",
     "text": [
      "[I 2025-07-05 08:00:02,461] Trial 83 finished with value: 0.8557583723316271 and parameters: {'rf_n_estimators': 300, 'rf_max_depth': 20, 'xgb_n_estimators': 200, 'xgb_learning_rate': 0.060717944156919286, 'xgb_max_depth': 12, 'xgb_subsample': 0.5668241785174191, 'xgb_colsample_bytree': 0.6282320310248928, 'xgb_gamma': 1.9476010296130741, 'xgb_reg_lambda': 1.3163493631787706, 'xgb_reg_alpha': 2.365496429516543, 'xgb_scale_pos_weight': 1.4993527025315376, 'lgb_n_estimators': 350, 'lgb_learning_rate': 0.03918139902761919, 'lgb_max_depth': 17, 'lgb_num_leaves': 15, 'lgb_min_child_samples': 90, 'lr_C': 0.6287085594917321, 'lr_penalty': 'l2', 'lr_solver': 'lbfgs'}. Best is trial 12 with value: 0.8563034183824358.\n"
     ]
    },
    {
     "name": "stderr",
     "output_type": "stream",
     "text": [
      "Best trial: 12. Best value: 0.856303:  85%|████████████████████████████████████▌      | 85/100 [30:48<04:21, 17.44s/it]"
     ]
    },
    {
     "name": "stdout",
     "output_type": "stream",
     "text": [
      "[I 2025-07-05 08:00:17,022] Trial 84 finished with value: 0.8555235285970522 and parameters: {'rf_n_estimators': 300, 'rf_max_depth': 19, 'xgb_n_estimators': 200, 'xgb_learning_rate': 0.06298025739971178, 'xgb_max_depth': 11, 'xgb_subsample': 0.5734717161563135, 'xgb_colsample_bytree': 0.5716915754039227, 'xgb_gamma': 0.8818678780538356, 'xgb_reg_lambda': 1.3018818202378457, 'xgb_reg_alpha': 2.1235112328036, 'xgb_scale_pos_weight': 1.4664704739590877, 'lgb_n_estimators': 350, 'lgb_learning_rate': 0.03933715406777512, 'lgb_max_depth': 17, 'lgb_num_leaves': 15, 'lgb_min_child_samples': 90, 'lr_C': 0.6684815878762682, 'lr_penalty': 'l2', 'lr_solver': 'lbfgs'}. Best is trial 12 with value: 0.8563034183824358.\n"
     ]
    },
    {
     "name": "stderr",
     "output_type": "stream",
     "text": [
      "Best trial: 12. Best value: 0.856303:  86%|████████████████████████████████████▉      | 86/100 [31:05<04:01, 17.25s/it]"
     ]
    },
    {
     "name": "stdout",
     "output_type": "stream",
     "text": [
      "[I 2025-07-05 08:00:33,830] Trial 85 finished with value: 0.8555983660340855 and parameters: {'rf_n_estimators': 300, 'rf_max_depth': 20, 'xgb_n_estimators': 200, 'xgb_learning_rate': 0.06109657628110682, 'xgb_max_depth': 11, 'xgb_subsample': 0.5663423184787885, 'xgb_colsample_bytree': 0.563690146071262, 'xgb_gamma': 1.4913466875371801, 'xgb_reg_lambda': 1.1211314726112167, 'xgb_reg_alpha': 2.398203112272212, 'xgb_scale_pos_weight': 1.5052990789918992, 'lgb_n_estimators': 500, 'lgb_learning_rate': 0.04111680444139859, 'lgb_max_depth': 17, 'lgb_num_leaves': 15, 'lgb_min_child_samples': 100, 'lr_C': 0.4726149949635002, 'lr_penalty': 'l2', 'lr_solver': 'lbfgs'}. Best is trial 12 with value: 0.8563034183824358.\n"
     ]
    },
    {
     "name": "stderr",
     "output_type": "stream",
     "text": [
      "Best trial: 12. Best value: 0.856303:  87%|█████████████████████████████████████▍     | 87/100 [31:22<03:43, 17.16s/it]"
     ]
    },
    {
     "name": "stdout",
     "output_type": "stream",
     "text": [
      "[I 2025-07-05 08:00:50,798] Trial 86 finished with value: 0.8556323647086773 and parameters: {'rf_n_estimators': 300, 'rf_max_depth': 19, 'xgb_n_estimators': 200, 'xgb_learning_rate': 0.05717234711578622, 'xgb_max_depth': 11, 'xgb_subsample': 0.5656091294135313, 'xgb_colsample_bytree': 0.5711311645509979, 'xgb_gamma': 1.9263587337245527, 'xgb_reg_lambda': 1.1286325940300288, 'xgb_reg_alpha': 2.1984850150520203, 'xgb_scale_pos_weight': 1.4856369738148139, 'lgb_n_estimators': 500, 'lgb_learning_rate': 0.03621991955834541, 'lgb_max_depth': 17, 'lgb_num_leaves': 15, 'lgb_min_child_samples': 100, 'lr_C': 0.5636794670258003, 'lr_penalty': 'l2', 'lr_solver': 'lbfgs'}. Best is trial 12 with value: 0.8563034183824358.\n"
     ]
    },
    {
     "name": "stderr",
     "output_type": "stream",
     "text": [
      "Best trial: 12. Best value: 0.856303:  88%|█████████████████████████████████████▊     | 88/100 [31:37<03:19, 16.65s/it]"
     ]
    },
    {
     "name": "stdout",
     "output_type": "stream",
     "text": [
      "[I 2025-07-05 08:01:06,254] Trial 87 finished with value: 0.8546011914487662 and parameters: {'rf_n_estimators': 250, 'rf_max_depth': 18, 'xgb_n_estimators': 250, 'xgb_learning_rate': 0.06349898888012571, 'xgb_max_depth': 8, 'xgb_subsample': 0.5928310598015567, 'xgb_colsample_bytree': 0.5640424864011137, 'xgb_gamma': 2.028193667338874, 'xgb_reg_lambda': 0.644196825320213, 'xgb_reg_alpha': 2.144014817021308, 'xgb_scale_pos_weight': 1.3957358775337132, 'lgb_n_estimators': 500, 'lgb_learning_rate': 0.039500337101683027, 'lgb_max_depth': 17, 'lgb_num_leaves': 15, 'lgb_min_child_samples': 100, 'lr_C': 2.3073486917509243, 'lr_penalty': 'l2', 'lr_solver': 'lbfgs'}. Best is trial 12 with value: 0.8563034183824358.\n"
     ]
    },
    {
     "name": "stderr",
     "output_type": "stream",
     "text": [
      "Best trial: 12. Best value: 0.856303:  89%|██████████████████████████████████████▎    | 89/100 [32:05<03:38, 19.83s/it]"
     ]
    },
    {
     "name": "stdout",
     "output_type": "stream",
     "text": [
      "[I 2025-07-05 08:01:33,490] Trial 88 finished with value: 0.8450139649357326 and parameters: {'rf_n_estimators': 300, 'rf_max_depth': 19, 'xgb_n_estimators': 200, 'xgb_learning_rate': 0.05867300173437351, 'xgb_max_depth': 9, 'xgb_subsample': 0.6073207443844473, 'xgb_colsample_bytree': 0.5352146752314085, 'xgb_gamma': 1.9506487829863848, 'xgb_reg_lambda': 1.1639466512920345, 'xgb_reg_alpha': 2.4474863867960943, 'xgb_scale_pos_weight': 9.783628872579431, 'lgb_n_estimators': 500, 'lgb_learning_rate': 0.03309689826269255, 'lgb_max_depth': 18, 'lgb_num_leaves': 105, 'lgb_min_child_samples': 100, 'lr_C': 1.3938737734371212, 'lr_penalty': 'l2', 'lr_solver': 'lbfgs'}. Best is trial 12 with value: 0.8563034183824358.\n"
     ]
    },
    {
     "name": "stderr",
     "output_type": "stream",
     "text": [
      "Best trial: 12. Best value: 0.856303:  90%|██████████████████████████████████████▋    | 90/100 [32:21<03:06, 18.65s/it]"
     ]
    },
    {
     "name": "stdout",
     "output_type": "stream",
     "text": [
      "[I 2025-07-05 08:01:49,399] Trial 89 finished with value: 0.8535444202367204 and parameters: {'rf_n_estimators': 300, 'rf_max_depth': 20, 'xgb_n_estimators': 200, 'xgb_learning_rate': 0.11098540906642246, 'xgb_max_depth': 11, 'xgb_subsample': 0.5678732292204266, 'xgb_colsample_bytree': 0.5195141546487407, 'xgb_gamma': 1.5143393673098955, 'xgb_reg_lambda': 1.0132375216267089, 'xgb_reg_alpha': 2.237280515325004, 'xgb_scale_pos_weight': 2.352825401138759, 'lgb_n_estimators': 450, 'lgb_learning_rate': 0.027421738414354278, 'lgb_max_depth': 16, 'lgb_num_leaves': 15, 'lgb_min_child_samples': 100, 'lr_C': 0.49257746420737325, 'lr_penalty': 'l2', 'lr_solver': 'lbfgs'}. Best is trial 12 with value: 0.8563034183824358.\n"
     ]
    },
    {
     "name": "stderr",
     "output_type": "stream",
     "text": [
      "Best trial: 12. Best value: 0.856303:  91%|███████████████████████████████████████▏   | 91/100 [32:44<03:01, 20.14s/it]"
     ]
    },
    {
     "name": "stdout",
     "output_type": "stream",
     "text": [
      "[I 2025-07-05 08:02:13,019] Trial 90 finished with value: 0.8538714145344648 and parameters: {'rf_n_estimators': 300, 'rf_max_depth': 17, 'xgb_n_estimators': 200, 'xgb_learning_rate': 0.05186280583920354, 'xgb_max_depth': 10, 'xgb_subsample': 0.6235366354740711, 'xgb_colsample_bytree': 0.573313699401897, 'xgb_gamma': 1.9013612649410139, 'xgb_reg_lambda': 1.3260243555132405, 'xgb_reg_alpha': 2.135961524611471, 'xgb_scale_pos_weight': 1.5375170139691885, 'lgb_n_estimators': 500, 'lgb_learning_rate': 0.03987651849920585, 'lgb_max_depth': 17, 'lgb_num_leaves': 30, 'lgb_min_child_samples': 100, 'lr_C': 0.6120923254499752, 'lr_penalty': 'l2', 'lr_solver': 'lbfgs'}. Best is trial 12 with value: 0.8563034183824358.\n"
     ]
    },
    {
     "name": "stderr",
     "output_type": "stream",
     "text": [
      "Best trial: 12. Best value: 0.856303:  92%|███████████████████████████████████████▌   | 92/100 [33:01<02:32, 19.11s/it]"
     ]
    },
    {
     "name": "stdout",
     "output_type": "stream",
     "text": [
      "[I 2025-07-05 08:02:29,708] Trial 91 finished with value: 0.8549733279494319 and parameters: {'rf_n_estimators': 300, 'rf_max_depth': 19, 'xgb_n_estimators': 250, 'xgb_learning_rate': 0.060235354746231706, 'xgb_max_depth': 11, 'xgb_subsample': 0.5700498381581784, 'xgb_colsample_bytree': 0.5923115328091988, 'xgb_gamma': 1.1960800021709403, 'xgb_reg_lambda': 1.3410570595072553, 'xgb_reg_alpha': 2.3940719301448374, 'xgb_scale_pos_weight': 2.114546585064418, 'lgb_n_estimators': 450, 'lgb_learning_rate': 0.029057775344524642, 'lgb_max_depth': 18, 'lgb_num_leaves': 15, 'lgb_min_child_samples': 90, 'lr_C': 1.0290639096336236, 'lr_penalty': 'l2', 'lr_solver': 'lbfgs'}. Best is trial 12 with value: 0.8563034183824358.\n"
     ]
    },
    {
     "name": "stderr",
     "output_type": "stream",
     "text": [
      "Best trial: 12. Best value: 0.856303:  93%|███████████████████████████████████████▉   | 93/100 [33:16<02:06, 18.05s/it]"
     ]
    },
    {
     "name": "stdout",
     "output_type": "stream",
     "text": [
      "[I 2025-07-05 08:02:45,283] Trial 92 finished with value: 0.8541699505855713 and parameters: {'rf_n_estimators': 250, 'rf_max_depth': 19, 'xgb_n_estimators': 250, 'xgb_learning_rate': 0.05958922654707051, 'xgb_max_depth': 11, 'xgb_subsample': 0.586046704657296, 'xgb_colsample_bytree': 0.5926504643661845, 'xgb_gamma': 1.1803100088870953, 'xgb_reg_lambda': 1.3323252295439176, 'xgb_reg_alpha': 2.302865221188774, 'xgb_scale_pos_weight': 2.0349150423833247, 'lgb_n_estimators': 500, 'lgb_learning_rate': 0.03316181767975379, 'lgb_max_depth': 18, 'lgb_num_leaves': 15, 'lgb_min_child_samples': 90, 'lr_C': 1.0841171058094528, 'lr_penalty': 'l2', 'lr_solver': 'lbfgs'}. Best is trial 12 with value: 0.8563034183824358.\n"
     ]
    },
    {
     "name": "stderr",
     "output_type": "stream",
     "text": [
      "Best trial: 12. Best value: 0.856303:  94%|████████████████████████████████████████▍  | 94/100 [33:36<01:50, 18.49s/it]"
     ]
    },
    {
     "name": "stdout",
     "output_type": "stream",
     "text": [
      "[I 2025-07-05 08:03:04,820] Trial 93 finished with value: 0.85462927148052 and parameters: {'rf_n_estimators': 350, 'rf_max_depth': 20, 'xgb_n_estimators': 250, 'xgb_learning_rate': 0.05530191286780662, 'xgb_max_depth': 10, 'xgb_subsample': 0.5688978239511402, 'xgb_colsample_bytree': 0.544267954232696, 'xgb_gamma': 1.2697373447006197, 'xgb_reg_lambda': 0.7846506942243133, 'xgb_reg_alpha': 2.391735159407426, 'xgb_scale_pos_weight': 1.2267713505018376, 'lgb_n_estimators': 450, 'lgb_learning_rate': 0.029686774805414876, 'lgb_max_depth': 17, 'lgb_num_leaves': 20, 'lgb_min_child_samples': 100, 'lr_C': 0.800838381874466, 'lr_penalty': 'l2', 'lr_solver': 'lbfgs'}. Best is trial 12 with value: 0.8563034183824358.\n"
     ]
    },
    {
     "name": "stderr",
     "output_type": "stream",
     "text": [
      "Best trial: 12. Best value: 0.856303:  95%|████████████████████████████████████████▊  | 95/100 [33:52<01:29, 17.90s/it]"
     ]
    },
    {
     "name": "stdout",
     "output_type": "stream",
     "text": [
      "[I 2025-07-05 08:03:21,326] Trial 94 finished with value: 0.8540646306282675 and parameters: {'rf_n_estimators': 300, 'rf_max_depth': 19, 'xgb_n_estimators': 200, 'xgb_learning_rate': 0.048198963784361074, 'xgb_max_depth': 11, 'xgb_subsample': 0.5493270781237806, 'xgb_colsample_bytree': 0.570204971436152, 'xgb_gamma': 1.475978586471684, 'xgb_reg_lambda': 1.5976284860301249, 'xgb_reg_alpha': 2.629521801087526, 'xgb_scale_pos_weight': 1.47841176571086, 'lgb_n_estimators': 500, 'lgb_learning_rate': 0.037430205910499184, 'lgb_max_depth': 20, 'lgb_num_leaves': 15, 'lgb_min_child_samples': 90, 'lr_C': 0.6180217299170522, 'lr_penalty': 'l2', 'lr_solver': 'lbfgs'}. Best is trial 12 with value: 0.8563034183824358.\n"
     ]
    },
    {
     "name": "stderr",
     "output_type": "stream",
     "text": [
      "Best trial: 12. Best value: 0.856303:  96%|█████████████████████████████████████████▎ | 96/100 [34:11<01:12, 18.05s/it]"
     ]
    },
    {
     "name": "stdout",
     "output_type": "stream",
     "text": [
      "[I 2025-07-05 08:03:39,731] Trial 95 finished with value: 0.854569271065181 and parameters: {'rf_n_estimators': 250, 'rf_max_depth': 20, 'xgb_n_estimators': 200, 'xgb_learning_rate': 0.06454337558135935, 'xgb_max_depth': 9, 'xgb_subsample': 0.5963600380083391, 'xgb_colsample_bytree': 0.5867769738822177, 'xgb_gamma': 2.1336348871869815, 'xgb_reg_lambda': 0.5194039782045868, 'xgb_reg_alpha': 1.839272500597421, 'xgb_scale_pos_weight': 1.6211349248186664, 'lgb_n_estimators': 450, 'lgb_learning_rate': 0.02333913800501274, 'lgb_max_depth': 18, 'lgb_num_leaves': 25, 'lgb_min_child_samples': 90, 'lr_C': 0.26749291239865863, 'lr_penalty': 'l2', 'lr_solver': 'lbfgs'}. Best is trial 12 with value: 0.8563034183824358.\n"
     ]
    },
    {
     "name": "stderr",
     "output_type": "stream",
     "text": [
      "Best trial: 12. Best value: 0.856303:  97%|█████████████████████████████████████████▋ | 97/100 [34:28<00:53, 17.84s/it]"
     ]
    },
    {
     "name": "stdout",
     "output_type": "stream",
     "text": [
      "[I 2025-07-05 08:03:57,085] Trial 96 finished with value: 0.8559219457384718 and parameters: {'rf_n_estimators': 300, 'rf_max_depth': 18, 'xgb_n_estimators': 250, 'xgb_learning_rate': 0.08265947291358121, 'xgb_max_depth': 11, 'xgb_subsample': 0.5734527966574798, 'xgb_colsample_bytree': 0.6025562433778306, 'xgb_gamma': 1.7104439377943539, 'xgb_reg_lambda': 1.0133397612574258, 'xgb_reg_alpha': 1.996400539057863, 'xgb_scale_pos_weight': 1.20432835721562, 'lgb_n_estimators': 450, 'lgb_learning_rate': 0.021276899323265396, 'lgb_max_depth': 16, 'lgb_num_leaves': 15, 'lgb_min_child_samples': 20, 'lr_C': 0.9124936067712104, 'lr_penalty': 'l2', 'lr_solver': 'lbfgs'}. Best is trial 12 with value: 0.8563034183824358.\n"
     ]
    },
    {
     "name": "stderr",
     "output_type": "stream",
     "text": [
      "Best trial: 12. Best value: 0.856303:  98%|██████████████████████████████████████████▏| 98/100 [35:04<00:46, 23.15s/it]"
     ]
    },
    {
     "name": "stdout",
     "output_type": "stream",
     "text": [
      "[I 2025-07-05 08:04:32,614] Trial 97 finished with value: 0.8551809028780378 and parameters: {'rf_n_estimators': 300, 'rf_max_depth': 18, 'xgb_n_estimators': 300, 'xgb_learning_rate': 0.07958259610988785, 'xgb_max_depth': 10, 'xgb_subsample': 0.5593976603755317, 'xgb_colsample_bytree': 0.6006223924143362, 'xgb_gamma': 2.4047073366652976, 'xgb_reg_lambda': 0.9500620655665033, 'xgb_reg_alpha': 1.9973822410067734, 'xgb_scale_pos_weight': 1.1701477675803484, 'lgb_n_estimators': 500, 'lgb_learning_rate': 0.018785052844022175, 'lgb_max_depth': 16, 'lgb_num_leaves': 20, 'lgb_min_child_samples': 20, 'lr_C': 0.9794728321363455, 'lr_penalty': 'l2', 'lr_solver': 'lbfgs'}. Best is trial 12 with value: 0.8563034183824358.\n"
     ]
    },
    {
     "name": "stderr",
     "output_type": "stream",
     "text": [
      "Best trial: 12. Best value: 0.856303:  99%|██████████████████████████████████████████▌| 99/100 [35:25<00:22, 22.64s/it]"
     ]
    },
    {
     "name": "stdout",
     "output_type": "stream",
     "text": [
      "[I 2025-07-05 08:04:54,078] Trial 98 finished with value: 0.8546136506971874 and parameters: {'rf_n_estimators': 350, 'rf_max_depth': 18, 'xgb_n_estimators': 250, 'xgb_learning_rate': 0.08109595395912493, 'xgb_max_depth': 10, 'xgb_subsample': 0.5577789801915052, 'xgb_colsample_bytree': 0.6027115845738792, 'xgb_gamma': 2.618289058195936, 'xgb_reg_lambda': 0.9771727941647516, 'xgb_reg_alpha': 2.0427934371441885, 'xgb_scale_pos_weight': 1.2117912484457802, 'lgb_n_estimators': 500, 'lgb_learning_rate': 0.016080533468016356, 'lgb_max_depth': 16, 'lgb_num_leaves': 20, 'lgb_min_child_samples': 20, 'lr_C': 0.4465533143267785, 'lr_penalty': 'l2', 'lr_solver': 'lbfgs'}. Best is trial 12 with value: 0.8563034183824358.\n"
     ]
    },
    {
     "name": "stderr",
     "output_type": "stream",
     "text": [
      "Best trial: 12. Best value: 0.856303: 100%|██████████████████████████████████████████| 100/100 [35:48<00:00, 21.49s/it]"
     ]
    },
    {
     "name": "stdout",
     "output_type": "stream",
     "text": [
      "[I 2025-07-05 08:05:16,955] Trial 99 finished with value: 0.8534240447623292 and parameters: {'rf_n_estimators': 300, 'rf_max_depth': 17, 'xgb_n_estimators': 300, 'xgb_learning_rate': 0.09053765179243115, 'xgb_max_depth': 9, 'xgb_subsample': 0.5422484611522549, 'xgb_colsample_bytree': 0.6253335732569206, 'xgb_gamma': 2.756834540592001, 'xgb_reg_lambda': 1.208123991744016, 'xgb_reg_alpha': 1.7182813913239787, 'xgb_scale_pos_weight': 1.1433723548165138, 'lgb_n_estimators': 500, 'lgb_learning_rate': 0.017894091790169896, 'lgb_max_depth': 16, 'lgb_num_leaves': 25, 'lgb_min_child_samples': 10, 'lr_C': 1.5002802202924705, 'lr_penalty': 'l2', 'lr_solver': 'lbfgs'}. Best is trial 12 with value: 0.8563034183824358.\n"
     ]
    },
    {
     "name": "stderr",
     "output_type": "stream",
     "text": [
      "\n"
     ]
    }
   ],
   "source": [
    "pruner = optuna.pruners.MedianPruner(n_startup_trials=5, n_warmup_steps=1)\n",
    "study = optuna.create_study(direction='maximize', pruner=pruner)\n",
    "study.optimize(objective, n_trials=100, show_progress_bar=True)"
   ]
  },
  {
   "cell_type": "code",
   "execution_count": 65,
   "id": "047a8fef-2cfb-4fa3-806b-6276d246bd4b",
   "metadata": {},
   "outputs": [
    {
     "name": "stdout",
     "output_type": "stream",
     "text": [
      "Best params:  {'rf_n_estimators': 500, 'rf_max_depth': 20, 'xgb_n_estimators': 100, 'xgb_learning_rate': 0.0840124453988488, 'xgb_max_depth': 13, 'xgb_subsample': 0.5117112906264014, 'xgb_colsample_bytree': 0.6568065078987277, 'xgb_gamma': 0.26977907758827957, 'xgb_reg_lambda': 2.400936463469613, 'xgb_reg_alpha': 2.7331628412517643, 'xgb_scale_pos_weight': 1.2746696770156922, 'lgb_n_estimators': 300, 'lgb_learning_rate': 0.07712469377154846, 'lgb_max_depth': 15, 'lgb_num_leaves': 15, 'lgb_min_child_samples': 90, 'lr_C': 0.6254034390330256, 'lr_penalty': 'l2', 'lr_solver': 'lbfgs'}\n",
      "Best value:  0.8563034183824358\n"
     ]
    }
   ],
   "source": [
    "print(\"Best params: \", study.best_params)\n",
    "print(\"Best value: \", study.best_value)"
   ]
  },
  {
   "cell_type": "code",
   "execution_count": 66,
   "id": "e6f7228b-e733-4e6b-8a85-5f3c9d0889b6",
   "metadata": {},
   "outputs": [],
   "source": [
    "rfc = RandomForestClassifier(\n",
    "    n_estimators=100,\n",
    "    max_depth=17,\n",
    "    random_state=42,\n",
    "    n_jobs=-1\n",
    ")\n",
    "\n",
    "xgb = XGBClassifier(\n",
    "    n_estimators=100,\n",
    "    learning_rate=0.05711522509359269,\n",
    "    max_depth=20,\n",
    "    subsample=0.8400305135748165,\n",
    "    colsample_bytree=0.5058880268128743,\n",
    "    gamma=2.893128125227293,\n",
    "    reg_lambda=2.316076702593192,\n",
    "    reg_alpha=1.2857080854092322,\n",
    "    scale_pos_weight=1.004982817889463,\n",
    "    use_label_encoder=False,\n",
    "    eval_metric='logloss',\n",
    "    random_state=42,\n",
    "    n_jobs=-1\n",
    ")\n",
    "\n",
    "lgbm = LGBMClassifier(\n",
    "    n_estimators=300,\n",
    "    learning_rate=0.04042560235052731,\n",
    "    max_depth=12,\n",
    "    num_leaves=60,\n",
    "    min_child_samples=30,\n",
    "    random_state=42,\n",
    "    n_jobs=-1\n",
    ")\n",
    "\n",
    "lr = LogisticRegression(\n",
    "    C=0.012664730646344463,\n",
    "    penalty='l2',\n",
    "    solver='lbfgs',\n",
    "    random_state=42\n",
    ")\n",
    "\n",
    "# Voting classifier (soft voting gives better probability-based results)\n",
    "voting_clf = VotingClassifier(\n",
    "    estimators=[\n",
    "        ('rf', rfc),\n",
    "        ('xgb', xgb),\n",
    "        ('lgb', lgbm),\n",
    "        ('lr', lr)\n",
    "    ],\n",
    "    voting='soft',\n",
    "    n_jobs=-1\n",
    ")"
   ]
  },
  {
   "cell_type": "code",
   "execution_count": 67,
   "id": "ab74221f-d614-41e5-b2ab-b6d8f9df0203",
   "metadata": {
    "scrolled": true
   },
   "outputs": [
    {
     "data": {
      "text/html": [
       "<style>#sk-container-id-2 {color: black;}#sk-container-id-2 pre{padding: 0;}#sk-container-id-2 div.sk-toggleable {background-color: white;}#sk-container-id-2 label.sk-toggleable__label {cursor: pointer;display: block;width: 100%;margin-bottom: 0;padding: 0.3em;box-sizing: border-box;text-align: center;}#sk-container-id-2 label.sk-toggleable__label-arrow:before {content: \"▸\";float: left;margin-right: 0.25em;color: #696969;}#sk-container-id-2 label.sk-toggleable__label-arrow:hover:before {color: black;}#sk-container-id-2 div.sk-estimator:hover label.sk-toggleable__label-arrow:before {color: black;}#sk-container-id-2 div.sk-toggleable__content {max-height: 0;max-width: 0;overflow: hidden;text-align: left;background-color: #f0f8ff;}#sk-container-id-2 div.sk-toggleable__content pre {margin: 0.2em;color: black;border-radius: 0.25em;background-color: #f0f8ff;}#sk-container-id-2 input.sk-toggleable__control:checked~div.sk-toggleable__content {max-height: 200px;max-width: 100%;overflow: auto;}#sk-container-id-2 input.sk-toggleable__control:checked~label.sk-toggleable__label-arrow:before {content: \"▾\";}#sk-container-id-2 div.sk-estimator input.sk-toggleable__control:checked~label.sk-toggleable__label {background-color: #d4ebff;}#sk-container-id-2 div.sk-label input.sk-toggleable__control:checked~label.sk-toggleable__label {background-color: #d4ebff;}#sk-container-id-2 input.sk-hidden--visually {border: 0;clip: rect(1px 1px 1px 1px);clip: rect(1px, 1px, 1px, 1px);height: 1px;margin: -1px;overflow: hidden;padding: 0;position: absolute;width: 1px;}#sk-container-id-2 div.sk-estimator {font-family: monospace;background-color: #f0f8ff;border: 1px dotted black;border-radius: 0.25em;box-sizing: border-box;margin-bottom: 0.5em;}#sk-container-id-2 div.sk-estimator:hover {background-color: #d4ebff;}#sk-container-id-2 div.sk-parallel-item::after {content: \"\";width: 100%;border-bottom: 1px solid gray;flex-grow: 1;}#sk-container-id-2 div.sk-label:hover label.sk-toggleable__label {background-color: #d4ebff;}#sk-container-id-2 div.sk-serial::before {content: \"\";position: absolute;border-left: 1px solid gray;box-sizing: border-box;top: 0;bottom: 0;left: 50%;z-index: 0;}#sk-container-id-2 div.sk-serial {display: flex;flex-direction: column;align-items: center;background-color: white;padding-right: 0.2em;padding-left: 0.2em;position: relative;}#sk-container-id-2 div.sk-item {position: relative;z-index: 1;}#sk-container-id-2 div.sk-parallel {display: flex;align-items: stretch;justify-content: center;background-color: white;position: relative;}#sk-container-id-2 div.sk-item::before, #sk-container-id-2 div.sk-parallel-item::before {content: \"\";position: absolute;border-left: 1px solid gray;box-sizing: border-box;top: 0;bottom: 0;left: 50%;z-index: -1;}#sk-container-id-2 div.sk-parallel-item {display: flex;flex-direction: column;z-index: 1;position: relative;background-color: white;}#sk-container-id-2 div.sk-parallel-item:first-child::after {align-self: flex-end;width: 50%;}#sk-container-id-2 div.sk-parallel-item:last-child::after {align-self: flex-start;width: 50%;}#sk-container-id-2 div.sk-parallel-item:only-child::after {width: 0;}#sk-container-id-2 div.sk-dashed-wrapped {border: 1px dashed gray;margin: 0 0.4em 0.5em 0.4em;box-sizing: border-box;padding-bottom: 0.4em;background-color: white;}#sk-container-id-2 div.sk-label label {font-family: monospace;font-weight: bold;display: inline-block;line-height: 1.2em;}#sk-container-id-2 div.sk-label-container {text-align: center;}#sk-container-id-2 div.sk-container {/* jupyter's `normalize.less` sets `[hidden] { display: none; }` but bootstrap.min.css set `[hidden] { display: none !important; }` so we also need the `!important` here to be able to override the default hidden behavior on the sphinx rendered scikit-learn.org. See: https://github.com/scikit-learn/scikit-learn/issues/21755 */display: inline-block !important;position: relative;}#sk-container-id-2 div.sk-text-repr-fallback {display: none;}</style><div id=\"sk-container-id-2\" class=\"sk-top-container\"><div class=\"sk-text-repr-fallback\"><pre>VotingClassifier(estimators=[(&#x27;rf&#x27;,\n",
       "                              RandomForestClassifier(max_depth=17, n_jobs=-1,\n",
       "                                                     random_state=42)),\n",
       "                             (&#x27;xgb&#x27;,\n",
       "                              XGBClassifier(base_score=None, booster=None,\n",
       "                                            callbacks=None,\n",
       "                                            colsample_bylevel=None,\n",
       "                                            colsample_bynode=None,\n",
       "                                            colsample_bytree=0.5058880268128743,\n",
       "                                            device=None,\n",
       "                                            early_stopping_rounds=None,\n",
       "                                            enable_categorical=False,\n",
       "                                            eval_metric=&#x27;logloss&#x27;,\n",
       "                                            feature_types=None,...\n",
       "                                            min_child_weight=None, missing=nan,\n",
       "                                            monotone_constraints=None,\n",
       "                                            multi_strategy=None,\n",
       "                                            n_estimators=100, n_jobs=-1,\n",
       "                                            num_parallel_tree=None, ...)),\n",
       "                             (&#x27;lgb&#x27;,\n",
       "                              LGBMClassifier(learning_rate=0.04042560235052731,\n",
       "                                             max_depth=12, min_child_samples=30,\n",
       "                                             n_estimators=300, n_jobs=-1,\n",
       "                                             num_leaves=60, random_state=42)),\n",
       "                             (&#x27;lr&#x27;,\n",
       "                              LogisticRegression(C=0.012664730646344463,\n",
       "                                                 random_state=42))],\n",
       "                 n_jobs=-1, voting=&#x27;soft&#x27;)</pre><b>In a Jupyter environment, please rerun this cell to show the HTML representation or trust the notebook. <br />On GitHub, the HTML representation is unable to render, please try loading this page with nbviewer.org.</b></div><div class=\"sk-container\" hidden><div class=\"sk-item sk-dashed-wrapped\"><div class=\"sk-label-container\"><div class=\"sk-label sk-toggleable\"><input class=\"sk-toggleable__control sk-hidden--visually\" id=\"sk-estimator-id-9\" type=\"checkbox\" ><label for=\"sk-estimator-id-9\" class=\"sk-toggleable__label sk-toggleable__label-arrow\">VotingClassifier</label><div class=\"sk-toggleable__content\"><pre>VotingClassifier(estimators=[(&#x27;rf&#x27;,\n",
       "                              RandomForestClassifier(max_depth=17, n_jobs=-1,\n",
       "                                                     random_state=42)),\n",
       "                             (&#x27;xgb&#x27;,\n",
       "                              XGBClassifier(base_score=None, booster=None,\n",
       "                                            callbacks=None,\n",
       "                                            colsample_bylevel=None,\n",
       "                                            colsample_bynode=None,\n",
       "                                            colsample_bytree=0.5058880268128743,\n",
       "                                            device=None,\n",
       "                                            early_stopping_rounds=None,\n",
       "                                            enable_categorical=False,\n",
       "                                            eval_metric=&#x27;logloss&#x27;,\n",
       "                                            feature_types=None,...\n",
       "                                            min_child_weight=None, missing=nan,\n",
       "                                            monotone_constraints=None,\n",
       "                                            multi_strategy=None,\n",
       "                                            n_estimators=100, n_jobs=-1,\n",
       "                                            num_parallel_tree=None, ...)),\n",
       "                             (&#x27;lgb&#x27;,\n",
       "                              LGBMClassifier(learning_rate=0.04042560235052731,\n",
       "                                             max_depth=12, min_child_samples=30,\n",
       "                                             n_estimators=300, n_jobs=-1,\n",
       "                                             num_leaves=60, random_state=42)),\n",
       "                             (&#x27;lr&#x27;,\n",
       "                              LogisticRegression(C=0.012664730646344463,\n",
       "                                                 random_state=42))],\n",
       "                 n_jobs=-1, voting=&#x27;soft&#x27;)</pre></div></div></div><div class=\"sk-parallel\"><div class=\"sk-parallel-item\"><div class=\"sk-item\"><div class=\"sk-label-container\"><div class=\"sk-label sk-toggleable\"><label>rf</label></div></div><div class=\"sk-serial\"><div class=\"sk-item\"><div class=\"sk-estimator sk-toggleable\"><input class=\"sk-toggleable__control sk-hidden--visually\" id=\"sk-estimator-id-10\" type=\"checkbox\" ><label for=\"sk-estimator-id-10\" class=\"sk-toggleable__label sk-toggleable__label-arrow\">RandomForestClassifier</label><div class=\"sk-toggleable__content\"><pre>RandomForestClassifier(max_depth=17, n_jobs=-1, random_state=42)</pre></div></div></div></div></div></div><div class=\"sk-parallel-item\"><div class=\"sk-item\"><div class=\"sk-label-container\"><div class=\"sk-label sk-toggleable\"><label>xgb</label></div></div><div class=\"sk-serial\"><div class=\"sk-item\"><div class=\"sk-estimator sk-toggleable\"><input class=\"sk-toggleable__control sk-hidden--visually\" id=\"sk-estimator-id-11\" type=\"checkbox\" ><label for=\"sk-estimator-id-11\" class=\"sk-toggleable__label sk-toggleable__label-arrow\">XGBClassifier</label><div class=\"sk-toggleable__content\"><pre>XGBClassifier(base_score=None, booster=None, callbacks=None,\n",
       "              colsample_bylevel=None, colsample_bynode=None,\n",
       "              colsample_bytree=0.5058880268128743, device=None,\n",
       "              early_stopping_rounds=None, enable_categorical=False,\n",
       "              eval_metric=&#x27;logloss&#x27;, feature_types=None, feature_weights=None,\n",
       "              gamma=2.893128125227293, grow_policy=None, importance_type=None,\n",
       "              interaction_constraints=None, learning_rate=0.05711522509359269,\n",
       "              max_bin=None, max_cat_threshold=None, max_cat_to_onehot=None,\n",
       "              max_delta_step=None, max_depth=20, max_leaves=None,\n",
       "              min_child_weight=None, missing=nan, monotone_constraints=None,\n",
       "              multi_strategy=None, n_estimators=100, n_jobs=-1,\n",
       "              num_parallel_tree=None, ...)</pre></div></div></div></div></div></div><div class=\"sk-parallel-item\"><div class=\"sk-item\"><div class=\"sk-label-container\"><div class=\"sk-label sk-toggleable\"><label>lgb</label></div></div><div class=\"sk-serial\"><div class=\"sk-item\"><div class=\"sk-estimator sk-toggleable\"><input class=\"sk-toggleable__control sk-hidden--visually\" id=\"sk-estimator-id-12\" type=\"checkbox\" ><label for=\"sk-estimator-id-12\" class=\"sk-toggleable__label sk-toggleable__label-arrow\">LGBMClassifier</label><div class=\"sk-toggleable__content\"><pre>LGBMClassifier(learning_rate=0.04042560235052731, max_depth=12,\n",
       "               min_child_samples=30, n_estimators=300, n_jobs=-1, num_leaves=60,\n",
       "               random_state=42)</pre></div></div></div></div></div></div><div class=\"sk-parallel-item\"><div class=\"sk-item\"><div class=\"sk-label-container\"><div class=\"sk-label sk-toggleable\"><label>lr</label></div></div><div class=\"sk-serial\"><div class=\"sk-item\"><div class=\"sk-estimator sk-toggleable\"><input class=\"sk-toggleable__control sk-hidden--visually\" id=\"sk-estimator-id-13\" type=\"checkbox\" ><label for=\"sk-estimator-id-13\" class=\"sk-toggleable__label sk-toggleable__label-arrow\">LogisticRegression</label><div class=\"sk-toggleable__content\"><pre>LogisticRegression(C=0.012664730646344463, random_state=42)</pre></div></div></div></div></div></div></div></div></div></div>"
      ],
      "text/plain": [
       "VotingClassifier(estimators=[('rf',\n",
       "                              RandomForestClassifier(max_depth=17, n_jobs=-1,\n",
       "                                                     random_state=42)),\n",
       "                             ('xgb',\n",
       "                              XGBClassifier(base_score=None, booster=None,\n",
       "                                            callbacks=None,\n",
       "                                            colsample_bylevel=None,\n",
       "                                            colsample_bynode=None,\n",
       "                                            colsample_bytree=0.5058880268128743,\n",
       "                                            device=None,\n",
       "                                            early_stopping_rounds=None,\n",
       "                                            enable_categorical=False,\n",
       "                                            eval_metric='logloss',\n",
       "                                            feature_types=None,...\n",
       "                                            min_child_weight=None, missing=nan,\n",
       "                                            monotone_constraints=None,\n",
       "                                            multi_strategy=None,\n",
       "                                            n_estimators=100, n_jobs=-1,\n",
       "                                            num_parallel_tree=None, ...)),\n",
       "                             ('lgb',\n",
       "                              LGBMClassifier(learning_rate=0.04042560235052731,\n",
       "                                             max_depth=12, min_child_samples=30,\n",
       "                                             n_estimators=300, n_jobs=-1,\n",
       "                                             num_leaves=60, random_state=42)),\n",
       "                             ('lr',\n",
       "                              LogisticRegression(C=0.012664730646344463,\n",
       "                                                 random_state=42))],\n",
       "                 n_jobs=-1, voting='soft')"
      ]
     },
     "execution_count": 67,
     "metadata": {},
     "output_type": "execute_result"
    }
   ],
   "source": [
    "voting_clf.fit(smote_X_train, smote_y_train)"
   ]
  },
  {
   "cell_type": "code",
   "execution_count": 68,
   "id": "3690a789-24ac-4f52-8941-d2c2ba84050f",
   "metadata": {
    "scrolled": true
   },
   "outputs": [],
   "source": [
    "pre_2 = voting_clf.predict(smote_X_test)"
   ]
  },
  {
   "cell_type": "code",
   "execution_count": 69,
   "id": "df1731d0-cf35-4de3-9b36-14b71866836b",
   "metadata": {},
   "outputs": [],
   "source": [
    "cm_2 = confusion_matrix(smote_y_test, pre_2)\n",
    "cr_2 = classification_report(smote_y_test, pre_2)"
   ]
  },
  {
   "cell_type": "code",
   "execution_count": 70,
   "id": "b72b7618-6c1b-4f75-8dbf-accb7bf68b5e",
   "metadata": {},
   "outputs": [
    {
     "name": "stdout",
     "output_type": "stream",
     "text": [
      "[[1504   35]\n",
      " [ 531 1008]]\n"
     ]
    }
   ],
   "source": [
    "print(cm_2)"
   ]
  },
  {
   "cell_type": "code",
   "execution_count": 71,
   "id": "d9301f34-81e5-43a8-80d5-9e4fe7a20ad9",
   "metadata": {},
   "outputs": [
    {
     "name": "stdout",
     "output_type": "stream",
     "text": [
      "              precision    recall  f1-score   support\n",
      "\n",
      "           0       0.74      0.98      0.84      1539\n",
      "           1       0.97      0.65      0.78      1539\n",
      "\n",
      "    accuracy                           0.82      3078\n",
      "   macro avg       0.85      0.82      0.81      3078\n",
      "weighted avg       0.85      0.82      0.81      3078\n",
      "\n"
     ]
    }
   ],
   "source": [
    "print(cr_2)"
   ]
  },
  {
   "cell_type": "code",
   "execution_count": 72,
   "id": "218f87c9-43d9-444c-bd31-43c41ac3d2bc",
   "metadata": {},
   "outputs": [],
   "source": [
    "rfc_smf = RandomForestClassifier(random_state = 42)"
   ]
  },
  {
   "cell_type": "code",
   "execution_count": 73,
   "id": "bfc277ed-e843-4238-874e-67b4e4a7bbed",
   "metadata": {},
   "outputs": [
    {
     "data": {
      "text/html": [
       "<style>#sk-container-id-3 {color: black;}#sk-container-id-3 pre{padding: 0;}#sk-container-id-3 div.sk-toggleable {background-color: white;}#sk-container-id-3 label.sk-toggleable__label {cursor: pointer;display: block;width: 100%;margin-bottom: 0;padding: 0.3em;box-sizing: border-box;text-align: center;}#sk-container-id-3 label.sk-toggleable__label-arrow:before {content: \"▸\";float: left;margin-right: 0.25em;color: #696969;}#sk-container-id-3 label.sk-toggleable__label-arrow:hover:before {color: black;}#sk-container-id-3 div.sk-estimator:hover label.sk-toggleable__label-arrow:before {color: black;}#sk-container-id-3 div.sk-toggleable__content {max-height: 0;max-width: 0;overflow: hidden;text-align: left;background-color: #f0f8ff;}#sk-container-id-3 div.sk-toggleable__content pre {margin: 0.2em;color: black;border-radius: 0.25em;background-color: #f0f8ff;}#sk-container-id-3 input.sk-toggleable__control:checked~div.sk-toggleable__content {max-height: 200px;max-width: 100%;overflow: auto;}#sk-container-id-3 input.sk-toggleable__control:checked~label.sk-toggleable__label-arrow:before {content: \"▾\";}#sk-container-id-3 div.sk-estimator input.sk-toggleable__control:checked~label.sk-toggleable__label {background-color: #d4ebff;}#sk-container-id-3 div.sk-label input.sk-toggleable__control:checked~label.sk-toggleable__label {background-color: #d4ebff;}#sk-container-id-3 input.sk-hidden--visually {border: 0;clip: rect(1px 1px 1px 1px);clip: rect(1px, 1px, 1px, 1px);height: 1px;margin: -1px;overflow: hidden;padding: 0;position: absolute;width: 1px;}#sk-container-id-3 div.sk-estimator {font-family: monospace;background-color: #f0f8ff;border: 1px dotted black;border-radius: 0.25em;box-sizing: border-box;margin-bottom: 0.5em;}#sk-container-id-3 div.sk-estimator:hover {background-color: #d4ebff;}#sk-container-id-3 div.sk-parallel-item::after {content: \"\";width: 100%;border-bottom: 1px solid gray;flex-grow: 1;}#sk-container-id-3 div.sk-label:hover label.sk-toggleable__label {background-color: #d4ebff;}#sk-container-id-3 div.sk-serial::before {content: \"\";position: absolute;border-left: 1px solid gray;box-sizing: border-box;top: 0;bottom: 0;left: 50%;z-index: 0;}#sk-container-id-3 div.sk-serial {display: flex;flex-direction: column;align-items: center;background-color: white;padding-right: 0.2em;padding-left: 0.2em;position: relative;}#sk-container-id-3 div.sk-item {position: relative;z-index: 1;}#sk-container-id-3 div.sk-parallel {display: flex;align-items: stretch;justify-content: center;background-color: white;position: relative;}#sk-container-id-3 div.sk-item::before, #sk-container-id-3 div.sk-parallel-item::before {content: \"\";position: absolute;border-left: 1px solid gray;box-sizing: border-box;top: 0;bottom: 0;left: 50%;z-index: -1;}#sk-container-id-3 div.sk-parallel-item {display: flex;flex-direction: column;z-index: 1;position: relative;background-color: white;}#sk-container-id-3 div.sk-parallel-item:first-child::after {align-self: flex-end;width: 50%;}#sk-container-id-3 div.sk-parallel-item:last-child::after {align-self: flex-start;width: 50%;}#sk-container-id-3 div.sk-parallel-item:only-child::after {width: 0;}#sk-container-id-3 div.sk-dashed-wrapped {border: 1px dashed gray;margin: 0 0.4em 0.5em 0.4em;box-sizing: border-box;padding-bottom: 0.4em;background-color: white;}#sk-container-id-3 div.sk-label label {font-family: monospace;font-weight: bold;display: inline-block;line-height: 1.2em;}#sk-container-id-3 div.sk-label-container {text-align: center;}#sk-container-id-3 div.sk-container {/* jupyter's `normalize.less` sets `[hidden] { display: none; }` but bootstrap.min.css set `[hidden] { display: none !important; }` so we also need the `!important` here to be able to override the default hidden behavior on the sphinx rendered scikit-learn.org. See: https://github.com/scikit-learn/scikit-learn/issues/21755 */display: inline-block !important;position: relative;}#sk-container-id-3 div.sk-text-repr-fallback {display: none;}</style><div id=\"sk-container-id-3\" class=\"sk-top-container\"><div class=\"sk-text-repr-fallback\"><pre>RandomForestClassifier(random_state=42)</pre><b>In a Jupyter environment, please rerun this cell to show the HTML representation or trust the notebook. <br />On GitHub, the HTML representation is unable to render, please try loading this page with nbviewer.org.</b></div><div class=\"sk-container\" hidden><div class=\"sk-item\"><div class=\"sk-estimator sk-toggleable\"><input class=\"sk-toggleable__control sk-hidden--visually\" id=\"sk-estimator-id-14\" type=\"checkbox\" checked><label for=\"sk-estimator-id-14\" class=\"sk-toggleable__label sk-toggleable__label-arrow\">RandomForestClassifier</label><div class=\"sk-toggleable__content\"><pre>RandomForestClassifier(random_state=42)</pre></div></div></div></div></div>"
      ],
      "text/plain": [
       "RandomForestClassifier(random_state=42)"
      ]
     },
     "execution_count": 73,
     "metadata": {},
     "output_type": "execute_result"
    }
   ],
   "source": [
    "rfc_smf.fit(smote_X_train, smote_y_train)"
   ]
  },
  {
   "cell_type": "markdown",
   "id": "9662907f-adf7-44eb-8501-1f23f46201b0",
   "metadata": {},
   "source": [
    "## 🧠 Feature Selection with SelectFromModel\n",
    "\n",
    "We apply feature selection to reduce dimensionality and improve model performance. A `VotingClassifier` is used to identify the most important features via `SelectFromModel`.\n"
   ]
  },
  {
   "cell_type": "code",
   "execution_count": 74,
   "id": "354f0104-9cd8-4869-b933-6ff6253f11cc",
   "metadata": {},
   "outputs": [],
   "source": [
    "from sklearn.feature_selection import SelectFromModel"
   ]
  },
  {
   "cell_type": "code",
   "execution_count": 75,
   "id": "31b1c8e7-ada0-45b7-bb82-aae5aca71e94",
   "metadata": {},
   "outputs": [],
   "source": [
    "sfm = SelectFromModel(rfc_smf, threshold='median')"
   ]
  },
  {
   "cell_type": "code",
   "execution_count": 76,
   "id": "05d55d8f-65ab-4505-9ac3-8502c3e44e31",
   "metadata": {},
   "outputs": [
    {
     "data": {
      "text/html": [
       "<style>#sk-container-id-4 {color: black;}#sk-container-id-4 pre{padding: 0;}#sk-container-id-4 div.sk-toggleable {background-color: white;}#sk-container-id-4 label.sk-toggleable__label {cursor: pointer;display: block;width: 100%;margin-bottom: 0;padding: 0.3em;box-sizing: border-box;text-align: center;}#sk-container-id-4 label.sk-toggleable__label-arrow:before {content: \"▸\";float: left;margin-right: 0.25em;color: #696969;}#sk-container-id-4 label.sk-toggleable__label-arrow:hover:before {color: black;}#sk-container-id-4 div.sk-estimator:hover label.sk-toggleable__label-arrow:before {color: black;}#sk-container-id-4 div.sk-toggleable__content {max-height: 0;max-width: 0;overflow: hidden;text-align: left;background-color: #f0f8ff;}#sk-container-id-4 div.sk-toggleable__content pre {margin: 0.2em;color: black;border-radius: 0.25em;background-color: #f0f8ff;}#sk-container-id-4 input.sk-toggleable__control:checked~div.sk-toggleable__content {max-height: 200px;max-width: 100%;overflow: auto;}#sk-container-id-4 input.sk-toggleable__control:checked~label.sk-toggleable__label-arrow:before {content: \"▾\";}#sk-container-id-4 div.sk-estimator input.sk-toggleable__control:checked~label.sk-toggleable__label {background-color: #d4ebff;}#sk-container-id-4 div.sk-label input.sk-toggleable__control:checked~label.sk-toggleable__label {background-color: #d4ebff;}#sk-container-id-4 input.sk-hidden--visually {border: 0;clip: rect(1px 1px 1px 1px);clip: rect(1px, 1px, 1px, 1px);height: 1px;margin: -1px;overflow: hidden;padding: 0;position: absolute;width: 1px;}#sk-container-id-4 div.sk-estimator {font-family: monospace;background-color: #f0f8ff;border: 1px dotted black;border-radius: 0.25em;box-sizing: border-box;margin-bottom: 0.5em;}#sk-container-id-4 div.sk-estimator:hover {background-color: #d4ebff;}#sk-container-id-4 div.sk-parallel-item::after {content: \"\";width: 100%;border-bottom: 1px solid gray;flex-grow: 1;}#sk-container-id-4 div.sk-label:hover label.sk-toggleable__label {background-color: #d4ebff;}#sk-container-id-4 div.sk-serial::before {content: \"\";position: absolute;border-left: 1px solid gray;box-sizing: border-box;top: 0;bottom: 0;left: 50%;z-index: 0;}#sk-container-id-4 div.sk-serial {display: flex;flex-direction: column;align-items: center;background-color: white;padding-right: 0.2em;padding-left: 0.2em;position: relative;}#sk-container-id-4 div.sk-item {position: relative;z-index: 1;}#sk-container-id-4 div.sk-parallel {display: flex;align-items: stretch;justify-content: center;background-color: white;position: relative;}#sk-container-id-4 div.sk-item::before, #sk-container-id-4 div.sk-parallel-item::before {content: \"\";position: absolute;border-left: 1px solid gray;box-sizing: border-box;top: 0;bottom: 0;left: 50%;z-index: -1;}#sk-container-id-4 div.sk-parallel-item {display: flex;flex-direction: column;z-index: 1;position: relative;background-color: white;}#sk-container-id-4 div.sk-parallel-item:first-child::after {align-self: flex-end;width: 50%;}#sk-container-id-4 div.sk-parallel-item:last-child::after {align-self: flex-start;width: 50%;}#sk-container-id-4 div.sk-parallel-item:only-child::after {width: 0;}#sk-container-id-4 div.sk-dashed-wrapped {border: 1px dashed gray;margin: 0 0.4em 0.5em 0.4em;box-sizing: border-box;padding-bottom: 0.4em;background-color: white;}#sk-container-id-4 div.sk-label label {font-family: monospace;font-weight: bold;display: inline-block;line-height: 1.2em;}#sk-container-id-4 div.sk-label-container {text-align: center;}#sk-container-id-4 div.sk-container {/* jupyter's `normalize.less` sets `[hidden] { display: none; }` but bootstrap.min.css set `[hidden] { display: none !important; }` so we also need the `!important` here to be able to override the default hidden behavior on the sphinx rendered scikit-learn.org. See: https://github.com/scikit-learn/scikit-learn/issues/21755 */display: inline-block !important;position: relative;}#sk-container-id-4 div.sk-text-repr-fallback {display: none;}</style><div id=\"sk-container-id-4\" class=\"sk-top-container\"><div class=\"sk-text-repr-fallback\"><pre>SelectFromModel(estimator=RandomForestClassifier(random_state=42),\n",
       "                threshold=&#x27;median&#x27;)</pre><b>In a Jupyter environment, please rerun this cell to show the HTML representation or trust the notebook. <br />On GitHub, the HTML representation is unable to render, please try loading this page with nbviewer.org.</b></div><div class=\"sk-container\" hidden><div class=\"sk-item sk-dashed-wrapped\"><div class=\"sk-label-container\"><div class=\"sk-label sk-toggleable\"><input class=\"sk-toggleable__control sk-hidden--visually\" id=\"sk-estimator-id-15\" type=\"checkbox\" ><label for=\"sk-estimator-id-15\" class=\"sk-toggleable__label sk-toggleable__label-arrow\">SelectFromModel</label><div class=\"sk-toggleable__content\"><pre>SelectFromModel(estimator=RandomForestClassifier(random_state=42),\n",
       "                threshold=&#x27;median&#x27;)</pre></div></div></div><div class=\"sk-parallel\"><div class=\"sk-parallel-item\"><div class=\"sk-item\"><div class=\"sk-label-container\"><div class=\"sk-label sk-toggleable\"><input class=\"sk-toggleable__control sk-hidden--visually\" id=\"sk-estimator-id-16\" type=\"checkbox\" ><label for=\"sk-estimator-id-16\" class=\"sk-toggleable__label sk-toggleable__label-arrow\">estimator: RandomForestClassifier</label><div class=\"sk-toggleable__content\"><pre>RandomForestClassifier(random_state=42)</pre></div></div></div><div class=\"sk-serial\"><div class=\"sk-item\"><div class=\"sk-estimator sk-toggleable\"><input class=\"sk-toggleable__control sk-hidden--visually\" id=\"sk-estimator-id-17\" type=\"checkbox\" ><label for=\"sk-estimator-id-17\" class=\"sk-toggleable__label sk-toggleable__label-arrow\">RandomForestClassifier</label><div class=\"sk-toggleable__content\"><pre>RandomForestClassifier(random_state=42)</pre></div></div></div></div></div></div></div></div></div></div>"
      ],
      "text/plain": [
       "SelectFromModel(estimator=RandomForestClassifier(random_state=42),\n",
       "                threshold='median')"
      ]
     },
     "execution_count": 76,
     "metadata": {},
     "output_type": "execute_result"
    }
   ],
   "source": [
    "sfm.fit(smote_X_train, smote_y_train)"
   ]
  },
  {
   "cell_type": "code",
   "execution_count": 77,
   "id": "7f7c88e0-8cb7-49fd-836e-3f129af8657f",
   "metadata": {},
   "outputs": [],
   "source": [
    "# Step 1: Get selected features mask\n",
    "selected_mask = sfm.get_support()\n",
    "\n",
    "# Step 2: Use it to fetch actual column names from original DataFrame\n",
    "selected_features = smote_X_train.columns[selected_mask]\n",
    "\n",
    "# Step 3: Transform data\n",
    "X_train_new_arr = sfm.transform(smote_X_train)\n",
    "X_test_new_arr = sfm.transform(smote_X_test)\n",
    "\n",
    "# Step 4: Wrap with DataFrame (this time safely)\n",
    "X_train_new = pd.DataFrame(X_train_new_arr, columns=selected_features, index=smote_X_train.index)\n",
    "X_test_new = pd.DataFrame(X_test_new_arr, columns=selected_features, index=smote_X_test.index)\n"
   ]
  },
  {
   "cell_type": "code",
   "execution_count": 78,
   "id": "5272c4f8-67af-40fe-b5fd-e7a447dd3447",
   "metadata": {},
   "outputs": [],
   "source": [
    "final_pipe = Pipeline([\n",
    "    ('voting', voting_clf)\n",
    "])"
   ]
  },
  {
   "cell_type": "code",
   "execution_count": 79,
   "id": "36f67894-93a0-4d9a-ada0-225dae4a3385",
   "metadata": {},
   "outputs": [
    {
     "data": {
      "text/html": [
       "<style>#sk-container-id-5 {color: black;}#sk-container-id-5 pre{padding: 0;}#sk-container-id-5 div.sk-toggleable {background-color: white;}#sk-container-id-5 label.sk-toggleable__label {cursor: pointer;display: block;width: 100%;margin-bottom: 0;padding: 0.3em;box-sizing: border-box;text-align: center;}#sk-container-id-5 label.sk-toggleable__label-arrow:before {content: \"▸\";float: left;margin-right: 0.25em;color: #696969;}#sk-container-id-5 label.sk-toggleable__label-arrow:hover:before {color: black;}#sk-container-id-5 div.sk-estimator:hover label.sk-toggleable__label-arrow:before {color: black;}#sk-container-id-5 div.sk-toggleable__content {max-height: 0;max-width: 0;overflow: hidden;text-align: left;background-color: #f0f8ff;}#sk-container-id-5 div.sk-toggleable__content pre {margin: 0.2em;color: black;border-radius: 0.25em;background-color: #f0f8ff;}#sk-container-id-5 input.sk-toggleable__control:checked~div.sk-toggleable__content {max-height: 200px;max-width: 100%;overflow: auto;}#sk-container-id-5 input.sk-toggleable__control:checked~label.sk-toggleable__label-arrow:before {content: \"▾\";}#sk-container-id-5 div.sk-estimator input.sk-toggleable__control:checked~label.sk-toggleable__label {background-color: #d4ebff;}#sk-container-id-5 div.sk-label input.sk-toggleable__control:checked~label.sk-toggleable__label {background-color: #d4ebff;}#sk-container-id-5 input.sk-hidden--visually {border: 0;clip: rect(1px 1px 1px 1px);clip: rect(1px, 1px, 1px, 1px);height: 1px;margin: -1px;overflow: hidden;padding: 0;position: absolute;width: 1px;}#sk-container-id-5 div.sk-estimator {font-family: monospace;background-color: #f0f8ff;border: 1px dotted black;border-radius: 0.25em;box-sizing: border-box;margin-bottom: 0.5em;}#sk-container-id-5 div.sk-estimator:hover {background-color: #d4ebff;}#sk-container-id-5 div.sk-parallel-item::after {content: \"\";width: 100%;border-bottom: 1px solid gray;flex-grow: 1;}#sk-container-id-5 div.sk-label:hover label.sk-toggleable__label {background-color: #d4ebff;}#sk-container-id-5 div.sk-serial::before {content: \"\";position: absolute;border-left: 1px solid gray;box-sizing: border-box;top: 0;bottom: 0;left: 50%;z-index: 0;}#sk-container-id-5 div.sk-serial {display: flex;flex-direction: column;align-items: center;background-color: white;padding-right: 0.2em;padding-left: 0.2em;position: relative;}#sk-container-id-5 div.sk-item {position: relative;z-index: 1;}#sk-container-id-5 div.sk-parallel {display: flex;align-items: stretch;justify-content: center;background-color: white;position: relative;}#sk-container-id-5 div.sk-item::before, #sk-container-id-5 div.sk-parallel-item::before {content: \"\";position: absolute;border-left: 1px solid gray;box-sizing: border-box;top: 0;bottom: 0;left: 50%;z-index: -1;}#sk-container-id-5 div.sk-parallel-item {display: flex;flex-direction: column;z-index: 1;position: relative;background-color: white;}#sk-container-id-5 div.sk-parallel-item:first-child::after {align-self: flex-end;width: 50%;}#sk-container-id-5 div.sk-parallel-item:last-child::after {align-self: flex-start;width: 50%;}#sk-container-id-5 div.sk-parallel-item:only-child::after {width: 0;}#sk-container-id-5 div.sk-dashed-wrapped {border: 1px dashed gray;margin: 0 0.4em 0.5em 0.4em;box-sizing: border-box;padding-bottom: 0.4em;background-color: white;}#sk-container-id-5 div.sk-label label {font-family: monospace;font-weight: bold;display: inline-block;line-height: 1.2em;}#sk-container-id-5 div.sk-label-container {text-align: center;}#sk-container-id-5 div.sk-container {/* jupyter's `normalize.less` sets `[hidden] { display: none; }` but bootstrap.min.css set `[hidden] { display: none !important; }` so we also need the `!important` here to be able to override the default hidden behavior on the sphinx rendered scikit-learn.org. See: https://github.com/scikit-learn/scikit-learn/issues/21755 */display: inline-block !important;position: relative;}#sk-container-id-5 div.sk-text-repr-fallback {display: none;}</style><div id=\"sk-container-id-5\" class=\"sk-top-container\"><div class=\"sk-text-repr-fallback\"><pre>Pipeline(steps=[(&#x27;voting&#x27;,\n",
       "                 VotingClassifier(estimators=[(&#x27;rf&#x27;,\n",
       "                                               RandomForestClassifier(max_depth=17,\n",
       "                                                                      n_jobs=-1,\n",
       "                                                                      random_state=42)),\n",
       "                                              (&#x27;xgb&#x27;,\n",
       "                                               XGBClassifier(base_score=None,\n",
       "                                                             booster=None,\n",
       "                                                             callbacks=None,\n",
       "                                                             colsample_bylevel=None,\n",
       "                                                             colsample_bynode=None,\n",
       "                                                             colsample_bytree=0.5058880268128743,\n",
       "                                                             device=None,\n",
       "                                                             early_stopping_rounds=None,\n",
       "                                                             enable_categorical=False,\n",
       "                                                             eval_metric=&#x27;lo...\n",
       "                                                             missing=nan,\n",
       "                                                             monotone_constraints=None,\n",
       "                                                             multi_strategy=None,\n",
       "                                                             n_estimators=100,\n",
       "                                                             n_jobs=-1,\n",
       "                                                             num_parallel_tree=None, ...)),\n",
       "                                              (&#x27;lgb&#x27;,\n",
       "                                               LGBMClassifier(learning_rate=0.04042560235052731,\n",
       "                                                              max_depth=12,\n",
       "                                                              min_child_samples=30,\n",
       "                                                              n_estimators=300,\n",
       "                                                              n_jobs=-1,\n",
       "                                                              num_leaves=60,\n",
       "                                                              random_state=42)),\n",
       "                                              (&#x27;lr&#x27;,\n",
       "                                               LogisticRegression(C=0.012664730646344463,\n",
       "                                                                  random_state=42))],\n",
       "                                  n_jobs=-1, voting=&#x27;soft&#x27;))])</pre><b>In a Jupyter environment, please rerun this cell to show the HTML representation or trust the notebook. <br />On GitHub, the HTML representation is unable to render, please try loading this page with nbviewer.org.</b></div><div class=\"sk-container\" hidden><div class=\"sk-item sk-dashed-wrapped\"><div class=\"sk-label-container\"><div class=\"sk-label sk-toggleable\"><input class=\"sk-toggleable__control sk-hidden--visually\" id=\"sk-estimator-id-18\" type=\"checkbox\" ><label for=\"sk-estimator-id-18\" class=\"sk-toggleable__label sk-toggleable__label-arrow\">Pipeline</label><div class=\"sk-toggleable__content\"><pre>Pipeline(steps=[(&#x27;voting&#x27;,\n",
       "                 VotingClassifier(estimators=[(&#x27;rf&#x27;,\n",
       "                                               RandomForestClassifier(max_depth=17,\n",
       "                                                                      n_jobs=-1,\n",
       "                                                                      random_state=42)),\n",
       "                                              (&#x27;xgb&#x27;,\n",
       "                                               XGBClassifier(base_score=None,\n",
       "                                                             booster=None,\n",
       "                                                             callbacks=None,\n",
       "                                                             colsample_bylevel=None,\n",
       "                                                             colsample_bynode=None,\n",
       "                                                             colsample_bytree=0.5058880268128743,\n",
       "                                                             device=None,\n",
       "                                                             early_stopping_rounds=None,\n",
       "                                                             enable_categorical=False,\n",
       "                                                             eval_metric=&#x27;lo...\n",
       "                                                             missing=nan,\n",
       "                                                             monotone_constraints=None,\n",
       "                                                             multi_strategy=None,\n",
       "                                                             n_estimators=100,\n",
       "                                                             n_jobs=-1,\n",
       "                                                             num_parallel_tree=None, ...)),\n",
       "                                              (&#x27;lgb&#x27;,\n",
       "                                               LGBMClassifier(learning_rate=0.04042560235052731,\n",
       "                                                              max_depth=12,\n",
       "                                                              min_child_samples=30,\n",
       "                                                              n_estimators=300,\n",
       "                                                              n_jobs=-1,\n",
       "                                                              num_leaves=60,\n",
       "                                                              random_state=42)),\n",
       "                                              (&#x27;lr&#x27;,\n",
       "                                               LogisticRegression(C=0.012664730646344463,\n",
       "                                                                  random_state=42))],\n",
       "                                  n_jobs=-1, voting=&#x27;soft&#x27;))])</pre></div></div></div><div class=\"sk-serial\"><div class=\"sk-item sk-dashed-wrapped\"><div class=\"sk-label-container\"><div class=\"sk-label sk-toggleable\"><input class=\"sk-toggleable__control sk-hidden--visually\" id=\"sk-estimator-id-19\" type=\"checkbox\" ><label for=\"sk-estimator-id-19\" class=\"sk-toggleable__label sk-toggleable__label-arrow\">voting: VotingClassifier</label><div class=\"sk-toggleable__content\"><pre>VotingClassifier(estimators=[(&#x27;rf&#x27;,\n",
       "                              RandomForestClassifier(max_depth=17, n_jobs=-1,\n",
       "                                                     random_state=42)),\n",
       "                             (&#x27;xgb&#x27;,\n",
       "                              XGBClassifier(base_score=None, booster=None,\n",
       "                                            callbacks=None,\n",
       "                                            colsample_bylevel=None,\n",
       "                                            colsample_bynode=None,\n",
       "                                            colsample_bytree=0.5058880268128743,\n",
       "                                            device=None,\n",
       "                                            early_stopping_rounds=None,\n",
       "                                            enable_categorical=False,\n",
       "                                            eval_metric=&#x27;logloss&#x27;,\n",
       "                                            feature_types=None,...\n",
       "                                            min_child_weight=None, missing=nan,\n",
       "                                            monotone_constraints=None,\n",
       "                                            multi_strategy=None,\n",
       "                                            n_estimators=100, n_jobs=-1,\n",
       "                                            num_parallel_tree=None, ...)),\n",
       "                             (&#x27;lgb&#x27;,\n",
       "                              LGBMClassifier(learning_rate=0.04042560235052731,\n",
       "                                             max_depth=12, min_child_samples=30,\n",
       "                                             n_estimators=300, n_jobs=-1,\n",
       "                                             num_leaves=60, random_state=42)),\n",
       "                             (&#x27;lr&#x27;,\n",
       "                              LogisticRegression(C=0.012664730646344463,\n",
       "                                                 random_state=42))],\n",
       "                 n_jobs=-1, voting=&#x27;soft&#x27;)</pre></div></div></div><div class=\"sk-parallel\"><div class=\"sk-parallel-item\"><div class=\"sk-item\"><div class=\"sk-label-container\"><div class=\"sk-label sk-toggleable\"><label>rf</label></div></div><div class=\"sk-serial\"><div class=\"sk-item\"><div class=\"sk-estimator sk-toggleable\"><input class=\"sk-toggleable__control sk-hidden--visually\" id=\"sk-estimator-id-20\" type=\"checkbox\" ><label for=\"sk-estimator-id-20\" class=\"sk-toggleable__label sk-toggleable__label-arrow\">RandomForestClassifier</label><div class=\"sk-toggleable__content\"><pre>RandomForestClassifier(max_depth=17, n_jobs=-1, random_state=42)</pre></div></div></div></div></div></div><div class=\"sk-parallel-item\"><div class=\"sk-item\"><div class=\"sk-label-container\"><div class=\"sk-label sk-toggleable\"><label>xgb</label></div></div><div class=\"sk-serial\"><div class=\"sk-item\"><div class=\"sk-estimator sk-toggleable\"><input class=\"sk-toggleable__control sk-hidden--visually\" id=\"sk-estimator-id-21\" type=\"checkbox\" ><label for=\"sk-estimator-id-21\" class=\"sk-toggleable__label sk-toggleable__label-arrow\">XGBClassifier</label><div class=\"sk-toggleable__content\"><pre>XGBClassifier(base_score=None, booster=None, callbacks=None,\n",
       "              colsample_bylevel=None, colsample_bynode=None,\n",
       "              colsample_bytree=0.5058880268128743, device=None,\n",
       "              early_stopping_rounds=None, enable_categorical=False,\n",
       "              eval_metric=&#x27;logloss&#x27;, feature_types=None, feature_weights=None,\n",
       "              gamma=2.893128125227293, grow_policy=None, importance_type=None,\n",
       "              interaction_constraints=None, learning_rate=0.05711522509359269,\n",
       "              max_bin=None, max_cat_threshold=None, max_cat_to_onehot=None,\n",
       "              max_delta_step=None, max_depth=20, max_leaves=None,\n",
       "              min_child_weight=None, missing=nan, monotone_constraints=None,\n",
       "              multi_strategy=None, n_estimators=100, n_jobs=-1,\n",
       "              num_parallel_tree=None, ...)</pre></div></div></div></div></div></div><div class=\"sk-parallel-item\"><div class=\"sk-item\"><div class=\"sk-label-container\"><div class=\"sk-label sk-toggleable\"><label>lgb</label></div></div><div class=\"sk-serial\"><div class=\"sk-item\"><div class=\"sk-estimator sk-toggleable\"><input class=\"sk-toggleable__control sk-hidden--visually\" id=\"sk-estimator-id-22\" type=\"checkbox\" ><label for=\"sk-estimator-id-22\" class=\"sk-toggleable__label sk-toggleable__label-arrow\">LGBMClassifier</label><div class=\"sk-toggleable__content\"><pre>LGBMClassifier(learning_rate=0.04042560235052731, max_depth=12,\n",
       "               min_child_samples=30, n_estimators=300, n_jobs=-1, num_leaves=60,\n",
       "               random_state=42)</pre></div></div></div></div></div></div><div class=\"sk-parallel-item\"><div class=\"sk-item\"><div class=\"sk-label-container\"><div class=\"sk-label sk-toggleable\"><label>lr</label></div></div><div class=\"sk-serial\"><div class=\"sk-item\"><div class=\"sk-estimator sk-toggleable\"><input class=\"sk-toggleable__control sk-hidden--visually\" id=\"sk-estimator-id-23\" type=\"checkbox\" ><label for=\"sk-estimator-id-23\" class=\"sk-toggleable__label sk-toggleable__label-arrow\">LogisticRegression</label><div class=\"sk-toggleable__content\"><pre>LogisticRegression(C=0.012664730646344463, random_state=42)</pre></div></div></div></div></div></div></div></div></div></div></div></div>"
      ],
      "text/plain": [
       "Pipeline(steps=[('voting',\n",
       "                 VotingClassifier(estimators=[('rf',\n",
       "                                               RandomForestClassifier(max_depth=17,\n",
       "                                                                      n_jobs=-1,\n",
       "                                                                      random_state=42)),\n",
       "                                              ('xgb',\n",
       "                                               XGBClassifier(base_score=None,\n",
       "                                                             booster=None,\n",
       "                                                             callbacks=None,\n",
       "                                                             colsample_bylevel=None,\n",
       "                                                             colsample_bynode=None,\n",
       "                                                             colsample_bytree=0.5058880268128743,\n",
       "                                                             device=None,\n",
       "                                                             early_stopping_rounds=None,\n",
       "                                                             enable_categorical=False,\n",
       "                                                             eval_metric='lo...\n",
       "                                                             missing=nan,\n",
       "                                                             monotone_constraints=None,\n",
       "                                                             multi_strategy=None,\n",
       "                                                             n_estimators=100,\n",
       "                                                             n_jobs=-1,\n",
       "                                                             num_parallel_tree=None, ...)),\n",
       "                                              ('lgb',\n",
       "                                               LGBMClassifier(learning_rate=0.04042560235052731,\n",
       "                                                              max_depth=12,\n",
       "                                                              min_child_samples=30,\n",
       "                                                              n_estimators=300,\n",
       "                                                              n_jobs=-1,\n",
       "                                                              num_leaves=60,\n",
       "                                                              random_state=42)),\n",
       "                                              ('lr',\n",
       "                                               LogisticRegression(C=0.012664730646344463,\n",
       "                                                                  random_state=42))],\n",
       "                                  n_jobs=-1, voting='soft'))])"
      ]
     },
     "execution_count": 79,
     "metadata": {},
     "output_type": "execute_result"
    }
   ],
   "source": [
    "final_pipe.fit(X_train_new, smote_y_train)"
   ]
  },
  {
   "cell_type": "code",
   "execution_count": 80,
   "id": "6ae1c93a-1572-40c5-9278-b0ec63c50a35",
   "metadata": {},
   "outputs": [],
   "source": [
    "pre_3 = final_pipe.predict(X_test_new)"
   ]
  },
  {
   "cell_type": "markdown",
   "id": "4bca096c-2eaf-4c17-8498-eeea59faa660",
   "metadata": {},
   "source": [
    "## 📊 Final Model Evaluation\n",
    "\n",
    "The final model is evaluated using metrics like:\n",
    "- Accuracy\n",
    "- Precision\n",
    "- Recall\n",
    "- F1-score\n",
    "\n",
    "The confusion matrix and classification report offer a detailed view of how well the model performs across both classes (churn and non-churn).\n"
   ]
  },
  {
   "cell_type": "code",
   "execution_count": 81,
   "id": "e4f2f717-175a-43ba-ac41-3ca30358509b",
   "metadata": {},
   "outputs": [],
   "source": [
    "cm_3 = confusion_matrix(smote_y_test, pre_3)\n",
    "cr_3 = classification_report(smote_y_test, pre_3)"
   ]
  },
  {
   "cell_type": "code",
   "execution_count": 82,
   "id": "01c6b106-3f6b-45c2-a86e-f1c2c85e83c0",
   "metadata": {},
   "outputs": [
    {
     "name": "stdout",
     "output_type": "stream",
     "text": [
      "[[1485   54]\n",
      " [ 506 1033]]\n"
     ]
    }
   ],
   "source": [
    "print(cm_3)"
   ]
  },
  {
   "cell_type": "code",
   "execution_count": 83,
   "id": "4a15bf59-7693-4004-b7a2-92a63ba63d46",
   "metadata": {},
   "outputs": [
    {
     "name": "stdout",
     "output_type": "stream",
     "text": [
      "              precision    recall  f1-score   support\n",
      "\n",
      "           0       0.75      0.96      0.84      1539\n",
      "           1       0.95      0.67      0.79      1539\n",
      "\n",
      "    accuracy                           0.82      3078\n",
      "   macro avg       0.85      0.82      0.81      3078\n",
      "weighted avg       0.85      0.82      0.81      3078\n",
      "\n"
     ]
    }
   ],
   "source": [
    "print(cr_3)"
   ]
  },
  {
   "cell_type": "markdown",
   "id": "caac3f47-bf53-49ac-873c-689ec03edfc3",
   "metadata": {},
   "source": [
    "## ✅ Conclusion\n",
    "\n",
    "- Achieved **~83% accuracy and balanced precision/recall**\n",
    "- Used **SMOTE** to handle class imbalance\n",
    "- Employed **feature selection** to improve generalization\n",
    "- Combined powerful models in a **VotingClassifier**\n",
    "- Tuned using **Optuna**, showing professional-level ML practices\n"
   ]
  }
 ],
 "metadata": {
  "kernelspec": {
   "display_name": "Python [conda env:py310_env]",
   "language": "python",
   "name": "conda-env-py310_env-py"
  },
  "language_info": {
   "codemirror_mode": {
    "name": "ipython",
    "version": 3
   },
   "file_extension": ".py",
   "mimetype": "text/x-python",
   "name": "python",
   "nbconvert_exporter": "python",
   "pygments_lexer": "ipython3",
   "version": "3.10.18"
  }
 },
 "nbformat": 4,
 "nbformat_minor": 5
}
